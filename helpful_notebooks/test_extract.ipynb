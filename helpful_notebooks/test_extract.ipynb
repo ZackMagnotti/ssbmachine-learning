{
 "cells": [
  {
   "cell_type": "code",
   "execution_count": null,
   "metadata": {},
   "outputs": [],
   "source": [
    "run fixpath.py"
   ]
  },
  {
   "cell_type": "code",
   "execution_count": null,
   "metadata": {
    "scrolled": true
   },
   "outputs": [],
   "source": [
    "from src.extract import extract\n",
    "import numpy as np\n",
    "from scipy import sparse\n",
    "import os\n",
    "from slippi import Game"
   ]
  },
  {
   "cell_type": "code",
   "execution_count": null,
   "metadata": {},
   "outputs": [],
   "source": [
    "# dir_path = '/media/zack/vault/slippis/melee_public_slp_dataset'\n",
    "# f = os.listdir(dir_path)[1]\n",
    "# filepath = os.path.join(dir_path, f)\n",
    "# filepath"
   ]
  },
  {
   "cell_type": "code",
   "execution_count": null,
   "metadata": {},
   "outputs": [],
   "source": [
    "f_example = '/home/zack/slippi/Blynde/Game_20200714T183843.slp'\n",
    "f = '/home/zack/slippi/gh0st/Game_20201031T184411.slp'\n",
    "players = extract(f)\n",
    "game_id = players[0]['game_id']\n",
    "game_id"
   ]
  },
  {
   "cell_type": "code",
   "execution_count": null,
   "metadata": {},
   "outputs": [],
   "source": [
    "# game = Game(f)\n",
    "# game"
   ]
  },
  {
   "cell_type": "code",
   "execution_count": null,
   "metadata": {},
   "outputs": [],
   "source": [
    "p1, p2 = players[:2]"
   ]
  },
  {
   "cell_type": "code",
   "execution_count": null,
   "metadata": {
    "scrolled": true
   },
   "outputs": [],
   "source": [
    "print(f\"{p1['name']} ({p1['code']}): {p1['character']}\")\n",
    "print(f\"{p2['name']} ({p2['code']}): {p2['character']}\")"
   ]
  },
  {
   "cell_type": "code",
   "execution_count": null,
   "metadata": {},
   "outputs": [],
   "source": [
    "def presses(buttonstream):\n",
    "    return int(np.sum(np.abs(np.diff(buttonstream, axis=0)))/2)"
   ]
  },
  {
   "cell_type": "code",
   "execution_count": null,
   "metadata": {},
   "outputs": [],
   "source": [
    "resultA = presses(p1['istream'][:, 9]) > presses(p2['istream'][:, 9])\n",
    "resultB = presses(p1['istream'][:, 8]) > presses(p2['istream'][:, 8])\n",
    "resultXY = presses(p1['istream'][:, [6,7]]) > presses(p2['istream'][:, [6,7]])\n",
    "resultLR = presses(p1['istream'][:, [10,11]]) > presses(p2['istream'][:, [10,11]])\n",
    "resultZ = presses(p1['istream'][:, 12]) > presses(p2['istream'][:, 12])\n",
    "\n",
    "whoA = p1 if resultA else p2\n",
    "whoB = p1 if resultB else p2\n",
    "whoXY = p1 if resultXY else p2\n",
    "whoLR = p1 if resultLR else p2\n",
    "whoZ = p1 if resultZ else p2\n",
    "\n",
    "print(f\"{p1['name']}: {p1['character']}\")\n",
    "print('---VS---')\n",
    "print(f\"{p2['name']}: {p2['character']}\")\n",
    "\n",
    "print(f\"\\nMatch Length: {round(len(p1['istream'])/3600, 2)} minutes\")\n",
    "print(f\"Match ID: {p1['game_id']}\")\n",
    "\n",
    "print(f\"\\nMost A presses: {presses(whoA['istream'][:, 9])}\\n --- {whoA['name']} - {whoA['character']}\")\n",
    "print(f\"\\nMost B presses: {presses(whoB['istream'][:, 8])}\\n --- {whoB['name']} - {whoB['character']}\")\n",
    "print(f\"\\nMost X or Y presses: {presses(whoXY['istream'][:, [6,7]])}\\n --- {whoXY['name']} - {whoXY['character']}\")\n",
    "print(f\"\\nMost L or R presses: {presses(whoLR['istream'][:, [10,11]])}\\n --- {whoLR['name']} - {whoLR['character']}\")\n",
    "print(f\"\\nMost Z presses: {presses(whoZ['istream'][:, 12])}\\n --- {whoZ['name']} - {whoZ['character']}\")"
   ]
  },
  {
   "cell_type": "code",
   "execution_count": null,
   "metadata": {},
   "outputs": [],
   "source": [
    "if presses(p1['istream'][:, 6]) > presses(p1['istream'][:, 7]):\n",
    "    jump_button = 'Y'\n",
    "else:\n",
    "    jump_button = 'X'\n",
    "print(f\"{p1['name']} uses {jump_button} to jump\")\n",
    "\n",
    "if presses(p2['istream'][:, 6]) > presses(p2['istream'][:, 7]):\n",
    "    jump_button = 'Y'\n",
    "else:\n",
    "    jump_button = 'X'\n",
    "print(f\"{p2['name']} uses {jump_button} to jump\")"
   ]
  },
  {
   "cell_type": "code",
   "execution_count": null,
   "metadata": {},
   "outputs": [],
   "source": []
  },
  {
   "cell_type": "code",
   "execution_count": null,
   "metadata": {},
   "outputs": [],
   "source": []
  },
  {
   "cell_type": "code",
   "execution_count": null,
   "metadata": {},
   "outputs": [],
   "source": []
  },
  {
   "cell_type": "code",
   "execution_count": null,
   "metadata": {},
   "outputs": [],
   "source": []
  },
  {
   "cell_type": "code",
   "execution_count": null,
   "metadata": {},
   "outputs": [],
   "source": []
  }
 ],
 "metadata": {
  "kernelspec": {
   "display_name": "Python 3",
   "language": "python",
   "name": "python3"
  },
  "language_info": {
   "codemirror_mode": {
    "name": "ipython",
    "version": 3
   },
   "file_extension": ".py",
   "mimetype": "text/x-python",
   "name": "python",
   "nbconvert_exporter": "python",
   "pygments_lexer": "ipython3",
   "version": "3.8.5"
  }
 },
 "nbformat": 4,
 "nbformat_minor": 4
}
