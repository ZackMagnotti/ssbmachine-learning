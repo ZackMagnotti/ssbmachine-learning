{
 "cells": [
  {
   "cell_type": "code",
   "execution_count": 1,
   "metadata": {},
   "outputs": [],
   "source": [
    "from src.data import player_data\n",
    "from src.util import characters, display_progress\n",
    "from src.transfer import transfer_model\n",
    "from tensorflow import keras\n",
    "import numpy as np\n",
    "import pickle\n",
    "import os"
   ]
  },
  {
   "cell_type": "markdown",
   "metadata": {},
   "source": [
    "# Model with Pre-Trained Base"
   ]
  },
  {
   "cell_type": "code",
   "execution_count": 21,
   "metadata": {},
   "outputs": [],
   "source": [
    "model = transfer_model(\n",
    "    name = 'transfer_model', \n",
    "    base_model = 'models/SSBML-Base-Model'\n",
    ");"
   ]
  },
  {
   "cell_type": "code",
   "execution_count": 3,
   "metadata": {},
   "outputs": [
    {
     "name": "stdout",
     "output_type": "stream",
     "text": [
      "Model: \"transfer_model\"\n",
      "_________________________________________________________________\n",
      "Layer (type)                 Output Shape              Param #   \n",
      "=================================================================\n",
      "SSBML-Base-Model (Sequential (None, 512)               6537842   \n",
      "_________________________________________________________________\n",
      "head_densex2 (Sequential)    (None, 1)                 83329     \n",
      "=================================================================\n",
      "Total params: 6,621,171\n",
      "Trainable params: 82,817\n",
      "Non-trainable params: 6,538,354\n",
      "_________________________________________________________________\n"
     ]
    }
   ],
   "source": [
    "model.summary()"
   ]
  },
  {
   "cell_type": "markdown",
   "metadata": {},
   "source": [
    "# The Players"
   ]
  },
  {
   "cell_type": "code",
   "execution_count": 22,
   "metadata": {},
   "outputs": [
    {
     "name": "stdout",
     "output_type": "stream",
     "text": [
      "Blynde\tCuckDaddy  Lie0x  TCBL\tgh0st  ixwonkr\n"
     ]
    }
   ],
   "source": [
    "!ls data/player"
   ]
  },
  {
   "cell_type": "code",
   "execution_count": 25,
   "metadata": {},
   "outputs": [
    {
     "name": "stdout",
     "output_type": "stream",
     "text": [
      "4286\n"
     ]
    }
   ],
   "source": [
    "# how many clips does a player have?\n",
    "!ls data/player/Blynde/train | wc -l"
   ]
  },
  {
   "cell_type": "markdown",
   "metadata": {},
   "source": [
    "# The Player Data\n",
    "\n",
    "Player Data can be found in data/player/\\<player name\\>\n",
    "\n",
    "Nonplayer Data is taken from the large dataset data/character"
   ]
  },
  {
   "cell_type": "code",
   "execution_count": 4,
   "metadata": {},
   "outputs": [],
   "source": [
    "# name of the player we want to train/test on\n",
    "player_name = 'Blynde'\n",
    "\n",
    "player_dir = os.path.join('data/player', player_name)\n",
    "player_train_dir = os.path.join(player_dir, 'train')\n",
    "player_test_dir = os.path.join(player_dir, 'test')\n",
    "\n",
    "nonplayer_dir = 'data/character'\n",
    "nonplayer_train_dir = os.path.join(nonplayer_dir, 'train')\n",
    "nonplayer_test_dir = os.path.join(nonplayer_dir, 'test')"
   ]
  },
  {
   "cell_type": "code",
   "execution_count": 5,
   "metadata": {},
   "outputs": [
    {
     "name": "stdout",
     "output_type": "stream",
     "text": [
      "Training Data Located at: \n",
      "\t- data/player/Blynde/train \n",
      "\t- data/character/train \n",
      "\n",
      "Testing Data Located at: \n",
      "\t- data/player/Blynde/test \n",
      "\t- data/character/test \n",
      "\n"
     ]
    }
   ],
   "source": [
    "print(f'Training Data Located at: \\n\\t- {player_train_dir} \\n\\t- {nonplayer_train_dir} \\n')\n",
    "print(f'Testing Data Located at: \\n\\t- {player_test_dir} \\n\\t- {nonplayer_test_dir} \\n')"
   ]
  },
  {
   "cell_type": "markdown",
   "metadata": {},
   "source": [
    "# Testing"
   ]
  },
  {
   "cell_type": "code",
   "execution_count": 16,
   "metadata": {},
   "outputs": [
    {
     "name": "stdout",
     "output_type": "stream",
     "text": [
      "20/20 [==============================] - 1s 41ms/step - loss: 0.2771 - binary_accuracy: 0.8844\n",
      "\n",
      "Test score: 0.277\n",
      "Test accuracy: 88%\n"
     ]
    }
   ],
   "source": [
    "# testing data\n",
    "data_test_one_round = player_data(player_test_dir,\n",
    "                                  nonplayer_test_dir,\n",
    "                                  batch_size = 32,\n",
    "                                  repeat = False)\n",
    "\n",
    "score = model.evaluate(data_test_one_round, verbose=1)\n",
    "print('\\nTest score:', round(score[0], 3))\n",
    "print(f'Test accuracy: {round(score[1]*100)}%')"
   ]
  },
  {
   "cell_type": "markdown",
   "metadata": {},
   "source": [
    "# Confusion Matrix"
   ]
  },
  {
   "cell_type": "code",
   "execution_count": 17,
   "metadata": {},
   "outputs": [],
   "source": [
    "import seaborn as sn\n",
    "import pandas as pd\n",
    "from sklearn.metrics import confusion_matrix"
   ]
  },
  {
   "cell_type": "code",
   "execution_count": 18,
   "metadata": {},
   "outputs": [],
   "source": [
    "num_batches = 1\n",
    "data_conf = player_data(player_test_dir,\n",
    "                        nonplayer_test_dir,\n",
    "                        batch_size = 25,\n",
    "                        repeat=False)"
   ]
  },
  {
   "cell_type": "code",
   "execution_count": 19,
   "metadata": {},
   "outputs": [],
   "source": [
    "batch_preds = []\n",
    "batch_labels = []\n",
    "i = 0\n",
    "\n",
    "for xi, yi in data_conf:\n",
    "    batch_preds.append(np.around(model.predict(xi)).astype(int).reshape((-1)))\n",
    "    batch_labels.append(yi)\n",
    "    i += 1\n",
    "    if i > 500:\n",
    "        break\n",
    "    \n",
    "#     i+=1\n",
    "#     display_progress(i, num_batches)\n",
    "# display_progress(num_batches, num_batches)\n",
    "    \n",
    "pred = np.concatenate(batch_preds)\n",
    "labels = np.concatenate(batch_labels)\n",
    "\n",
    "conf_matrix = confusion_matrix(labels, pred, normalize='all')[::-1, ::-1] # reverse so true positive is top left, true negative is bottom right\n",
    "conf_matrix = np.around(conf_matrix, 3)\n",
    "conf_df = pd.DataFrame(conf_matrix, index=['player', 'nonplayer'], columns=['player', 'nonplayer'])"
   ]
  },
  {
   "cell_type": "code",
   "execution_count": 20,
   "metadata": {},
   "outputs": [
    {
     "data": {
      "text/html": [
       "<div>\n",
       "<style scoped>\n",
       "    .dataframe tbody tr th:only-of-type {\n",
       "        vertical-align: middle;\n",
       "    }\n",
       "\n",
       "    .dataframe tbody tr th {\n",
       "        vertical-align: top;\n",
       "    }\n",
       "\n",
       "    .dataframe thead th {\n",
       "        text-align: right;\n",
       "    }\n",
       "</style>\n",
       "<table border=\"1\" class=\"dataframe\">\n",
       "  <thead>\n",
       "    <tr style=\"text-align: right;\">\n",
       "      <th></th>\n",
       "      <th>player</th>\n",
       "      <th>nonplayer</th>\n",
       "    </tr>\n",
       "  </thead>\n",
       "  <tbody>\n",
       "    <tr>\n",
       "      <th>player</th>\n",
       "      <td>0.461</td>\n",
       "      <td>0.059</td>\n",
       "    </tr>\n",
       "    <tr>\n",
       "      <th>nonplayer</th>\n",
       "      <td>0.065</td>\n",
       "      <td>0.415</td>\n",
       "    </tr>\n",
       "  </tbody>\n",
       "</table>\n",
       "</div>"
      ],
      "text/plain": [
       "           player  nonplayer\n",
       "player      0.461      0.059\n",
       "nonplayer   0.065      0.415"
      ]
     },
     "execution_count": 20,
     "metadata": {},
     "output_type": "execute_result"
    }
   ],
   "source": [
    "conf_df"
   ]
  },
  {
   "cell_type": "markdown",
   "metadata": {},
   "source": [
    "# Training"
   ]
  },
  {
   "cell_type": "code",
   "execution_count": 8,
   "metadata": {},
   "outputs": [],
   "source": [
    "# training data\n",
    "small_batches = player_data(player_train_dir,\n",
    "                            nonplayer_train_dir,\n",
    "                            repeat = True,\n",
    "                            batch_size = 32)\n",
    "\n",
    "# training data with large batches\n",
    "big_batches = player_data(player_train_dir,\n",
    "                          nonplayer_train_dir,\n",
    "                          repeat = True,\n",
    "                          batch_size = 128)\n",
    "\n",
    "# testing data\n",
    "data_test = player_data(player_test_dir,\n",
    "                        nonplayer_test_dir,\n",
    "                        repeat = True,\n",
    "                        batch_size = 25)"
   ]
  },
  {
   "cell_type": "code",
   "execution_count": 9,
   "metadata": {},
   "outputs": [
    {
     "name": "stdout",
     "output_type": "stream",
     "text": [
      "Epoch 1/10\n",
      "300/300 [==============================] - 14s 45ms/step - loss: 0.5024 - binary_accuracy: 0.7534\n",
      "Epoch 2/10\n",
      "300/300 [==============================] - 13s 44ms/step - loss: 0.4031 - binary_accuracy: 0.8161\n",
      "Epoch 3/10\n",
      "300/300 [==============================] - 13s 44ms/step - loss: 0.3734 - binary_accuracy: 0.8336\n",
      "Epoch 4/10\n",
      "300/300 [==============================] - 13s 44ms/step - loss: 0.3577 - binary_accuracy: 0.8431\n",
      "Epoch 5/10\n",
      "300/300 [==============================] - 13s 44ms/step - loss: 0.3432 - binary_accuracy: 0.8492\n",
      "Epoch 6/10\n",
      "300/300 [==============================] - 13s 44ms/step - loss: 0.3294 - binary_accuracy: 0.8552\n",
      "Epoch 7/10\n",
      "300/300 [==============================] - 13s 44ms/step - loss: 0.3381 - binary_accuracy: 0.8503\n",
      "Epoch 8/10\n",
      "300/300 [==============================] - 13s 44ms/step - loss: 0.3236 - binary_accuracy: 0.8584\n",
      "Epoch 9/10\n",
      "300/300 [==============================] - 13s 45ms/step - loss: 0.3060 - binary_accuracy: 0.8678\n",
      "Epoch 10/10\n",
      "300/300 [==============================] - 14s 45ms/step - loss: 0.3202 - binary_accuracy: 0.8634\n",
      "\n",
      "Test score: 0.332\n",
      "Test accuracy: 85%\n"
     ]
    }
   ],
   "source": [
    "# Training Loop\n",
    "model.fit(small_batches,\n",
    "          epochs=10,\n",
    "          steps_per_epoch=300,\n",
    "          verbose=1)\n",
    "\n",
    "score = model.evaluate(data_test, verbose=0, steps=100)\n",
    "print('\\nTest score:', round(score[0], 3))\n",
    "print(f'Test accuracy: {round(score[1]*100)}%')"
   ]
  },
  {
   "cell_type": "code",
   "execution_count": 10,
   "metadata": {},
   "outputs": [
    {
     "name": "stdout",
     "output_type": "stream",
     "text": [
      "Epoch 1/5\n",
      "75/75 [==============================] - 14s 188ms/step - loss: 0.3148 - binary_accuracy: 0.8629\n",
      "Epoch 2/5\n",
      "75/75 [==============================] - 14s 185ms/step - loss: 0.2950 - binary_accuracy: 0.8735\n",
      "Epoch 3/5\n",
      "75/75 [==============================] - 14s 184ms/step - loss: 0.2784 - binary_accuracy: 0.8819\n",
      "Epoch 4/5\n",
      "75/75 [==============================] - 14s 186ms/step - loss: 0.2930 - binary_accuracy: 0.8776\n",
      "Epoch 5/5\n",
      "75/75 [==============================] - 14s 181ms/step - loss: 0.2883 - binary_accuracy: 0.8773\n",
      "\n",
      "Test score: 0.288\n",
      "Test accuracy: 88%\n"
     ]
    }
   ],
   "source": [
    "# Training Loop\n",
    "model.fit(big_batches,\n",
    "          epochs=5,\n",
    "          steps_per_epoch=75,\n",
    "          verbose=1)\n",
    "\n",
    "score = model.evaluate(data_test, verbose=0, steps=100)\n",
    "print('\\nTest score:', round(score[0], 3))\n",
    "print(f'Test accuracy: {round(score[1]*100)}%')"
   ]
  },
  {
   "cell_type": "code",
   "execution_count": null,
   "metadata": {},
   "outputs": [],
   "source": []
  },
  {
   "cell_type": "code",
   "execution_count": null,
   "metadata": {},
   "outputs": [],
   "source": []
  }
 ],
 "metadata": {
  "kernelspec": {
   "display_name": "Python 3",
   "language": "python",
   "name": "python3"
  },
  "language_info": {
   "codemirror_mode": {
    "name": "ipython",
    "version": 3
   },
   "file_extension": ".py",
   "mimetype": "text/x-python",
   "name": "python",
   "nbconvert_exporter": "python",
   "pygments_lexer": "ipython3",
   "version": "3.8.5"
  }
 },
 "nbformat": 4,
 "nbformat_minor": 4
}
