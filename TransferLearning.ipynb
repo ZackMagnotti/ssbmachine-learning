{
 "cells": [
  {
   "cell_type": "code",
   "execution_count": 1,
   "metadata": {},
   "outputs": [],
   "source": [
    "# local imports\n",
    "from src.transfer import replace_head, METRICS\n",
    "from src.data import player_data\n",
    "from src.util import display_progress\n",
    "\n",
    "# computation / deep learning imports\n",
    "from tensorflow import keras\n",
    "import numpy as np\n",
    "\n",
    "# os / filesystem imports\n",
    "import pickle\n",
    "import os\n",
    "\n",
    "# visualization imports\n",
    "from sklearn.metrics import confusion_matrix\n",
    "import pandas as pd"
   ]
  },
  {
   "cell_type": "markdown",
   "metadata": {},
   "source": [
    "# Model with Pre-Trained Base"
   ]
  },
  {
   "cell_type": "code",
   "execution_count": 2,
   "metadata": {},
   "outputs": [
    {
     "name": "stderr",
     "output_type": "stream",
     "text": [
      "\u001b[33mWARNING\u001b[0m: Importing a function (__inference_SSBML-Base-Model_layer_call_and_return_conditional_losses_1282758) with ops with custom gradients. Will likely fail if a gradient is requested.\n",
      "\u001b[33mWARNING\u001b[0m: Importing a function (__inference_SSBML-Base-Model_layer_call_and_return_conditional_losses_1282758) with ops with custom gradients. Will likely fail if a gradient is requested.\n",
      "\u001b[33mWARNING\u001b[0m: Importing a function (__inference_SSBML-Base-Model_layer_call_and_return_conditional_losses_1282758) with ops with custom gradients. Will likely fail if a gradient is requested.\n",
      "\u001b[33mWARNING\u001b[0m: Importing a function (__inference_SSBML-Base-Model_layer_call_and_return_conditional_losses_1282758) with ops with custom gradients. Will likely fail if a gradient is requested.\n",
      "\u001b[33mWARNING\u001b[0m: Importing a function (__inference_SSBML-Base-Model_layer_call_and_return_conditional_losses_1282758) with ops with custom gradients. Will likely fail if a gradient is requested.\n",
      "\u001b[33mWARNING\u001b[0m: Importing a function (__inference_SSBML-Base-Model_layer_call_and_return_conditional_losses_1282758) with ops with custom gradients. Will likely fail if a gradient is requested.\n",
      "\u001b[33mWARNING\u001b[0m: Importing a function (__inference_ConvCell-4_layer_call_and_return_conditional_losses_1283532) with ops with custom gradients. Will likely fail if a gradient is requested.\n",
      "\u001b[33mWARNING\u001b[0m: Importing a function (__inference_activation_2_layer_call_and_return_conditional_losses_1284374) with ops with custom gradients. Will likely fail if a gradient is requested.\n",
      "\u001b[33mWARNING\u001b[0m: Importing a function (__inference_conv1d_4_layer_call_and_return_conditional_losses_1283891) with ops with custom gradients. Will likely fail if a gradient is requested.\n",
      "\u001b[33mWARNING\u001b[0m: Importing a function (__inference_activation_3_layer_call_and_return_conditional_losses_1284517) with ops with custom gradients. Will likely fail if a gradient is requested.\n",
      "\u001b[33mWARNING\u001b[0m: Importing a function (__inference_conv1d_6_layer_call_and_return_conditional_losses_1284115) with ops with custom gradients. Will likely fail if a gradient is requested.\n",
      "\u001b[33mWARNING\u001b[0m: Importing a function (__inference_conv1d_7_layer_call_and_return_conditional_losses_1280886) with ops with custom gradients. Will likely fail if a gradient is requested.\n",
      "\u001b[33mWARNING\u001b[0m: Importing a function (__inference_ConvCell-1_layer_call_and_return_conditional_losses_1283204) with ops with custom gradients. Will likely fail if a gradient is requested.\n",
      "\u001b[33mWARNING\u001b[0m: Importing a function (__inference_conv1d_4_layer_call_and_return_conditional_losses_1280033) with ops with custom gradients. Will likely fail if a gradient is requested.\n",
      "\u001b[33mWARNING\u001b[0m: Importing a function (__inference_conv1d_7_layer_call_and_return_conditional_losses_1284254) with ops with custom gradients. Will likely fail if a gradient is requested.\n",
      "\u001b[33mWARNING\u001b[0m: Importing a function (__inference_conv1d_6_layer_call_and_return_conditional_losses_1280683) with ops with custom gradients. Will likely fail if a gradient is requested.\n",
      "\u001b[33mWARNING\u001b[0m: Importing a function (__inference_conv1d_5_layer_call_and_return_conditional_losses_1280358) with ops with custom gradients. Will likely fail if a gradient is requested.\n",
      "\u001b[33mWARNING\u001b[0m: Importing a function (__inference_conv1d_5_layer_call_and_return_conditional_losses_1284003) with ops with custom gradients. Will likely fail if a gradient is requested.\n",
      "\u001b[33mWARNING\u001b[0m: Importing a function (__inference_DenseCell-2_layer_call_and_return_conditional_losses_1283816) with ops with custom gradients. Will likely fail if a gradient is requested.\n",
      "\u001b[33mWARNING\u001b[0m: Importing a function (__inference_ConvCell-2_layer_call_and_return_conditional_losses_1283336) with ops with custom gradients. Will likely fail if a gradient is requested.\n",
      "\u001b[33mWARNING\u001b[0m: Importing a function (__inference_SSBML-Base-Model_layer_call_and_return_conditional_losses_1282960) with ops with custom gradients. Will likely fail if a gradient is requested.\n",
      "\u001b[33mWARNING\u001b[0m: Importing a function (__inference_SSBML-Base-Model_layer_call_and_return_conditional_losses_1282960) with ops with custom gradients. Will likely fail if a gradient is requested.\n",
      "\u001b[33mWARNING\u001b[0m: Importing a function (__inference_SSBML-Base-Model_layer_call_and_return_conditional_losses_1282960) with ops with custom gradients. Will likely fail if a gradient is requested.\n",
      "\u001b[33mWARNING\u001b[0m: Importing a function (__inference_SSBML-Base-Model_layer_call_and_return_conditional_losses_1282960) with ops with custom gradients. Will likely fail if a gradient is requested.\n",
      "\u001b[33mWARNING\u001b[0m: Importing a function (__inference_SSBML-Base-Model_layer_call_and_return_conditional_losses_1282960) with ops with custom gradients. Will likely fail if a gradient is requested.\n",
      "\u001b[33mWARNING\u001b[0m: Importing a function (__inference_SSBML-Base-Model_layer_call_and_return_conditional_losses_1282960) with ops with custom gradients. Will likely fail if a gradient is requested.\n",
      "\u001b[33mWARNING\u001b[0m: Importing a function (__inference_DenseCell-2_layer_call_and_return_conditional_losses_1283783) with ops with custom gradients. Will likely fail if a gradient is requested.\n",
      "\u001b[33mWARNING\u001b[0m: Importing a function (__inference_ConvCell-3_layer_call_and_return_conditional_losses_1283477) with ops with custom gradients. Will likely fail if a gradient is requested.\n",
      "\u001b[33mWARNING\u001b[0m: Importing a function (__inference_DenseCell-1_layer_call_and_return_conditional_losses_1283693) with ops with custom gradients. Will likely fail if a gradient is requested.\n",
      "\u001b[33mWARNING\u001b[0m: Importing a function (__inference_ConvCell-4_layer_call_and_return_conditional_losses_1283553) with ops with custom gradients. Will likely fail if a gradient is requested.\n",
      "\u001b[33mWARNING\u001b[0m: Importing a function (__inference_ConvCell-3_layer_call_and_return_conditional_losses_1283435) with ops with custom gradients. Will likely fail if a gradient is requested.\n",
      "\u001b[33mWARNING\u001b[0m: Importing a function (__inference__wrapped_model_1279853) with ops with custom gradients. Will likely fail if a gradient is requested.\n",
      "\u001b[33mWARNING\u001b[0m: Importing a function (__inference__wrapped_model_1279853) with ops with custom gradients. Will likely fail if a gradient is requested.\n",
      "\u001b[33mWARNING\u001b[0m: Importing a function (__inference__wrapped_model_1279853) with ops with custom gradients. Will likely fail if a gradient is requested.\n",
      "\u001b[33mWARNING\u001b[0m: Importing a function (__inference__wrapped_model_1279853) with ops with custom gradients. Will likely fail if a gradient is requested.\n",
      "\u001b[33mWARNING\u001b[0m: Importing a function (__inference__wrapped_model_1279853) with ops with custom gradients. Will likely fail if a gradient is requested.\n",
      "\u001b[33mWARNING\u001b[0m: Importing a function (__inference__wrapped_model_1279853) with ops with custom gradients. Will likely fail if a gradient is requested.\n",
      "\u001b[33mWARNING\u001b[0m: Importing a function (__inference_ConvCell-1_layer_call_and_return_conditional_losses_1283163) with ops with custom gradients. Will likely fail if a gradient is requested.\n",
      "\u001b[33mWARNING\u001b[0m: Importing a function (__inference_DenseCell-1_layer_call_and_return_conditional_losses_1283660) with ops with custom gradients. Will likely fail if a gradient is requested.\n",
      "\u001b[33mWARNING\u001b[0m: Importing a function (__inference_ConvCell-2_layer_call_and_return_conditional_losses_1283295) with ops with custom gradients. Will likely fail if a gradient is requested.\n",
      "\u001b[33mWARNING\u001b[0m: Importing a function (__inference_activation_2_layer_call_and_return_conditional_losses_1281183) with ops with custom gradients. Will likely fail if a gradient is requested.\n",
      "\u001b[33mWARNING\u001b[0m: Importing a function (__inference_activation_3_layer_call_and_return_conditional_losses_1281532) with ops with custom gradients. Will likely fail if a gradient is requested.\n"
     ]
    }
   ],
   "source": [
    "# load model\n",
    "model = keras.models.load_model('models/SSBML-Base-Model')\n",
    "\n",
    "# replace head\n",
    "model = replace_head(model)"
   ]
  },
  {
   "cell_type": "code",
   "execution_count": 3,
   "metadata": {},
   "outputs": [
    {
     "name": "stdout",
     "output_type": "stream",
     "text": [
      "Model: \"SSBML-Transfer-Model\"\n",
      "_________________________________________________________________\n",
      "Layer (type)                 Output Shape              Param #   \n",
      "=================================================================\n",
      "SSBML-Base-Model (Sequential (None, 512)               6537842   \n",
      "_________________________________________________________________\n",
      "Binary-Classifier (Sequentia (None, 1)                 83329     \n",
      "=================================================================\n",
      "Total params: 6,621,171\n",
      "Trainable params: 82,817\n",
      "Non-trainable params: 6,538,354\n",
      "_________________________________________________________________\n"
     ]
    }
   ],
   "source": [
    "model.summary()"
   ]
  },
  {
   "cell_type": "markdown",
   "metadata": {},
   "source": [
    "# The Players"
   ]
  },
  {
   "cell_type": "code",
   "execution_count": 4,
   "metadata": {},
   "outputs": [
    {
     "name": "stdout",
     "output_type": "stream",
     "text": [
      "Blynde\tCuckDaddy  gh0st  ixwonkr  Lie0x  TCBL\n"
     ]
    }
   ],
   "source": [
    "!ls data/player"
   ]
  },
  {
   "cell_type": "markdown",
   "metadata": {},
   "source": [
    "# The Player Data\n",
    "\n",
    "Player Data (clips played by our chosen player) can be found in data/player/\\<player name\\>\n",
    "\n",
    "Anonymous Data (clips not played by our chosen player) is taken from the large dataset data/character"
   ]
  },
  {
   "cell_type": "code",
   "execution_count": 5,
   "metadata": {},
   "outputs": [],
   "source": [
    "# name of the player we want to train/test on\n",
    "player_name = 'TCBL'"
   ]
  },
  {
   "cell_type": "code",
   "execution_count": 6,
   "metadata": {},
   "outputs": [
    {
     "name": "stdout",
     "output_type": "stream",
     "text": [
      "Training Data Located at: \n",
      "\t- data/player/TCBL/train \n",
      "\t- data/character/train \n",
      "\n",
      "Testing Data Located at: \n",
      "\t- data/player/TCBL/test \n",
      "\t- data/character/test \n",
      "\n",
      "Player Training Data Sample size: \n",
      "\t- 1822 \n",
      "\n",
      "Player Testing Data Sample size: \n",
      "\t- 222 \n",
      "\n"
     ]
    }
   ],
   "source": [
    "# set all filepath related variables\n",
    "\n",
    "player_dir = os.path.join('data/player', player_name)\n",
    "player_train_dir = os.path.join(player_dir, 'train')\n",
    "player_test_dir = os.path.join(player_dir, 'test')\n",
    "player_train_sample_size = len(os.listdir(player_train_dir))\n",
    "player_test_sample_size = len(os.listdir(player_test_dir))\n",
    "\n",
    "anonymous_dir = 'data/character'\n",
    "anonymous_train_dir = os.path.join(anonymous_dir, 'train')\n",
    "anonymous_test_dir = os.path.join(anonymous_dir, 'test')\n",
    "\n",
    "print(f'Training Data Located at: \\n\\t- {player_train_dir} \\n\\t- {anonymous_train_dir} \\n')\n",
    "print(f'Testing Data Located at: \\n\\t- {player_test_dir} \\n\\t- {anonymous_test_dir} \\n')\n",
    "print(f'Player Training Data Sample size: \\n\\t- {player_train_sample_size} \\n')\n",
    "print(f'Player Testing Data Sample size: \\n\\t- {player_test_sample_size} \\n')"
   ]
  },
  {
   "cell_type": "markdown",
   "metadata": {},
   "source": [
    "# Training\n",
    "\n",
    "Train the model on a mix of the chosen player's clips,\n",
    "and random anonymous clips from the Melee Public SLP Dataset"
   ]
  },
  {
   "cell_type": "markdown",
   "metadata": {},
   "source": [
    "## Data Generation"
   ]
  },
  {
   "cell_type": "code",
   "execution_count": 7,
   "metadata": {},
   "outputs": [],
   "source": [
    "# Adjustable Parameters\n",
    "# =====================\n",
    "\n",
    "DEFAULT_BATCH_SIZE = 16\n",
    "\n",
    "# Anonymous Clips / Chosen Player's Clips\n",
    "class_balance_ratio = 5\n",
    "\n",
    "# Affects batch_size and steps_per_epoch\n",
    "# Example: ratio of 2 would effectively \n",
    "#          double batch size and \n",
    "#          cut steps_per_epoch in half\n",
    "tuning_ratio = 1\n",
    "\n",
    "# =====================\n",
    "\n",
    "# Calculate number of steps per epoch for train/test loops.\n",
    "# One Epoch should iterate through our player's clips once, mixing them\n",
    "# with random anonymous clips at our given class balance ratio \n",
    "train_steps = (\n",
    "    (player_train_sample_size * (1 + class_balance_ratio))\n",
    "    // (tuning_ratio * DEFAULT_BATCH_SIZE)\n",
    ")\n",
    "    \n",
    "test_steps = (\n",
    "    (player_test_sample_size * (1 + class_balance_ratio))\n",
    "    // (tuning_ratio * DEFAULT_BATCH_SIZE)\n",
    ")\n",
    "\n",
    "# training data\n",
    "training_data = player_data(\n",
    "    player_train_dir,\n",
    "    anonymous_train_dir,\n",
    "    repeat = True,\n",
    "    batch_size = DEFAULT_BATCH_SIZE * tuning_ratio,\n",
    "    ratio = class_balance_ratio,\n",
    ")\n",
    "\n",
    "# testing data\n",
    "testing_data = player_data(\n",
    "    player_test_dir,\n",
    "    anonymous_test_dir,\n",
    "    repeat = True,\n",
    "    batch_size = DEFAULT_BATCH_SIZE * tuning_ratio,\n",
    "    ratio = class_balance_ratio,\n",
    ")"
   ]
  },
  {
   "cell_type": "markdown",
   "metadata": {},
   "source": [
    "## Training Loop"
   ]
  },
  {
   "cell_type": "code",
   "execution_count": 8,
   "metadata": {},
   "outputs": [
    {
     "name": "stdout",
     "output_type": "stream",
     "text": [
      "Epoch 1/10\n",
      "683/683 [==============================] - 174s 252ms/step - loss: 0.0417 - accuracy: 0.8586 - precision: 0.5773 - recall: 0.3647 - specificity: 0.9440\n",
      "Epoch 2/10\n",
      "683/683 [==============================] - 172s 252ms/step - loss: 0.0211 - accuracy: 0.9157 - precision: 0.8720 - recall: 0.5859 - specificity: 0.9826\n",
      "Epoch 3/10\n",
      "683/683 [==============================] - 175s 257ms/step - loss: 0.0178 - accuracy: 0.9272 - precision: 0.8767 - recall: 0.6412 - specificity: 0.9825\n",
      "Epoch 4/10\n",
      "683/683 [==============================] - 174s 255ms/step - loss: 0.0168 - accuracy: 0.9313 - precision: 0.9120 - recall: 0.6680 - specificity: 0.9865\n",
      "Epoch 5/10\n",
      "683/683 [==============================] - 174s 256ms/step - loss: 0.0155 - accuracy: 0.9351 - precision: 0.9005 - recall: 0.6974 - specificity: 0.9841\n",
      "Epoch 6/10\n",
      "683/683 [==============================] - 172s 252ms/step - loss: 0.0144 - accuracy: 0.9428 - precision: 0.9124 - recall: 0.7306 - specificity: 0.9858\n",
      "Epoch 7/10\n",
      "683/683 [==============================] - 175s 256ms/step - loss: 0.0137 - accuracy: 0.9452 - precision: 0.9198 - recall: 0.7349 - specificity: 0.9873\n",
      "Epoch 8/10\n",
      "683/683 [==============================] - 174s 255ms/step - loss: 0.0143 - accuracy: 0.9410 - precision: 0.9228 - recall: 0.7193 - specificity: 0.9875\n",
      "Epoch 9/10\n",
      "683/683 [==============================] - 174s 255ms/step - loss: 0.0130 - accuracy: 0.9465 - precision: 0.9191 - recall: 0.7361 - specificity: 0.9874\n",
      "Epoch 10/10\n",
      "683/683 [==============================] - 173s 253ms/step - loss: 0.0136 - accuracy: 0.9440 - precision: 0.9283 - recall: 0.7316 - specificity: 0.9883\n"
     ]
    }
   ],
   "source": [
    "model.fit(\n",
    "    training_data,\n",
    "    epochs = 10,\n",
    "    steps_per_epoch = train_steps,\n",
    "    verbose = 1,\n",
    ");"
   ]
  },
  {
   "cell_type": "code",
   "execution_count": 9,
   "metadata": {},
   "outputs": [],
   "source": [
    "# Adjustable Parameters\n",
    "# =====================\n",
    "\n",
    "DEFAULT_BATCH_SIZE = 16\n",
    "\n",
    "# Anonymous Clips / Chosen Player's Clips\n",
    "class_balance_ratio = 3\n",
    "\n",
    "# Affects batch_size and steps_per_epoch\n",
    "# Example: ratio of 2 would effectively \n",
    "#          double batch size and \n",
    "#          cut steps_per_epoch in half\n",
    "tuning_ratio = 1\n",
    "\n",
    "# =====================\n",
    "\n",
    "# Calculate number of steps per epoch for train/test loops.\n",
    "# One Epoch should iterate through our player's clips once, mixing them\n",
    "# with random anonymous clips at our given class balance ratio \n",
    "train_steps = (\n",
    "    (player_train_sample_size * (1 + class_balance_ratio))\n",
    "    // (tuning_ratio * DEFAULT_BATCH_SIZE)\n",
    ")\n",
    "    \n",
    "test_steps = (\n",
    "    (player_test_sample_size * (1 + class_balance_ratio))\n",
    "    // (tuning_ratio * DEFAULT_BATCH_SIZE)\n",
    ")\n",
    "\n",
    "# training data\n",
    "training_data = player_data(\n",
    "    player_train_dir,\n",
    "    anonymous_train_dir,\n",
    "    repeat = True,\n",
    "    batch_size = DEFAULT_BATCH_SIZE * tuning_ratio,\n",
    "    ratio = class_balance_ratio,\n",
    ")\n",
    "\n",
    "# testing data\n",
    "testing_data = player_data(\n",
    "    player_test_dir,\n",
    "    anonymous_test_dir,\n",
    "    repeat = True,\n",
    "    batch_size = DEFAULT_BATCH_SIZE * tuning_ratio,\n",
    "    ratio = class_balance_ratio,\n",
    ")"
   ]
  },
  {
   "cell_type": "code",
   "execution_count": 10,
   "metadata": {},
   "outputs": [
    {
     "name": "stdout",
     "output_type": "stream",
     "text": [
      "Epoch 1/5\n",
      "455/455 [==============================] - 117s 257ms/step - loss: 0.0160 - accuracy: 0.9348 - precision: 0.9318 - recall: 0.8045 - specificity: 0.9797\n",
      "Epoch 2/5\n",
      "455/455 [==============================] - 116s 256ms/step - loss: 0.0160 - accuracy: 0.9378 - precision: 0.9318 - recall: 0.8124 - specificity: 0.9800\n",
      "Epoch 3/5\n",
      "455/455 [==============================] - 115s 253ms/step - loss: 0.0161 - accuracy: 0.9364 - precision: 0.9324 - recall: 0.8058 - specificity: 0.9804\n",
      "Epoch 4/5\n",
      "455/455 [==============================] - 116s 255ms/step - loss: 0.0155 - accuracy: 0.9375 - precision: 0.9261 - recall: 0.8092 - specificity: 0.9791\n",
      "Epoch 5/5\n",
      "455/455 [==============================] - 117s 256ms/step - loss: 0.0150 - accuracy: 0.9385 - precision: 0.9352 - recall: 0.8098 - specificity: 0.9813\n"
     ]
    }
   ],
   "source": [
    "model.fit(\n",
    "    training_data,\n",
    "    epochs = 5,\n",
    "    steps_per_epoch = train_steps,\n",
    "    verbose = 1,\n",
    ");"
   ]
  },
  {
   "cell_type": "code",
   "execution_count": 11,
   "metadata": {},
   "outputs": [],
   "source": [
    "# Adjustable Parameters\n",
    "# =====================\n",
    "\n",
    "DEFAULT_BATCH_SIZE = 16\n",
    "\n",
    "# Anonymous Clips / Chosen Player's Clips\n",
    "class_balance_ratio = 2\n",
    "\n",
    "# Affects batch_size and steps_per_epoch\n",
    "# Example: ratio of 2 would effectively \n",
    "#          double batch size and \n",
    "#          cut steps_per_epoch in half\n",
    "tuning_ratio = 2\n",
    "\n",
    "# =====================\n",
    "\n",
    "# Calculate number of steps per epoch for train/test loops.\n",
    "# One Epoch should iterate through our player's clips once, mixing them\n",
    "# with random anonymous clips at our given class balance ratio \n",
    "train_steps = (\n",
    "    (player_train_sample_size * (1 + class_balance_ratio))\n",
    "    // (tuning_ratio * DEFAULT_BATCH_SIZE)\n",
    ")\n",
    "    \n",
    "test_steps = (\n",
    "    (player_test_sample_size * (1 + class_balance_ratio))\n",
    "    // (tuning_ratio * DEFAULT_BATCH_SIZE)\n",
    ")\n",
    "\n",
    "# training data\n",
    "training_data = player_data(\n",
    "    player_train_dir,\n",
    "    anonymous_train_dir,\n",
    "    repeat = True,\n",
    "    batch_size = DEFAULT_BATCH_SIZE * tuning_ratio,\n",
    "    ratio = class_balance_ratio,\n",
    ")\n",
    "\n",
    "# testing data\n",
    "testing_data = player_data(\n",
    "    player_test_dir,\n",
    "    anonymous_test_dir,\n",
    "    repeat = True,\n",
    "    batch_size = DEFAULT_BATCH_SIZE * tuning_ratio,\n",
    "    ratio = class_balance_ratio,\n",
    ")"
   ]
  },
  {
   "cell_type": "code",
   "execution_count": 12,
   "metadata": {},
   "outputs": [
    {
     "name": "stdout",
     "output_type": "stream",
     "text": [
      "Epoch 1/2\n",
      "170/170 [==============================] - 67s 395ms/step - loss: 0.0147 - accuracy: 0.9419 - precision: 0.9550 - recall: 0.8686 - specificity: 0.9792\n",
      "Epoch 2/2\n",
      "170/170 [==============================] - 67s 396ms/step - loss: 0.0142 - accuracy: 0.9500 - precision: 0.9568 - recall: 0.8905 - specificity: 0.9799\n"
     ]
    }
   ],
   "source": [
    "model.fit(\n",
    "    training_data,\n",
    "    epochs = 2,\n",
    "    steps_per_epoch = train_steps,\n",
    "    verbose = 1,\n",
    ");"
   ]
  },
  {
   "cell_type": "code",
   "execution_count": 13,
   "metadata": {},
   "outputs": [],
   "source": [
    "# Adjustable Parameters\n",
    "# =====================\n",
    "\n",
    "DEFAULT_BATCH_SIZE = 16\n",
    "\n",
    "# Anonymous Clips / Chosen Player's Clips\n",
    "class_balance_ratio = 1\n",
    "\n",
    "# Affects batch_size and steps_per_epoch\n",
    "# Example: ratio of 2 would effectively \n",
    "#          double batch size and \n",
    "#          cut steps_per_epoch in half\n",
    "tuning_ratio = 4\n",
    "\n",
    "# =====================\n",
    "\n",
    "# Calculate number of steps per epoch for train/test loops.\n",
    "# One Epoch should iterate through our player's clips once, mixing them\n",
    "# with random anonymous clips at our given class balance ratio \n",
    "train_steps = (\n",
    "    (player_train_sample_size * (1 + class_balance_ratio))\n",
    "    // (tuning_ratio * DEFAULT_BATCH_SIZE)\n",
    ")\n",
    "    \n",
    "test_steps = (\n",
    "    (player_test_sample_size * (1 + class_balance_ratio))\n",
    "    // (tuning_ratio * DEFAULT_BATCH_SIZE)\n",
    ")\n",
    "\n",
    "# training data\n",
    "training_data = player_data(\n",
    "    player_train_dir,\n",
    "    anonymous_train_dir,\n",
    "    repeat = True,\n",
    "    batch_size = DEFAULT_BATCH_SIZE * tuning_ratio,\n",
    "    ratio = class_balance_ratio,\n",
    ")\n",
    "\n",
    "# testing data\n",
    "testing_data = player_data(\n",
    "    player_test_dir,\n",
    "    anonymous_test_dir,\n",
    "    repeat = True,\n",
    "    batch_size = DEFAULT_BATCH_SIZE * tuning_ratio,\n",
    "    ratio = class_balance_ratio,\n",
    ")"
   ]
  },
  {
   "cell_type": "code",
   "execution_count": 14,
   "metadata": {},
   "outputs": [
    {
     "name": "stdout",
     "output_type": "stream",
     "text": [
      "56/56 [==============================] - 39s 689ms/step - loss: 0.0144 - accuracy: 0.9459 - precision: 0.9757 - recall: 0.9149 - specificity: 0.9770\n"
     ]
    }
   ],
   "source": [
    "model.fit(\n",
    "    training_data,\n",
    "    epochs = 1,\n",
    "    steps_per_epoch = train_steps,\n",
    "    verbose = 1,\n",
    ");"
   ]
  },
  {
   "cell_type": "markdown",
   "metadata": {},
   "source": [
    "# Testing\n",
    "\n",
    "Test the model on one pass of the given player's clips, \n",
    "at the given class balance ratio"
   ]
  },
  {
   "cell_type": "code",
   "execution_count": 15,
   "metadata": {},
   "outputs": [
    {
     "name": "stdout",
     "output_type": "stream",
     "text": [
      "29/29 [==============================] - 7s 210ms/step - loss: 0.0141 - accuracy: 0.9591 - precision: 0.9668 - recall: 0.9444 - specificity: 0.9718\n",
      "\n",
      "Test score: 0.014\n",
      "- accuracy: 96%\n",
      "- precision: 97%\n",
      "- recall: 94%\n",
      "- specificity: 97%\n"
     ]
    }
   ],
   "source": [
    "# Adjustable Parameters\n",
    "# =====================\n",
    "\n",
    "DEFAULT_BATCH_SIZE = 16\n",
    "\n",
    "# Ratio of Anonymous clips : Chosen Player's clips\n",
    "class_balance_ratio = 1\n",
    "\n",
    "# =====================\n",
    "\n",
    "data_test_one_round = player_data(\n",
    "    player_test_dir,\n",
    "    anonymous_test_dir,\n",
    "    batch_size = DEFAULT_BATCH_SIZE,\n",
    "    repeat = False,\n",
    "    ratio = class_balance_ratio,\n",
    ")\n",
    "\n",
    "score = model.evaluate(data_test_one_round, verbose=1)\n",
    "print('\\nTest score:', round(score[0], 3))\n",
    "print(f'- accuracy: {round(score[1]*100)}%')\n",
    "print(f'- precision: {round(score[2]*100)}%')\n",
    "print(f'- recall: {round(score[3]*100)}%')\n",
    "print(f'- specificity: {round(score[4]*100)}%')"
   ]
  },
  {
   "cell_type": "markdown",
   "metadata": {},
   "source": [
    "## Confusion Matrix"
   ]
  },
  {
   "cell_type": "code",
   "execution_count": 16,
   "metadata": {},
   "outputs": [
    {
     "name": "stdout",
     "output_type": "stream",
     "text": [
      "[####################] 222 of 222 - 100.0% \n",
      "\n"
     ]
    },
    {
     "data": {
      "text/html": [
       "<div>\n",
       "<style scoped>\n",
       "    .dataframe tbody tr th:only-of-type {\n",
       "        vertical-align: middle;\n",
       "    }\n",
       "\n",
       "    .dataframe tbody tr th {\n",
       "        vertical-align: top;\n",
       "    }\n",
       "\n",
       "    .dataframe thead th {\n",
       "        text-align: right;\n",
       "    }\n",
       "</style>\n",
       "<table border=\"1\" class=\"dataframe\">\n",
       "  <thead>\n",
       "    <tr style=\"text-align: right;\">\n",
       "      <th></th>\n",
       "      <th>detected</th>\n",
       "      <th>not detected</th>\n",
       "    </tr>\n",
       "  </thead>\n",
       "  <tbody>\n",
       "    <tr>\n",
       "      <th>present</th>\n",
       "      <td>0.490</td>\n",
       "      <td>0.031</td>\n",
       "    </tr>\n",
       "    <tr>\n",
       "      <th>not present</th>\n",
       "      <td>0.026</td>\n",
       "      <td>0.452</td>\n",
       "    </tr>\n",
       "  </tbody>\n",
       "</table>\n",
       "</div>"
      ],
      "text/plain": [
       "             detected  not detected\n",
       "present         0.490         0.031\n",
       "not present     0.026         0.452"
      ]
     },
     "execution_count": 16,
     "metadata": {},
     "output_type": "execute_result"
    }
   ],
   "source": [
    "# Adjustable Parameters\n",
    "# =====================\n",
    "\n",
    "DEFAULT_BATCH_SIZE = 16\n",
    "\n",
    "# Ratio of Anonymous clips : Chosen Player's clips\n",
    "class_balance_ratio = 1\n",
    "\n",
    "# =====================\n",
    "\n",
    "# define data generation\n",
    "data_conf = player_data(\n",
    "    player_test_dir,\n",
    "    anonymous_test_dir,\n",
    "    batch_size = DEFAULT_BATCH_SIZE,\n",
    "    ratio = class_balance_ratio,\n",
    ")\n",
    "\n",
    "# predict over test data\n",
    "batch_preds = []\n",
    "batch_labels = []\n",
    "i = 0\n",
    "N = player_test_sample_size\n",
    "for xi, yi in data_conf:\n",
    "    batch_preds.append(model.predict(xi).round().astype(int))\n",
    "    batch_labels.append(yi.astype(int))\n",
    "    \n",
    "    # progess bar\n",
    "    i = int(i + np.sum(yi))\n",
    "    display_progress(i, N)\n",
    "display_progress(N, N)\n",
    "print('\\n')\n",
    "\n",
    "pred = np.concatenate(batch_preds)\n",
    "labels = np.concatenate(batch_labels)\n",
    "\n",
    "# create confusion matrix\n",
    "# reverse so true positive is top left, true negative is bottom right\n",
    "conf_matrix = confusion_matrix(labels, pred, normalize='all')[::-1, ::-1] \n",
    "conf_matrix = np.around(conf_matrix, 3)\n",
    "conf_df = pd.DataFrame(\n",
    "    conf_matrix, \n",
    "    index = ['present', 'not present'], \n",
    "    columns = ['detected', 'not detected']\n",
    ")\n",
    "\n",
    "conf_df"
   ]
  },
  {
   "cell_type": "code",
   "execution_count": null,
   "metadata": {},
   "outputs": [],
   "source": []
  }
 ],
 "metadata": {
  "kernelspec": {
   "display_name": "Python 3",
   "language": "python",
   "name": "python3"
  },
  "language_info": {
   "codemirror_mode": {
    "name": "ipython",
    "version": 3
   },
   "file_extension": ".py",
   "mimetype": "text/x-python",
   "name": "python",
   "nbconvert_exporter": "python",
   "pygments_lexer": "ipython3",
   "version": "3.8.8"
  }
 },
 "nbformat": 4,
 "nbformat_minor": 4
}
