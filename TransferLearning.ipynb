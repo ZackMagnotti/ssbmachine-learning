{
 "cells": [
  {
   "cell_type": "code",
   "execution_count": 1,
   "metadata": {},
   "outputs": [],
   "source": [
    "# local imports\n",
    "from src.transfer import replace_head\n",
    "from src.data import player_data\n",
    "from src.util import display_progress\n",
    "\n",
    "# computation / deep learning imports\n",
    "from tensorflow import keras\n",
    "import numpy as np\n",
    "\n",
    "# os / filesystem imports\n",
    "import pickle\n",
    "import os\n",
    "\n",
    "# visualization imports\n",
    "from sklearn.metrics import confusion_matrix\n",
    "import pandas as pd"
   ]
  },
  {
   "cell_type": "markdown",
   "metadata": {},
   "source": [
    "# Model with Pre-Trained Base"
   ]
  },
  {
   "cell_type": "code",
   "execution_count": 2,
   "metadata": {
    "collapsed": true,
    "jupyter": {
     "outputs_hidden": true
    }
   },
   "outputs": [
    {
     "name": "stderr",
     "output_type": "stream",
     "text": [
      "\u001b[33mWARNING\u001b[0m: Importing a function (__inference_SSBML-Base-Model_layer_call_and_return_conditional_losses_1282758) with ops with custom gradients. Will likely fail if a gradient is requested.\n",
      "\u001b[33mWARNING\u001b[0m: Importing a function (__inference_SSBML-Base-Model_layer_call_and_return_conditional_losses_1282758) with ops with custom gradients. Will likely fail if a gradient is requested.\n",
      "\u001b[33mWARNING\u001b[0m: Importing a function (__inference_SSBML-Base-Model_layer_call_and_return_conditional_losses_1282758) with ops with custom gradients. Will likely fail if a gradient is requested.\n",
      "\u001b[33mWARNING\u001b[0m: Importing a function (__inference_SSBML-Base-Model_layer_call_and_return_conditional_losses_1282758) with ops with custom gradients. Will likely fail if a gradient is requested.\n",
      "\u001b[33mWARNING\u001b[0m: Importing a function (__inference_SSBML-Base-Model_layer_call_and_return_conditional_losses_1282758) with ops with custom gradients. Will likely fail if a gradient is requested.\n",
      "\u001b[33mWARNING\u001b[0m: Importing a function (__inference_SSBML-Base-Model_layer_call_and_return_conditional_losses_1282758) with ops with custom gradients. Will likely fail if a gradient is requested.\n",
      "\u001b[33mWARNING\u001b[0m: Importing a function (__inference_ConvCell-4_layer_call_and_return_conditional_losses_1283532) with ops with custom gradients. Will likely fail if a gradient is requested.\n",
      "\u001b[33mWARNING\u001b[0m: Importing a function (__inference_activation_2_layer_call_and_return_conditional_losses_1284374) with ops with custom gradients. Will likely fail if a gradient is requested.\n",
      "\u001b[33mWARNING\u001b[0m: Importing a function (__inference_conv1d_4_layer_call_and_return_conditional_losses_1283891) with ops with custom gradients. Will likely fail if a gradient is requested.\n",
      "\u001b[33mWARNING\u001b[0m: Importing a function (__inference_activation_3_layer_call_and_return_conditional_losses_1284517) with ops with custom gradients. Will likely fail if a gradient is requested.\n",
      "\u001b[33mWARNING\u001b[0m: Importing a function (__inference_conv1d_6_layer_call_and_return_conditional_losses_1284115) with ops with custom gradients. Will likely fail if a gradient is requested.\n",
      "\u001b[33mWARNING\u001b[0m: Importing a function (__inference_conv1d_7_layer_call_and_return_conditional_losses_1280886) with ops with custom gradients. Will likely fail if a gradient is requested.\n",
      "\u001b[33mWARNING\u001b[0m: Importing a function (__inference_ConvCell-1_layer_call_and_return_conditional_losses_1283204) with ops with custom gradients. Will likely fail if a gradient is requested.\n",
      "\u001b[33mWARNING\u001b[0m: Importing a function (__inference_conv1d_4_layer_call_and_return_conditional_losses_1280033) with ops with custom gradients. Will likely fail if a gradient is requested.\n",
      "\u001b[33mWARNING\u001b[0m: Importing a function (__inference_conv1d_7_layer_call_and_return_conditional_losses_1284254) with ops with custom gradients. Will likely fail if a gradient is requested.\n",
      "\u001b[33mWARNING\u001b[0m: Importing a function (__inference_conv1d_6_layer_call_and_return_conditional_losses_1280683) with ops with custom gradients. Will likely fail if a gradient is requested.\n",
      "\u001b[33mWARNING\u001b[0m: Importing a function (__inference_conv1d_5_layer_call_and_return_conditional_losses_1280358) with ops with custom gradients. Will likely fail if a gradient is requested.\n",
      "\u001b[33mWARNING\u001b[0m: Importing a function (__inference_conv1d_5_layer_call_and_return_conditional_losses_1284003) with ops with custom gradients. Will likely fail if a gradient is requested.\n",
      "\u001b[33mWARNING\u001b[0m: Importing a function (__inference_DenseCell-2_layer_call_and_return_conditional_losses_1283816) with ops with custom gradients. Will likely fail if a gradient is requested.\n",
      "\u001b[33mWARNING\u001b[0m: Importing a function (__inference_ConvCell-2_layer_call_and_return_conditional_losses_1283336) with ops with custom gradients. Will likely fail if a gradient is requested.\n",
      "\u001b[33mWARNING\u001b[0m: Importing a function (__inference_SSBML-Base-Model_layer_call_and_return_conditional_losses_1282960) with ops with custom gradients. Will likely fail if a gradient is requested.\n",
      "\u001b[33mWARNING\u001b[0m: Importing a function (__inference_SSBML-Base-Model_layer_call_and_return_conditional_losses_1282960) with ops with custom gradients. Will likely fail if a gradient is requested.\n",
      "\u001b[33mWARNING\u001b[0m: Importing a function (__inference_SSBML-Base-Model_layer_call_and_return_conditional_losses_1282960) with ops with custom gradients. Will likely fail if a gradient is requested.\n",
      "\u001b[33mWARNING\u001b[0m: Importing a function (__inference_SSBML-Base-Model_layer_call_and_return_conditional_losses_1282960) with ops with custom gradients. Will likely fail if a gradient is requested.\n",
      "\u001b[33mWARNING\u001b[0m: Importing a function (__inference_SSBML-Base-Model_layer_call_and_return_conditional_losses_1282960) with ops with custom gradients. Will likely fail if a gradient is requested.\n",
      "\u001b[33mWARNING\u001b[0m: Importing a function (__inference_SSBML-Base-Model_layer_call_and_return_conditional_losses_1282960) with ops with custom gradients. Will likely fail if a gradient is requested.\n",
      "\u001b[33mWARNING\u001b[0m: Importing a function (__inference_DenseCell-2_layer_call_and_return_conditional_losses_1283783) with ops with custom gradients. Will likely fail if a gradient is requested.\n",
      "\u001b[33mWARNING\u001b[0m: Importing a function (__inference_ConvCell-3_layer_call_and_return_conditional_losses_1283477) with ops with custom gradients. Will likely fail if a gradient is requested.\n",
      "\u001b[33mWARNING\u001b[0m: Importing a function (__inference_DenseCell-1_layer_call_and_return_conditional_losses_1283693) with ops with custom gradients. Will likely fail if a gradient is requested.\n",
      "\u001b[33mWARNING\u001b[0m: Importing a function (__inference_ConvCell-4_layer_call_and_return_conditional_losses_1283553) with ops with custom gradients. Will likely fail if a gradient is requested.\n",
      "\u001b[33mWARNING\u001b[0m: Importing a function (__inference_ConvCell-3_layer_call_and_return_conditional_losses_1283435) with ops with custom gradients. Will likely fail if a gradient is requested.\n",
      "\u001b[33mWARNING\u001b[0m: Importing a function (__inference__wrapped_model_1279853) with ops with custom gradients. Will likely fail if a gradient is requested.\n",
      "\u001b[33mWARNING\u001b[0m: Importing a function (__inference__wrapped_model_1279853) with ops with custom gradients. Will likely fail if a gradient is requested.\n",
      "\u001b[33mWARNING\u001b[0m: Importing a function (__inference__wrapped_model_1279853) with ops with custom gradients. Will likely fail if a gradient is requested.\n",
      "\u001b[33mWARNING\u001b[0m: Importing a function (__inference__wrapped_model_1279853) with ops with custom gradients. Will likely fail if a gradient is requested.\n",
      "\u001b[33mWARNING\u001b[0m: Importing a function (__inference__wrapped_model_1279853) with ops with custom gradients. Will likely fail if a gradient is requested.\n",
      "\u001b[33mWARNING\u001b[0m: Importing a function (__inference__wrapped_model_1279853) with ops with custom gradients. Will likely fail if a gradient is requested.\n",
      "\u001b[33mWARNING\u001b[0m: Importing a function (__inference_ConvCell-1_layer_call_and_return_conditional_losses_1283163) with ops with custom gradients. Will likely fail if a gradient is requested.\n",
      "\u001b[33mWARNING\u001b[0m: Importing a function (__inference_DenseCell-1_layer_call_and_return_conditional_losses_1283660) with ops with custom gradients. Will likely fail if a gradient is requested.\n",
      "\u001b[33mWARNING\u001b[0m: Importing a function (__inference_ConvCell-2_layer_call_and_return_conditional_losses_1283295) with ops with custom gradients. Will likely fail if a gradient is requested.\n",
      "\u001b[33mWARNING\u001b[0m: Importing a function (__inference_activation_2_layer_call_and_return_conditional_losses_1281183) with ops with custom gradients. Will likely fail if a gradient is requested.\n",
      "\u001b[33mWARNING\u001b[0m: Importing a function (__inference_activation_3_layer_call_and_return_conditional_losses_1281532) with ops with custom gradients. Will likely fail if a gradient is requested.\n"
     ]
    }
   ],
   "source": [
    "# load model\n",
    "model = keras.models.load_model('models/SSBML-Base-Model')\n",
    "\n",
    "# replace head\n",
    "model = replace_head(model)"
   ]
  },
  {
   "cell_type": "code",
   "execution_count": 3,
   "metadata": {},
   "outputs": [
    {
     "name": "stdout",
     "output_type": "stream",
     "text": [
      "Model: \"SSBML-Transfer-Model\"\n",
      "_________________________________________________________________\n",
      "Layer (type)                 Output Shape              Param #   \n",
      "=================================================================\n",
      "SSBML-Base-Model (Sequential (None, 512)               6537842   \n",
      "_________________________________________________________________\n",
      "Binary-Classifier (Sequentia (None, 2)                 83458     \n",
      "=================================================================\n",
      "Total params: 6,621,300\n",
      "Trainable params: 82,946\n",
      "Non-trainable params: 6,538,354\n",
      "_________________________________________________________________\n"
     ]
    }
   ],
   "source": [
    "model.summary()"
   ]
  },
  {
   "cell_type": "markdown",
   "metadata": {},
   "source": [
    "# The Players"
   ]
  },
  {
   "cell_type": "code",
   "execution_count": 4,
   "metadata": {},
   "outputs": [
    {
     "name": "stdout",
     "output_type": "stream",
     "text": [
      "Blynde\tCuckDaddy  gh0st  ixwonkr  Lie0x  TCBL\n"
     ]
    }
   ],
   "source": [
    "!ls data/player"
   ]
  },
  {
   "cell_type": "markdown",
   "metadata": {},
   "source": [
    "# The Player Data\n",
    "\n",
    "Player Data (games played by our chosen player) can be found in data/player/\\<player name\\>\n",
    "\n",
    "Nonplayer Data (games not played by our chosen player) is taken from the large dataset data/character"
   ]
  },
  {
   "cell_type": "code",
   "execution_count": 5,
   "metadata": {},
   "outputs": [],
   "source": [
    "# name of the player we want to train/test on\n",
    "player_name = 'CuckDaddy'\n",
    "\n",
    "player_dir = os.path.join('data/player', player_name)\n",
    "player_train_dir = os.path.join(player_dir, 'train')\n",
    "player_test_dir = os.path.join(player_dir, 'test')\n",
    "player_train_sample_size = len(os.listdir(player_train_dir))\n",
    "player_test_sample_size = len(os.listdir(player_test_dir))\n",
    "\n",
    "nonplayer_dir = 'data/character'\n",
    "nonplayer_train_dir = os.path.join(nonplayer_dir, 'train')\n",
    "nonplayer_test_dir = os.path.join(nonplayer_dir, 'test')"
   ]
  },
  {
   "cell_type": "code",
   "execution_count": 6,
   "metadata": {},
   "outputs": [
    {
     "name": "stdout",
     "output_type": "stream",
     "text": [
      "Training Data Located at: \n",
      "\t- data/player/CuckDaddy/train \n",
      "\t- data/character/train \n",
      "\n",
      "Testing Data Located at: \n",
      "\t- data/player/CuckDaddy/test \n",
      "\t- data/character/test \n",
      "\n",
      "Player Training Data Sample size: \n",
      "\t- 11758\n",
      "Player Testing Data Sample size: \n",
      "\t- 1333\n"
     ]
    }
   ],
   "source": [
    "print(f'Training Data Located at: \\n\\t- {player_train_dir} \\n\\t- {nonplayer_train_dir} \\n')\n",
    "print(f'Testing Data Located at: \\n\\t- {player_test_dir} \\n\\t- {nonplayer_test_dir} \\n')\n",
    "print(f'Player Training Data Sample size: \\n\\t- {player_train_sample_size}')\n",
    "print(f'Player Testing Data Sample size: \\n\\t- {player_test_sample_size}')"
   ]
  },
  {
   "cell_type": "markdown",
   "metadata": {},
   "source": [
    "# Training"
   ]
  },
  {
   "cell_type": "code",
   "execution_count": 7,
   "metadata": {},
   "outputs": [],
   "source": [
    "# Adjustable Parameters\n",
    "# =====================\n",
    "\n",
    "batch_size = 16\n",
    "imbalance_ratio = 10\n",
    "imbalanced_tuning_ratio = 1\n",
    "balanced_tuning_ratio = 4\n",
    "\n",
    "# =====================\n",
    "\n",
    "# Calculate number of steps per epoch for balanced and unbalanced data.\n",
    "# One Epoch should iterate through our player's games once, mixing them\n",
    "# with random anonymous games at our given imbalance ratio (balanced ratio is 1:1)\n",
    "imbalanced_steps = (\n",
    "    (player_train_sample_size * (1 + imbalance_ratio))\n",
    "    // (imbalanced_tuning_ratio * batch_size)\n",
    ")\n",
    "    \n",
    "balanced_steps = (\n",
    "    (player_train_sample_size * 2)\n",
    "    // (balanced_tuning_ratio * batch_size)\n",
    ")\n",
    "    \n",
    "imbalanced_test_steps = (\n",
    "    (player_test_sample_size * (1 + imbalance_ratio))\n",
    "    // (imbalanced_tuning_ratio * batch_size)\n",
    ")\n",
    "    \n",
    "balanced_test_steps = (\n",
    "    (player_test_sample_size * 2)\n",
    "    // (balanced_tuning_ratio * batch_size)\n",
    ")\n",
    "    \n",
    "# training data\n",
    "imbalanced_data = player_data(\n",
    "    player_train_dir,\n",
    "    nonplayer_train_dir,\n",
    "    repeat = True,\n",
    "    batch_size = batch_size * imbalanced_tuning_ratio,\n",
    "    ratio = 1/imbalance_ratio,\n",
    ")\n",
    "\n",
    "balanced_data = player_data(\n",
    "    player_train_dir,\n",
    "    nonplayer_train_dir,\n",
    "    repeat = True,\n",
    "    batch_size = batch_size * balanced_tuning_ratio,\n",
    ")\n",
    "\n",
    "# testing data\n",
    "imbalanced_test_data = player_data(\n",
    "    player_test_dir,\n",
    "    nonplayer_test_dir,\n",
    "    repeat = True,\n",
    "    batch_size = batch_size * imbalanced_tuning_ratio,\n",
    "    ratio=1/imbalance_ratio,\n",
    ")\n",
    "\n",
    "balanced_test_data = player_data(\n",
    "    player_test_dir,\n",
    "    nonplayer_test_dir,\n",
    "    repeat = True,\n",
    "    batch_size = batch_size * balanced_tuning_ratio,\n",
    ")"
   ]
  },
  {
   "cell_type": "code",
   "execution_count": 8,
   "metadata": {},
   "outputs": [
    {
     "name": "stdout",
     "output_type": "stream",
     "text": [
      "Epoch 1/5\n",
      "8083/8083 [==============================] - 1231s 152ms/step - loss: 0.0551 - accuracy: 0.9340 - player_precision: 0.7041 - player_recall: 0.4732 - nonplayer_precision: 0.9490 - nonplayer_recall: 0.9801\n",
      "Epoch 2/5\n",
      "8083/8083 [==============================] - 1230s 152ms/step - loss: 0.0435 - accuracy: 0.9454 - player_precision: 0.8069 - player_recall: 0.5138 - nonplayer_precision: 0.9538 - nonplayer_recall: 0.9879\n",
      "Epoch 3/5\n",
      "8083/8083 [==============================] - 1230s 152ms/step - loss: 0.0417 - accuracy: 0.9466 - player_precision: 0.8124 - player_recall: 0.5333 - nonplayer_precision: 0.9551 - nonplayer_recall: 0.9877\n",
      "Epoch 4/5\n",
      "8083/8083 [==============================] - 1223s 151ms/step - loss: 0.0405 - accuracy: 0.9482 - player_precision: 0.8184 - player_recall: 0.5491 - nonplayer_precision: 0.9566 - nonplayer_recall: 0.9879\n",
      "Epoch 5/5\n",
      "8083/8083 [==============================] - 1216s 150ms/step - loss: 0.0396 - accuracy: 0.9485 - player_precision: 0.8195 - player_recall: 0.5600 - nonplayer_precision: 0.9571 - nonplayer_recall: 0.9876\n",
      "Epoch 1/2\n",
      "367/367 [==============================] - 220s 599ms/step - loss: 0.0807 - accuracy: 0.8662 - player_precision: 0.8677 - player_recall: 0.8669 - nonplayer_precision: 0.8646 - nonplayer_recall: 0.8655\n",
      "Epoch 2/2\n",
      "367/367 [==============================] - 220s 599ms/step - loss: 0.0736 - accuracy: 0.8757 - player_precision: 0.8714 - player_recall: 0.8778 - nonplayer_precision: 0.8800 - nonplayer_recall: 0.8737\n"
     ]
    }
   ],
   "source": [
    "# train on imbalanced classes first\n",
    "model.fit(\n",
    "    imbalanced_data,\n",
    "    epochs = 5,\n",
    "    steps_per_epoch = imbalanced_steps,\n",
    "    verbose = 1,\n",
    ")\n",
    "# then train on balanced classes\n",
    "model.fit(\n",
    "    balanced_data,\n",
    "    epochs = 2,\n",
    "    steps_per_epoch = balanced_steps,\n",
    "    verbose = 1,\n",
    ");"
   ]
  },
  {
   "cell_type": "code",
   "execution_count": 9,
   "metadata": {},
   "outputs": [
    {
     "name": "stdout",
     "output_type": "stream",
     "text": [
      "\n",
      "Test score: 0.062\n",
      "Test accuracy: 90%\n",
      "Test precision: 90%\n",
      "Test recall: 92%\n"
     ]
    }
   ],
   "source": [
    "# Balanced Classes\n",
    "score = model.evaluate(balanced_test_data, verbose=0, steps=balanced_test_steps)\n",
    "print('\\nTest score:', round(score[0], 3))\n",
    "print(f'Test accuracy: {round(score[1]*100)}%')\n",
    "print(f'Test precision: {round(score[2]*100)}%')\n",
    "print(f'Test recall: {round(score[3]*100)}%')"
   ]
  },
  {
   "cell_type": "code",
   "execution_count": 10,
   "metadata": {},
   "outputs": [
    {
     "name": "stdout",
     "output_type": "stream",
     "text": [
      "\n",
      "Test score: 0.066\n",
      "Test accuracy: 89%\n",
      "Test precision: 45%\n",
      "Test recall: 92%\n"
     ]
    }
   ],
   "source": [
    "# Imbalanced Classes\n",
    "score = model.evaluate(imbalanced_test_data, verbose=0, steps=imbalanced_test_steps)\n",
    "print('\\nTest score:', round(score[0], 3))\n",
    "print(f'Test accuracy: {round(score[1]*100)}%')\n",
    "print(f'Test precision: {round(score[2]*100)}%')\n",
    "print(f'Test recall: {round(score[3]*100)}%')"
   ]
  },
  {
   "cell_type": "markdown",
   "metadata": {},
   "source": [
    "# Testing"
   ]
  },
  {
   "cell_type": "code",
   "execution_count": 11,
   "metadata": {},
   "outputs": [
    {
     "name": "stdout",
     "output_type": "stream",
     "text": [
      "81/81 [==============================] - 24s 291ms/step - loss: 0.0628 - accuracy: 0.9032 - player_precision: 0.8975 - player_recall: 0.9157 - nonplayer_precision: 0.9094 - nonplayer_recall: 0.8899\n",
      "\n",
      "Test score: 0.063\n",
      "Test accuracy: 90%\n",
      "Test precision: 90%\n",
      "Test recall: 92%\n"
     ]
    }
   ],
   "source": [
    "# testing data\n",
    "data_test_one_round = player_data(\n",
    "    player_test_dir,\n",
    "    nonplayer_test_dir,\n",
    "    batch_size = 32,\n",
    "    repeat = False,\n",
    "    ratio = 1,\n",
    "    onehot = True\n",
    ")\n",
    "\n",
    "score = model.evaluate(data_test_one_round, verbose=1)\n",
    "print('\\nTest score:', round(score[0], 3))\n",
    "print(f'Test accuracy: {round(score[1]*100)}%')\n",
    "print(f'Test precision: {round(score[2]*100)}%')\n",
    "print(f'Test recall: {round(score[3]*100)}%')"
   ]
  },
  {
   "cell_type": "markdown",
   "metadata": {},
   "source": [
    "# Confusion Matrix"
   ]
  },
  {
   "cell_type": "code",
   "execution_count": 12,
   "metadata": {},
   "outputs": [
    {
     "name": "stdout",
     "output_type": "stream",
     "text": [
      "[####################] 1333 of 1333 - 100.0% "
     ]
    },
    {
     "data": {
      "text/html": [
       "<div>\n",
       "<style scoped>\n",
       "    .dataframe tbody tr th:only-of-type {\n",
       "        vertical-align: middle;\n",
       "    }\n",
       "\n",
       "    .dataframe tbody tr th {\n",
       "        vertical-align: top;\n",
       "    }\n",
       "\n",
       "    .dataframe thead th {\n",
       "        text-align: right;\n",
       "    }\n",
       "</style>\n",
       "<table border=\"1\" class=\"dataframe\">\n",
       "  <thead>\n",
       "    <tr style=\"text-align: right;\">\n",
       "      <th></th>\n",
       "      <th>detected</th>\n",
       "      <th>not detected</th>\n",
       "    </tr>\n",
       "  </thead>\n",
       "  <tbody>\n",
       "    <tr>\n",
       "      <th>present</th>\n",
       "      <td>0.453</td>\n",
       "      <td>0.042</td>\n",
       "    </tr>\n",
       "    <tr>\n",
       "      <th>not present</th>\n",
       "      <td>0.060</td>\n",
       "      <td>0.445</td>\n",
       "    </tr>\n",
       "  </tbody>\n",
       "</table>\n",
       "</div>"
      ],
      "text/plain": [
       "             detected  not detected\n",
       "present         0.453         0.042\n",
       "not present     0.060         0.445"
      ]
     },
     "execution_count": 12,
     "metadata": {},
     "output_type": "execute_result"
    }
   ],
   "source": [
    "# Adjustable Parameters\n",
    "# =====================\n",
    "\n",
    "batch_size = 16\n",
    "\n",
    "# Ratio of Anonymous games : Chosen Player's games\n",
    "ratio = 1 \n",
    "\n",
    "# =====================\n",
    "\n",
    "# define data generation\n",
    "data_conf = player_data(\n",
    "    player_test_dir,\n",
    "    nonplayer_test_dir,\n",
    "    batch_size = batch_size,\n",
    "    ratio = ratio,\n",
    ")\n",
    "\n",
    "# predict over test data\n",
    "batch_preds = []\n",
    "batch_labels = []\n",
    "i = 0\n",
    "N = player_test_sample_size\n",
    "for xi, yi in data_conf:\n",
    "    batch_preds.append(np.argmax(model.predict(xi), axis=1))\n",
    "    batch_labels.append(np.argmax(yi, axis=1))\n",
    "    \n",
    "    # progess bar\n",
    "    i = int(i + np.sum(yi[:, 0]))\n",
    "    display_progress(i, N)\n",
    "display_progress(N, N)\n",
    "\n",
    "pred = np.concatenate(batch_preds)\n",
    "labels = np.concatenate(batch_labels)\n",
    "\n",
    "# create confusion matrix\n",
    "conf_matrix = confusion_matrix(labels, pred, normalize='all') # reverse so true positive is top left, true negative is bottom right\n",
    "conf_matrix = np.around(conf_matrix, 3)\n",
    "conf_df = pd.DataFrame(conf_matrix, index=['present', 'not present'], columns=['detected', 'not detected'])\n",
    "\n",
    "conf_df"
   ]
  }
 ],
 "metadata": {
  "kernelspec": {
   "display_name": "Python 3",
   "language": "python",
   "name": "python3"
  },
  "language_info": {
   "codemirror_mode": {
    "name": "ipython",
    "version": 3
   },
   "file_extension": ".py",
   "mimetype": "text/x-python",
   "name": "python",
   "nbconvert_exporter": "python",
   "pygments_lexer": "ipython3",
   "version": "3.8.5"
  }
 },
 "nbformat": 4,
 "nbformat_minor": 4
}
