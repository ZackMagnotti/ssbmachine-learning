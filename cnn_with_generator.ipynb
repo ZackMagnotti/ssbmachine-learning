{
 "cells": [
  {
   "cell_type": "code",
   "execution_count": 1,
   "metadata": {},
   "outputs": [],
   "source": [
    "from src.get_from_mongo import get_data\n",
    "from sklearn.model_selection import train_test_split\n",
    "from pymongo import MongoClient\n",
    "import numpy as np\n",
    "import tensorflow as tf\n",
    "import pickle"
   ]
  },
  {
   "cell_type": "code",
   "execution_count": 2,
   "metadata": {},
   "outputs": [],
   "source": [
    "id_from_char = {\n",
    "    'CAPTAIN_FALCON' : 1 ,\n",
    "    'DONKEY_KONG'    : 2 ,\n",
    "    'FOX'            : 3 ,\n",
    "    'GAME_AND_WATCH' : 4 ,\n",
    "    'KIRBY'          : 5 ,\n",
    "    'BOWSER'         : 6 ,\n",
    "    'LINK'           : 7 ,\n",
    "    'LUIGI'          : 8 ,\n",
    "    'MARIO'          : 9 ,\n",
    "    'MARTH'          : 10 ,\n",
    "    'MEWTWO'         : 11 ,\n",
    "    'NESS'           : 12 ,\n",
    "    'PEACH'          : 13 ,\n",
    "    'PIKACHU'        : 14 ,\n",
    "    'ICE_CLIMBERS'   : 15 ,\n",
    "    'JIGGLYPUFF'     : 16 ,\n",
    "    'SAMUS'          : 17 ,\n",
    "    'YOSHI'          : 18 ,\n",
    "    'ZELDA'          : 19 ,\n",
    "    'SHEIK'          : 20 ,\n",
    "    'FALCO'          : 21 ,\n",
    "    'YOUNG_LINK'     : 22 ,\n",
    "    'DR_MARIO'       : 23 ,\n",
    "    'ROY'            : 24 ,\n",
    "    'PICHU'          : 25 ,\n",
    "    'GANONDORF'      : 26 ,\n",
    "}\n",
    "\n",
    "char_from_id = {v:k for k, v in id_from_char.items()}"
   ]
  },
  {
   "cell_type": "code",
   "execution_count": 3,
   "metadata": {},
   "outputs": [],
   "source": [
    "database_name = 'slippi'\n",
    "collection_name = 'melee_clips_30s'\n",
    "\n",
    "# Connect to the hosted MongoDB instance\n",
    "client = MongoClient('localhost', 27017)\n",
    "db = client[database_name]\n",
    "collection = db[collection_name]"
   ]
  },
  {
   "cell_type": "code",
   "execution_count": 20,
   "metadata": {},
   "outputs": [],
   "source": [
    "def data_generator(clip_collection=collection, # collection containing clips\n",
    "                   batch_size = 100,\n",
    "                   skip=None):\n",
    "\n",
    "        cur = clip_collection.find()\n",
    "        \n",
    "        if skip:\n",
    "            cur.skip(skip)\n",
    "            \n",
    "        while cur.alive:\n",
    "            \n",
    "            xi = []\n",
    "            yi = []\n",
    "            \n",
    "            for _ in range(batch_size):\n",
    "                clip = next(cur)\n",
    "                xi.append(pickle.loads(clip['istream']).toarray())\n",
    "                yi.append(id_from_char[clip['character']])\n",
    "\n",
    "            Xi = np.stack(xi, axis=0)\n",
    "            Yi = tf.one_hot(yi, 26)\n",
    "\n",
    "            yield Xi, Yi"
   ]
  },
  {
   "cell_type": "code",
   "execution_count": 5,
   "metadata": {},
   "outputs": [],
   "source": [
    "def get_test_data(clip_collection=collection, # collection containing clips\n",
    "                  size = 100):\n",
    "    bytestreams, characters = get_data('slippi', \n",
    "                                       'melee_public_slp_dataset',\n",
    "                                       get=6000)"
   ]
  },
  {
   "cell_type": "code",
   "execution_count": 6,
   "metadata": {},
   "outputs": [],
   "source": [
    "# gen = data_generator(I_train, batch_size=10)"
   ]
  },
  {
   "cell_type": "code",
   "execution_count": 7,
   "metadata": {},
   "outputs": [],
   "source": [
    "# Xi, Yi = next(gen)\n",
    "# for Y in Yi:\n",
    "#     print(char_from_id[np.argmax(Y)])"
   ]
  },
  {
   "cell_type": "code",
   "execution_count": 8,
   "metadata": {},
   "outputs": [],
   "source": [
    "from tensorflow import keras\n",
    "\n",
    "from tensorflow.keras.models import Sequential\n",
    "from tensorflow.keras.layers import Dense, Dropout, Flatten, InputLayer\n",
    "from tensorflow.keras.layers import Conv1D, MaxPooling1D\n",
    "\n",
    "m = keras.metrics.TopKCategoricalAccuracy(k=8)"
   ]
  },
  {
   "cell_type": "code",
   "execution_count": 9,
   "metadata": {},
   "outputs": [],
   "source": [
    "model = Sequential()\n",
    "\n",
    "# first conv layer\n",
    "model.add(Conv1D(100, #num of features extracted from istream\n",
    "                 60, #number of frames filter can see at once\n",
    "                 activation='relu'))\n",
    "\n",
    "model.add(MaxPooling1D(pool_size=5))\n",
    "\n",
    "model.add(Conv1D(80,\n",
    "                 30,\n",
    "                 activation='relu'))\n",
    "\n",
    "model.add(MaxPooling1D(pool_size=5))\n",
    "\n",
    "model.add(Conv1D(60,\n",
    "                 15,\n",
    "                 activation='relu'))\n",
    "\n",
    "model.add(MaxPooling1D(pool_size=5))\n",
    "\n",
    "model.add(Flatten())\n",
    "\n",
    "model.add(Dense(40, activation='relu'))\n",
    "\n",
    "# final output layer\n",
    "model.add(Dense(26, activation='softmax'))\n",
    "                \n",
    "model.compile(loss='categorical_crossentropy',\n",
    "              optimizer='adam',\n",
    "              metrics=['accuracy', 'categorical_accuracy', 'top_k_categorical_accuracy'])"
   ]
  },
  {
   "cell_type": "code",
   "execution_count": 16,
   "metadata": {},
   "outputs": [],
   "source": [
    "data = data_generator(batch_size=100)"
   ]
  },
  {
   "cell_type": "code",
   "execution_count": 11,
   "metadata": {
    "scrolled": true
   },
   "outputs": [
    {
     "name": "stdout",
     "output_type": "stream",
     "text": [
      "Epoch 1/4\n",
      "500/500 [==============================] - 467s 933ms/step - loss: 1.7437 - accuracy: 0.4396 - categorical_accuracy: 0.4396 - top_k_categorical_accuracy: 0.8144\n",
      "Epoch 2/4\n",
      "500/500 [==============================] - 474s 948ms/step - loss: 1.0263 - accuracy: 0.7029 - categorical_accuracy: 0.7029 - top_k_categorical_accuracy: 0.8916\n",
      "Epoch 3/4\n",
      "500/500 [==============================] - 473s 945ms/step - loss: 0.8220 - accuracy: 0.7625 - categorical_accuracy: 0.7625 - top_k_categorical_accuracy: 0.9124\n",
      "Epoch 4/4\n",
      "500/500 [==============================] - 470s 940ms/step - loss: 7.6756 - accuracy: 0.5788 - categorical_accuracy: 0.5788 - top_k_categorical_accuracy: 0.8294\n",
      "\n",
      "Test score: 2.012\n",
      "Test accuracy: 35%\n",
      "Test categorical accuracy: 35%\n",
      "Test test top 5 categorical accuracy: 35%\n"
     ]
    }
   ],
   "source": [
    "# during fit process watch train and test error simultaneously\n",
    "model.fit(data, epochs=4, steps_per_epoch=500, verbose=1)\n",
    "\n",
    "score = model.evaluate(data, steps=100, verbose=0)\n",
    "print('\\nTest score:', round(score[0], 3))\n",
    "print(f'Test accuracy: {round(score[1]*100)}%')\n",
    "print(f'Test categorical accuracy: {round(score[1]*100)}%')\n",
    "print(f'Test test top 5 categorical accuracy: {round(score[1]*100)}%')  # this is the one we care about"
   ]
  },
  {
   "cell_type": "code",
   "execution_count": 12,
   "metadata": {},
   "outputs": [
    {
     "name": "stdout",
     "output_type": "stream",
     "text": [
      "Epoch 1/4\n",
      "500/500 [==============================] - 473s 945ms/step - loss: 1.7324 - accuracy: 0.3828 - categorical_accuracy: 0.3828 - top_k_categorical_accuracy: 0.8295\n",
      "Epoch 2/4\n",
      "500/500 [==============================] - 466s 931ms/step - loss: 1.6304 - accuracy: 0.3995 - categorical_accuracy: 0.3995 - top_k_categorical_accuracy: 0.8484\n",
      "Epoch 3/4\n",
      "500/500 [==============================] - 466s 931ms/step - loss: 1.6050 - accuracy: 0.4262 - categorical_accuracy: 0.4262 - top_k_categorical_accuracy: 0.8433\n",
      "Epoch 4/4\n",
      "500/500 [==============================] - 466s 933ms/step - loss: 1.5010 - accuracy: 0.4706 - categorical_accuracy: 0.4706 - top_k_categorical_accuracy: 0.8593\n",
      "\n",
      "Test score: 1.468\n",
      "Test accuracy: 48%\n",
      "Test categorical accuracy: 48%\n",
      "Test test top 5 categorical accuracy: 48%\n"
     ]
    }
   ],
   "source": [
    "# during fit process watch train and test error simultaneously\n",
    "model.fit(data, epochs=4, steps_per_epoch=500, verbose=1)\n",
    "\n",
    "score = model.evaluate(data, steps=100, verbose=0)\n",
    "print('\\nTest score:', round(score[0], 3))\n",
    "print(f'Test accuracy: {round(score[1]*100)}%')\n",
    "print(f'Test categorical accuracy: {round(score[1]*100)}%')\n",
    "print(f'Test test top 5 categorical accuracy: {round(score[1]*100)}%')  # this is the one we care about"
   ]
  },
  {
   "cell_type": "code",
   "execution_count": 13,
   "metadata": {},
   "outputs": [
    {
     "name": "stdout",
     "output_type": "stream",
     "text": [
      "Epoch 1/4\n",
      "500/500 [==============================] - 467s 935ms/step - loss: 1.3451 - accuracy: 0.5480 - categorical_accuracy: 0.5480 - top_k_categorical_accuracy: 0.8740\n",
      "Epoch 2/4\n",
      "500/500 [==============================] - 467s 933ms/step - loss: 8.5794 - accuracy: 0.6436 - categorical_accuracy: 0.6436 - top_k_categorical_accuracy: 0.8746\n",
      "Epoch 3/4\n",
      "500/500 [==============================] - 466s 931ms/step - loss: 486.5970 - accuracy: 0.4509 - categorical_accuracy: 0.4509 - top_k_categorical_accuracy: 0.8940\n",
      "Epoch 4/4\n",
      "500/500 [==============================] - 466s 932ms/step - loss: 24708.1855 - accuracy: 0.3475 - categorical_accuracy: 0.3475 - top_k_categorical_accuracy: 0.9815\n",
      "\n",
      "Test score: 63195.211\n",
      "Test accuracy: 40%\n",
      "Test categorical accuracy: 40%\n",
      "Test test top 5 categorical accuracy: 40%\n"
     ]
    }
   ],
   "source": [
    "# during fit process watch train and test error simultaneously\n",
    "model.fit(data, epochs=4, steps_per_epoch=500, verbose=1)\n",
    "\n",
    "score = model.evaluate(data, steps=100, verbose=0)\n",
    "print('\\nTest score:', round(score[0], 3))\n",
    "print(f'Test accuracy: {round(score[1]*100)}%')\n",
    "print(f'Test categorical accuracy: {round(score[1]*100)}%')\n",
    "print(f'Test test top 5 categorical accuracy: {round(score[1]*100)}%')  # this is the one we care about"
   ]
  },
  {
   "cell_type": "code",
   "execution_count": 14,
   "metadata": {},
   "outputs": [
    {
     "name": "stdout",
     "output_type": "stream",
     "text": [
      "Epoch 1/4\n",
      "500/500 [==============================] - 468s 936ms/step - loss: 187739.4219 - accuracy: 0.3043 - categorical_accuracy: 0.3043 - top_k_categorical_accuracy: 0.9993\n",
      "Epoch 2/4\n",
      "500/500 [==============================] - 467s 935ms/step - loss: 493421.2500 - accuracy: 0.3049 - categorical_accuracy: 0.3049 - top_k_categorical_accuracy: 1.0000\n",
      "Epoch 3/4\n",
      "500/500 [==============================] - 467s 934ms/step - loss: 2706872.5000 - accuracy: 0.2396 - categorical_accuracy: 0.2396 - top_k_categorical_accuracy: 1.0000\n",
      "Epoch 4/4\n",
      "500/500 [==============================] - 467s 934ms/step - loss: 5970896.5000 - accuracy: 0.2341 - categorical_accuracy: 0.2341 - top_k_categorical_accuracy: 1.0000\n",
      "\n",
      "Test score: 11198802.0\n",
      "Test accuracy: 22%\n",
      "Test categorical accuracy: 22%\n",
      "Test test top 5 categorical accuracy: 22%\n"
     ]
    }
   ],
   "source": [
    "# during fit process watch train and test error simultaneously\n",
    "model.fit(data, epochs=4, steps_per_epoch=500, verbose=1)\n",
    "\n",
    "score = model.evaluate(data, steps=100, verbose=0)\n",
    "print('\\nTest score:', round(score[0], 3))\n",
    "print(f'Test accuracy: {round(score[1]*100)}%')\n",
    "print(f'Test categorical accuracy: {round(score[1]*100)}%')\n",
    "print(f'Test test top 5 categorical accuracy: {round(score[1]*100)}%')  # this is the one we care about"
   ]
  },
  {
   "cell_type": "code",
   "execution_count": 17,
   "metadata": {},
   "outputs": [
    {
     "name": "stdout",
     "output_type": "stream",
     "text": [
      "500/500 [==============================] - 471s 942ms/step - loss: 10881439.0000 - accuracy: 0.2251 - categorical_accuracy: 0.2251 - top_k_categorical_accuracy: 1.0000\n",
      "\n",
      "Test score: 7828629.0\n",
      "Test accuracy: 27%\n",
      "Test categorical accuracy: 27%\n",
      "Test test top 5 categorical accuracy: 27%\n"
     ]
    }
   ],
   "source": [
    "# during fit process watch train and test error simultaneously\n",
    "model.fit(data, epochs=1, steps_per_epoch=500, verbose=1)\n",
    "\n",
    "score = model.evaluate(data, steps=100, verbose=0)\n",
    "print('\\nTest score:', round(score[0], 3))\n",
    "print(f'Test accuracy: {round(score[1]*100)}%')\n",
    "print(f'Test categorical accuracy: {round(score[1]*100)}%')\n",
    "print(f'Test test top 5 categorical accuracy: {round(score[1]*100)}%')  # this is the one we care about"
   ]
  },
  {
   "cell_type": "code",
   "execution_count": 18,
   "metadata": {},
   "outputs": [],
   "source": [
    "def get_conf_matrix(labels_as_id, predictions_as_id):\n",
    "    conf_matrix = np.zeros((27,27))\n",
    "    for i_real, i_pred in zip(labels_as_id, predictions_as_id):\n",
    "        conf_matrix[i_real, i_pred] += 1\n",
    "    return conf_matrix"
   ]
  },
  {
   "cell_type": "code",
   "execution_count": 51,
   "metadata": {},
   "outputs": [],
   "source": [
    "X_test, Y_test = next(data_generator(batch_size=5000, skip = 801000))"
   ]
  },
  {
   "cell_type": "code",
   "execution_count": 52,
   "metadata": {},
   "outputs": [],
   "source": [
    "pred = np.argmax(model.predict(X_test), axis = 1)\n",
    "y_test = np.argmax(Y_test, axis = 1)"
   ]
  },
  {
   "cell_type": "code",
   "execution_count": 53,
   "metadata": {},
   "outputs": [],
   "source": [
    "conf_matrix = get_conf_matrix(y_test, pred)\n",
    "char_id = 0"
   ]
  },
  {
   "cell_type": "code",
   "execution_count": 55,
   "metadata": {},
   "outputs": [
    {
     "name": "stdout",
     "output_type": "stream",
     "text": [
      "\n",
      "Test score: 7422518.0\n",
      "Test accuracy: 26%\n",
      "Test categorical accuracy: 26%\n",
      "Test test top 5 categorical accuracy: 26%\n"
     ]
    }
   ],
   "source": [
    "score = model.evaluate(X_test, Y_test, verbose=0)\n",
    "print('\\nTest score:', round(score[0], 3))\n",
    "print(f'Test accuracy: {round(score[1]*100)}%')\n",
    "print(f'Test categorical accuracy: {round(score[1]*100)}%')\n",
    "print(f'Test test top 5 categorical accuracy: {round(score[1]*100)}%') "
   ]
  },
  {
   "cell_type": "code",
   "execution_count": 61,
   "metadata": {},
   "outputs": [
    {
     "name": "stdout",
     "output_type": "stream",
     "text": [
      "BOWSER : prediction frequencies\n",
      "-----------------\n",
      "CAPTAIN_FALCON : 6.0\n",
      "GANONDORF : 0.0\n",
      "NESS : 0.0\n",
      "DONKEY_KONG : 0.0\n",
      "FOX : 0.0\n",
      "GAME_AND_WATCH : 0.0\n",
      "KIRBY : 0.0\n",
      "BOWSER : 0.0\n",
      "LINK : 0.0\n",
      "LUIGI : 0.0\n",
      "MARIO : 0.0\n",
      "MARTH : 0.0\n",
      "MEWTWO : 0.0\n",
      "PEACH : 0.0\n",
      "PICHU : 0.0\n",
      "PIKACHU : 0.0\n",
      "ICE_CLIMBERS : 0.0\n",
      "JIGGLYPUFF : 0.0\n",
      "SAMUS : 0.0\n",
      "YOSHI : 0.0\n",
      "ZELDA : 0.0\n",
      "SHEIK : 0.0\n",
      "FALCO : 0.0\n",
      "YOUNG_LINK : 0.0\n",
      "DR_MARIO : 0.0\n",
      "ROY : 0.0\n"
     ]
    }
   ],
   "source": [
    "char_id += 1\n",
    "row = conf_matrix[char_id, :]\n",
    "sorted_row_indices = np.argsort(row)[::-1]\n",
    "print(f'{char_from_id[char_id]} : prediction frequencies\\n-----------------')\n",
    "for i in sorted_row_indices:\n",
    "    if i > 0:\n",
    "        print(f'{char_from_id[i]} : {row[i]}')"
   ]
  },
  {
   "cell_type": "code",
   "execution_count": null,
   "metadata": {},
   "outputs": [],
   "source": [
    "def test(i, ii):\n",
    "    character = characters[i]\n",
    "    istream = pickle.loads(bytestreams[i])\n",
    "\n",
    "    y_test = []\n",
    "    x_test = []\n",
    "    f=0\n",
    "\n",
    "    while f+F < istream.shape[0]:\n",
    "        y_test.append(id_from_char[character])\n",
    "        x_test.append(istream[f:f+F])\n",
    "        f += F\n",
    "        \n",
    "    try:\n",
    "        d = x_test[ii].toarray()\n",
    "    except IndexError:\n",
    "        test(i, ii-1)\n",
    "        return\n",
    "    \n",
    "    pred = char_from_id[np.argmax(model.predict(d.reshape(1,d.shape[0],d.shape[1])))]\n",
    "\n",
    "\n",
    "    print(f'''\n",
    "    Actual Character:\n",
    "    ---------------\n",
    "    {char_from_id[y_test[ii]]}\n",
    "    ''')\n",
    "\n",
    "    print(f'''\n",
    "    Detected Character:\n",
    "    ---------------\n",
    "    {pred}\n",
    "    ''')"
   ]
  },
  {
   "cell_type": "code",
   "execution_count": null,
   "metadata": {},
   "outputs": [],
   "source": [
    "# i = 602 # use this to check different entries\n",
    "i = 630 # use this to check different entries\n",
    "ii = 3 # use this to look at different clips from that entry"
   ]
  },
  {
   "cell_type": "code",
   "execution_count": null,
   "metadata": {},
   "outputs": [],
   "source": [
    "print(characters[i], '\\n', f'i={i}')"
   ]
  },
  {
   "cell_type": "code",
   "execution_count": null,
   "metadata": {},
   "outputs": [],
   "source": [
    "test(i, ii)\n",
    "i+=1"
   ]
  },
  {
   "cell_type": "code",
   "execution_count": null,
   "metadata": {},
   "outputs": [],
   "source": [
    "i-=1"
   ]
  },
  {
   "cell_type": "code",
   "execution_count": null,
   "metadata": {},
   "outputs": [],
   "source": []
  }
 ],
 "metadata": {
  "kernelspec": {
   "display_name": "Python 3",
   "language": "python",
   "name": "python3"
  },
  "language_info": {
   "codemirror_mode": {
    "name": "ipython",
    "version": 3
   },
   "file_extension": ".py",
   "mimetype": "text/x-python",
   "name": "python",
   "nbconvert_exporter": "python",
   "pygments_lexer": "ipython3",
   "version": "3.8.5"
  }
 },
 "nbformat": 4,
 "nbformat_minor": 4
}
