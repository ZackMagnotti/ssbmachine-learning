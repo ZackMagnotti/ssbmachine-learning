{
 "cells": [
  {
   "cell_type": "code",
   "execution_count": 1,
   "metadata": {
    "scrolled": true
   },
   "outputs": [],
   "source": [
    "from src.extract import extract\n",
    "from src.export import export, export_dir, display_progress\n",
    "\n",
    "from slippi import Game\n",
    "\n",
    "from pymongo import MongoClient\n",
    "from bson.binary import Binary\n",
    "from scipy import sparse\n",
    "import numpy as np\n",
    "import pickle\n",
    "import os"
   ]
  },
  {
   "cell_type": "code",
   "execution_count": 15,
   "metadata": {},
   "outputs": [],
   "source": [
    "database_name = 'slippi'\n",
    "collection_name = 'CuckDaddy'\n",
    "game_id = 'Game_20200918T203825.slp'\n",
    "\n",
    "# Connect to the hosted MongoDB instance\n",
    "client = MongoClient('localhost', 27017)\n",
    "db = client[database_name]\n",
    "collection = db[collection_name]"
   ]
  },
  {
   "cell_type": "code",
   "execution_count": 16,
   "metadata": {},
   "outputs": [],
   "source": [
    "# retreive player data on single game from database\n",
    "p1, p2 = tuple(collection.find({'game_id':game_id}))[:2]"
   ]
  },
  {
   "cell_type": "code",
   "execution_count": 17,
   "metadata": {},
   "outputs": [
    {
     "name": "stdout",
     "output_type": "stream",
     "text": [
      "<class 'bytes'>\n",
      "<class 'numpy.ndarray'>\n"
     ]
    }
   ],
   "source": [
    "# convert istream from \"sparse matrix bytestream\" to numpy array\n",
    "print(type(p1['istream']))\n",
    "if isinstance(p1['istream'], bytes):\n",
    "    p1['istream'] = pickle.loads( p1['istream']).toarray()\n",
    "    p2['istream'] = pickle.loads( p2['istream']).toarray()\n",
    "print(type(p1['istream']))"
   ]
  },
  {
   "cell_type": "code",
   "execution_count": 18,
   "metadata": {},
   "outputs": [
    {
     "name": "stdout",
     "output_type": "stream",
     "text": [
      "Goloche (GOLO#831): CAPTAIN_FALCON\n",
      "CuckDaddy (CUCK#434): FALCO\n"
     ]
    }
   ],
   "source": [
    "print(f\"{p1['name']} ({p1['code']}): {p1['character']}\")\n",
    "print(f\"{p2['name']} ({p2['code']}): {p2['character']}\")"
   ]
  },
  {
   "cell_type": "code",
   "execution_count": 19,
   "metadata": {},
   "outputs": [],
   "source": [
    "def presses(buttonstream):\n",
    "    return int(np.sum(np.abs(np.diff(buttonstream, axis=0)))/2)"
   ]
  },
  {
   "cell_type": "code",
   "execution_count": 20,
   "metadata": {
    "scrolled": false
   },
   "outputs": [
    {
     "name": "stdout",
     "output_type": "stream",
     "text": [
      "Goloche: CAPTAIN_FALCON\n",
      "---VS---\n",
      "CuckDaddy: FALCO\n",
      "\n",
      "Match Length: 1.51 minutes\n",
      "Match ID: Game_20200918T203825.slp\n",
      "\n",
      "Most A presses: 54\n",
      " --- CuckDaddy - FALCO\n",
      "\n",
      "Most B presses: 34\n",
      " --- CuckDaddy - FALCO\n",
      "\n",
      "Most X or Y presses: 76\n",
      " --- CuckDaddy - FALCO\n",
      "\n",
      "Most L or R presses: 57\n",
      " --- CuckDaddy - FALCO\n",
      "\n",
      "Most Z presses: 2\n",
      " --- CuckDaddy - FALCO\n"
     ]
    }
   ],
   "source": [
    "resultA = presses(p1['istream'][:, 9]) > presses(p2['istream'][:, 9])\n",
    "resultB = presses(p1['istream'][:, 8]) > presses(p2['istream'][:, 8])\n",
    "resultXY = presses(p1['istream'][:, [6,7]]) > presses(p2['istream'][:, [6,7]])\n",
    "resultLR = presses(p1['istream'][:, [10,11]]) > presses(p2['istream'][:, [10,11]])\n",
    "resultZ = presses(p1['istream'][:, 12]) > presses(p2['istream'][:, 12])\n",
    "\n",
    "whoA = p1 if resultA else p2\n",
    "whoB = p1 if resultB else p2\n",
    "whoXY = p1 if resultXY else p2\n",
    "whoLR = p1 if resultLR else p2\n",
    "whoZ = p1 if resultZ else p2\n",
    "\n",
    "print(f\"{p1['name']}: {p1['character']}\")\n",
    "print('---VS---')\n",
    "print(f\"{p2['name']}: {p2['character']}\")\n",
    "\n",
    "print(f\"\\nMatch Length: {round(len(p1['istream'])/3600, 2)} minutes\")\n",
    "print(f\"Match ID: {p1['game_id']}\")\n",
    "\n",
    "print(f\"\\nMost A presses: {presses(whoA['istream'][:, 9])}\\n --- {whoA['name']} - {whoA['character']}\")\n",
    "print(f\"\\nMost B presses: {presses(whoB['istream'][:, 8])}\\n --- {whoB['name']} - {whoB['character']}\")\n",
    "print(f\"\\nMost X or Y presses: {presses(whoXY['istream'][:, [6,7]])}\\n --- {whoXY['name']} - {whoXY['character']}\")\n",
    "print(f\"\\nMost L or R presses: {presses(whoLR['istream'][:, [10,11]])}\\n --- {whoLR['name']} - {whoLR['character']}\")\n",
    "print(f\"\\nMost Z presses: {presses(whoZ['istream'][:, 12])}\\n --- {whoZ['name']} - {whoZ['character']}\")"
   ]
  },
  {
   "cell_type": "code",
   "execution_count": 21,
   "metadata": {},
   "outputs": [
    {
     "name": "stdout",
     "output_type": "stream",
     "text": [
      "Goloche uses X to jump\n",
      "CuckDaddy uses Y to jump\n"
     ]
    }
   ],
   "source": [
    "if presses(p1['istream'][:, 6]) > presses(p1['istream'][:, 7]):\n",
    "    jump_button = 'Y'\n",
    "else:\n",
    "    jump_button = 'X'\n",
    "print(f\"{p1['name']} uses {jump_button} to jump\")\n",
    "\n",
    "if presses(p2['istream'][:, 6]) > presses(p2['istream'][:, 7]):\n",
    "    jump_button = 'Y'\n",
    "else:\n",
    "    jump_button = 'X'\n",
    "print(f\"{p2['name']} uses {jump_button} to jump\")"
   ]
  },
  {
   "cell_type": "code",
   "execution_count": 23,
   "metadata": {},
   "outputs": [],
   "source": [
    "database_name = 'slippi'\n",
    "collection_name = 'gh0st'\n",
    "\n",
    "# Connect to the hosted MongoDB instance\n",
    "client = MongoClient('localhost', 27017)\n",
    "db = client[database_name]\n",
    "collection = db[collection_name]"
   ]
  },
  {
   "cell_type": "code",
   "execution_count": 24,
   "metadata": {},
   "outputs": [
    {
     "data": {
      "text/plain": [
       "0"
      ]
     },
     "execution_count": 24,
     "metadata": {},
     "output_type": "execute_result"
    }
   ],
   "source": [
    "collection.count_documents({'code' : 'GOOS#845'})"
   ]
  },
  {
   "cell_type": "code",
   "execution_count": 25,
   "metadata": {},
   "outputs": [
    {
     "data": {
      "text/plain": [
       "283"
      ]
     },
     "execution_count": 25,
     "metadata": {},
     "output_type": "execute_result"
    }
   ],
   "source": [
    "collection.count_documents({'code' : 'GHST#265'})"
   ]
  },
  {
   "cell_type": "code",
   "execution_count": 26,
   "metadata": {},
   "outputs": [
    {
     "data": {
      "text/plain": [
       "0"
      ]
     },
     "execution_count": 26,
     "metadata": {},
     "output_type": "execute_result"
    }
   ],
   "source": [
    "collection.count_documents({'code' : 'CUCK#434'})"
   ]
  },
  {
   "cell_type": "code",
   "execution_count": null,
   "metadata": {},
   "outputs": [],
   "source": []
  },
  {
   "cell_type": "code",
   "execution_count": null,
   "metadata": {},
   "outputs": [],
   "source": []
  }
 ],
 "metadata": {
  "kernelspec": {
   "display_name": "Python 3",
   "language": "python",
   "name": "python3"
  },
  "language_info": {
   "codemirror_mode": {
    "name": "ipython",
    "version": 3
   },
   "file_extension": ".py",
   "mimetype": "text/x-python",
   "name": "python",
   "nbconvert_exporter": "python",
   "pygments_lexer": "ipython3",
   "version": "3.8.5"
  }
 },
 "nbformat": 4,
 "nbformat_minor": 4
}
