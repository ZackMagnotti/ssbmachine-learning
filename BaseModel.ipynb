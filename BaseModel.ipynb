{
 "cells": [
  {
   "cell_type": "code",
   "execution_count": 1,
   "metadata": {},
   "outputs": [],
   "source": [
    "from src.data import character_data\n",
    "from src.util import characters, id_from_char, char_from_id, display_progress\n",
    "from src.base_model import base_model\n",
    "from tensorflow import keras\n",
    "import numpy as np"
   ]
  },
  {
   "cell_type": "markdown",
   "metadata": {},
   "source": [
    "# The Characters"
   ]
  },
  {
   "cell_type": "code",
   "execution_count": 2,
   "metadata": {},
   "outputs": [
    {
     "name": "stdout",
     "output_type": "stream",
     "text": [
      "CAPTAIN_FALCON\n",
      "DONKEY_KONG\n",
      "FOX\n",
      "GAME_AND_WATCH\n",
      "KIRBY\n",
      "BOWSER\n",
      "LINK\n",
      "LUIGI\n",
      "MARIO\n",
      "MARTH\n",
      "MEWTWO\n",
      "NESS\n",
      "PEACH\n",
      "PIKACHU\n",
      "ICE_CLIMBERS\n",
      "JIGGLYPUFF\n",
      "SAMUS\n",
      "YOSHI\n",
      "ZELDA\n",
      "SHEIK\n",
      "FALCO\n",
      "YOUNG_LINK\n",
      "DR_MARIO\n",
      "ROY\n",
      "PICHU\n",
      "GANONDORF\n"
     ]
    }
   ],
   "source": [
    "for character in characters:\n",
    "    print(character)"
   ]
  },
  {
   "cell_type": "markdown",
   "metadata": {},
   "source": [
    "# The Model"
   ]
  },
  {
   "cell_type": "code",
   "execution_count": 3,
   "metadata": {},
   "outputs": [],
   "source": [
    "# # For loading existing models\n",
    "# model = keras.models.load_model('models/SSBML-Base-Model')"
   ]
  },
  {
   "cell_type": "code",
   "execution_count": 44,
   "metadata": {},
   "outputs": [],
   "source": [
    "# for creating a new model\n",
    "model = base_model()"
   ]
  },
  {
   "cell_type": "code",
   "execution_count": 67,
   "metadata": {},
   "outputs": [
    {
     "name": "stdout",
     "output_type": "stream",
     "text": [
      "Model: \"SSBML-Base-Model\"\n",
      "_________________________________________________________________\n",
      "Layer (type)                 Output Shape              Param #   \n",
      "=================================================================\n",
      "ConvCell-1 (Sequential)      (None, None, 150)         59250     \n",
      "_________________________________________________________________\n",
      "ConvCell-2 (Sequential)      (None, None, 256)         577280    \n",
      "_________________________________________________________________\n",
      "ConvCell-3 (Sequential)      (None, None, 512)         1968640   \n",
      "_________________________________________________________________\n",
      "ConvCell-4 (Sequential)      (None, None, 512)         3932672   \n",
      "_________________________________________________________________\n",
      "global_average_pooling1d_1 ( (None, 512)               0         \n",
      "_________________________________________________________________\n",
      "flatten_1 (Flatten)          (None, 512)               0         \n",
      "_________________________________________________________________\n",
      "DenseCell-1 (Sequential)     (None, 128)               66176     \n",
      "_________________________________________________________________\n",
      "DenseCell-2 (Sequential)     (None, 128)               17024     \n",
      "_________________________________________________________________\n",
      "final (Dense)                (None, 26)                3354      \n",
      "=================================================================\n",
      "Total params: 6,624,396\n",
      "Trainable params: 6,622,048\n",
      "Non-trainable params: 2,348\n",
      "_________________________________________________________________\n"
     ]
    }
   ],
   "source": [
    "model.summary()"
   ]
  },
  {
   "cell_type": "markdown",
   "metadata": {},
   "source": [
    "# Testing"
   ]
  },
  {
   "cell_type": "code",
   "execution_count": 191,
   "metadata": {},
   "outputs": [],
   "source": [
    "data_test = character_data(\n",
    "    input_directory='data/character/test',\n",
    "    batch_size = 100,\n",
    "    repeat=True,\n",
    ")"
   ]
  },
  {
   "cell_type": "code",
   "execution_count": 192,
   "metadata": {},
   "outputs": [
    {
     "name": "stdout",
     "output_type": "stream",
     "text": [
      "1000/1000 [==============================] - 138s 138ms/step - loss: 0.0275 - accuracy: 0.9671 - top 8 accuracy: 0.9963\n",
      "\n",
      "Test score: 0.028\n",
      "Test accuracy: 97%\n",
      "Test top 8 accuracy: 100%\n"
     ]
    }
   ],
   "source": [
    "score = model.evaluate(data_test, verbose=1, steps=1000)\n",
    "\n",
    "print('\\nTest score:', round(score[0], 3))\n",
    "print(f'Test accuracy: {round(score[1]*100)}%')\n",
    "print(f'Test top 8 accuracy: {round(score[2]*100)}%') "
   ]
  },
  {
   "cell_type": "markdown",
   "metadata": {},
   "source": [
    "# Confusion Matrix"
   ]
  },
  {
   "cell_type": "code",
   "execution_count": 193,
   "metadata": {},
   "outputs": [],
   "source": [
    "import pandas as pd\n",
    "import matplotlib.pyplot as plt\n",
    "import seaborn as sn"
   ]
  },
  {
   "cell_type": "code",
   "execution_count": 194,
   "metadata": {},
   "outputs": [],
   "source": [
    "def get_conf_matrix(labels_as_id, predictions_as_id):\n",
    "    conf_matrix = np.zeros((26,26))\n",
    "    for i_real, i_pred in zip(labels_as_id, predictions_as_id):\n",
    "        conf_matrix[i_real, i_pred] += 1\n",
    "    return conf_matrix"
   ]
  },
  {
   "cell_type": "code",
   "execution_count": 195,
   "metadata": {},
   "outputs": [],
   "source": [
    "num_batches = 100\n",
    "batch_size = 1000\n",
    "data_conf = character_data(\n",
    "    input_directory = 'data/character/test',\n",
    "    batch_size = batch_size,\n",
    "    repeat = False,\n",
    "    num_batches = num_batches,\n",
    "    onehot = False,\n",
    ")"
   ]
  },
  {
   "cell_type": "code",
   "execution_count": 196,
   "metadata": {},
   "outputs": [
    {
     "name": "stdout",
     "output_type": "stream",
     "text": [
      "[####################] 100 of 100 - 100.0% "
     ]
    }
   ],
   "source": [
    "batch_preds = []\n",
    "batch_labels = []\n",
    "N = num_batches * batch_size\n",
    "i = 0\n",
    "\n",
    "for xi, yi in data_conf:\n",
    "    batch_preds.append(np.argmax(model.predict(xi), axis=1))\n",
    "    batch_labels.append(yi)\n",
    "    \n",
    "    i+=1\n",
    "    display_progress(i, num_batches)\n",
    "display_progress(num_batches, num_batches)\n",
    "\n",
    "pred = np.concatenate(batch_preds)\n",
    "labels = np.concatenate(batch_labels)\n",
    "\n",
    "conf_matrix = get_conf_matrix(labels, pred)\n",
    "conf_df = pd.DataFrame(conf_matrix, index=characters, columns=characters)"
   ]
  },
  {
   "cell_type": "code",
   "execution_count": 226,
   "metadata": {},
   "outputs": [
    {
     "data": {
      "image/png": "[encoded data removed]",
      "text/plain": [
       "<Figure size 720x720 with 2 Axes>"
      ]
     },
     "metadata": {},
     "output_type": "display_data"
    }
   ],
   "source": [
    "fig, ax = plt.subplots(figsize=(10,10))\n",
    "fig.patch.set_facecolor('xkcd:lavender')\n",
    "\n",
    "# create heatmap\n",
    "ax = sn.heatmap(np.log10(1 + conf_df), annot=False, square=True, cbar=True, cbar_kws={'shrink':.8})\n",
    "\n",
    "# format title/axis lables\n",
    "fontdict = {'size': 32, 'family': 'serif', 'weight': 'semibold'}\n",
    "plt.title(f'Confusion Matrix for {N} predictions', pad=40, loc='center', fontdict=fontdict)\n",
    "plt.ylabel('True Character', fontdict=fontdict)\n",
    "plt.xlabel('Detected Character', fontdict=fontdict)\n",
    "for tick in ax.get_xticklabels():\n",
    "    tick.set_horizontalalignment('right')\n",
    "    tick.set_rotation_mode('anchor')\n",
    "    tick.set_rotation(45)\n",
    "\n",
    "# format colorbar\n",
    "cbar = ax.collections[0].colorbar\n",
    "cbar_ticks = [0, 1, 2, 3, 4]\n",
    "cbar.set_ticks(cbar_ticks)\n",
    "cbar.set_ticklabels([f'10^{tick}' for tick in cbar_ticks])\n",
    "\n",
    "# save figure and show\n",
    "fig.savefig('images/SSBML-Base-Model.png')\n",
    "plt.show()"
   ]
  },
  {
   "cell_type": "markdown",
   "metadata": {},
   "source": [
    "# Training"
   ]
  },
  {
   "cell_type": "code",
   "execution_count": 46,
   "metadata": {},
   "outputs": [],
   "source": [
    "# Define Data generation\n",
    "data_train = character_data(\n",
    "    input_directory='data/character/train',\n",
    "    batch_size = 32,\n",
    "    repeat=True\n",
    ")"
   ]
  },
  {
   "cell_type": "code",
   "execution_count": 47,
   "metadata": {},
   "outputs": [
    {
     "name": "stdout",
     "output_type": "stream",
     "text": [
      "Epoch 1/40\n",
      "2048/2048 [==============================] - 473s 231ms/step - loss: 0.2290 - accuracy: 0.6994 - top 8 accuracy: 0.9624\n",
      "Epoch 2/40\n",
      "2048/2048 [==============================] - 474s 232ms/step - loss: 0.1123 - accuracy: 0.8513 - top 8 accuracy: 0.9771\n",
      "Epoch 3/40\n",
      "2048/2048 [==============================] - 474s 231ms/step - loss: 0.0848 - accuracy: 0.8881 - top 8 accuracy: 0.9851\n",
      "Epoch 4/40\n",
      "2048/2048 [==============================] - 474s 231ms/step - loss: 0.0734 - accuracy: 0.9017 - top 8 accuracy: 0.9867\n",
      "Epoch 5/40\n",
      "2048/2048 [==============================] - 473s 231ms/step - loss: 0.0690 - accuracy: 0.9085 - top 8 accuracy: 0.9873\n",
      "Epoch 6/40\n",
      "2048/2048 [==============================] - 474s 232ms/step - loss: 0.0633 - accuracy: 0.9147 - top 8 accuracy: 0.9886\n",
      "Epoch 7/40\n",
      "2048/2048 [==============================] - 474s 231ms/step - loss: 0.0593 - accuracy: 0.9196 - top 8 accuracy: 0.9893\n",
      "Epoch 8/40\n",
      "2048/2048 [==============================] - 475s 232ms/step - loss: 0.0563 - accuracy: 0.9242 - top 8 accuracy: 0.9907\n",
      "Epoch 9/40\n",
      "2048/2048 [==============================] - 476s 233ms/step - loss: 0.0539 - accuracy: 0.9277 - top 8 accuracy: 0.9910\n",
      "Epoch 10/40\n",
      "2048/2048 [==============================] - 475s 232ms/step - loss: 0.0514 - accuracy: 0.9301 - top 8 accuracy: 0.9911\n",
      "Epoch 11/40\n",
      "2048/2048 [==============================] - 475s 232ms/step - loss: 0.0509 - accuracy: 0.9323 - top 8 accuracy: 0.9907\n",
      "Epoch 12/40\n",
      "2048/2048 [==============================] - 477s 233ms/step - loss: 0.0490 - accuracy: 0.9332 - top 8 accuracy: 0.9913\n",
      "Epoch 13/40\n",
      "2048/2048 [==============================] - 477s 233ms/step - loss: 0.0461 - accuracy: 0.9372 - top 8 accuracy: 0.9918\n",
      "Epoch 14/40\n",
      "2048/2048 [==============================] - 473s 231ms/step - loss: 0.0443 - accuracy: 0.9393 - top 8 accuracy: 0.9923\n",
      "Epoch 15/40\n",
      "2048/2048 [==============================] - 476s 232ms/step - loss: 0.0432 - accuracy: 0.9412 - top 8 accuracy: 0.9923\n",
      "Epoch 16/40\n",
      "2048/2048 [==============================] - 478s 233ms/step - loss: 0.0430 - accuracy: 0.9417 - top 8 accuracy: 0.9926\n",
      "Epoch 17/40\n",
      "2048/2048 [==============================] - 480s 234ms/step - loss: 0.0420 - accuracy: 0.9421 - top 8 accuracy: 0.9927\n",
      "Epoch 18/40\n",
      "2048/2048 [==============================] - 480s 235ms/step - loss: 0.0418 - accuracy: 0.9434 - top 8 accuracy: 0.9928\n",
      "Epoch 19/40\n",
      "2048/2048 [==============================] - 481s 235ms/step - loss: 0.0399 - accuracy: 0.9451 - top 8 accuracy: 0.9934\n",
      "Epoch 20/40\n",
      "2048/2048 [==============================] - 480s 234ms/step - loss: 0.0413 - accuracy: 0.9447 - top 8 accuracy: 0.9927\n",
      "Epoch 21/40\n",
      "2048/2048 [==============================] - 481s 235ms/step - loss: 0.0411 - accuracy: 0.9449 - top 8 accuracy: 0.9924\n",
      "Epoch 22/40\n",
      "2048/2048 [==============================] - 483s 236ms/step - loss: 0.0388 - accuracy: 0.9469 - top 8 accuracy: 0.9934\n",
      "Epoch 23/40\n",
      "2048/2048 [==============================] - 482s 235ms/step - loss: 0.0390 - accuracy: 0.9468 - top 8 accuracy: 0.9930\n",
      "Epoch 24/40\n",
      "2048/2048 [==============================] - 481s 235ms/step - loss: 0.0382 - accuracy: 0.9473 - top 8 accuracy: 0.9934\n",
      "Epoch 25/40\n",
      "2048/2048 [==============================] - 482s 235ms/step - loss: 0.0383 - accuracy: 0.9481 - top 8 accuracy: 0.9933\n",
      "Epoch 26/40\n",
      "2048/2048 [==============================] - 481s 235ms/step - loss: 0.0345 - accuracy: 0.9526 - top 8 accuracy: 0.9938\n",
      "Epoch 27/40\n",
      "2048/2048 [==============================] - 481s 235ms/step - loss: 0.0343 - accuracy: 0.9531 - top 8 accuracy: 0.9942\n",
      "Epoch 28/40\n",
      "2048/2048 [==============================] - 482s 235ms/step - loss: 0.0348 - accuracy: 0.9517 - top 8 accuracy: 0.9941\n",
      "Epoch 29/40\n",
      "2048/2048 [==============================] - 479s 234ms/step - loss: 0.0345 - accuracy: 0.9523 - top 8 accuracy: 0.9938\n",
      "Epoch 30/40\n",
      "2048/2048 [==============================] - 479s 234ms/step - loss: 0.0330 - accuracy: 0.9544 - top 8 accuracy: 0.9946\n",
      "Epoch 31/40\n",
      "2048/2048 [==============================] - 478s 233ms/step - loss: 0.0340 - accuracy: 0.9536 - top 8 accuracy: 0.9939\n",
      "Epoch 32/40\n",
      "2048/2048 [==============================] - 479s 234ms/step - loss: 0.0328 - accuracy: 0.9544 - top 8 accuracy: 0.9944\n",
      "Epoch 33/40\n",
      "2048/2048 [==============================] - 478s 233ms/step - loss: 0.0338 - accuracy: 0.9528 - top 8 accuracy: 0.9940\n",
      "Epoch 34/40\n",
      "2048/2048 [==============================] - 479s 234ms/step - loss: 0.0328 - accuracy: 0.9553 - top 8 accuracy: 0.9945\n",
      "Epoch 35/40\n",
      "2048/2048 [==============================] - 479s 234ms/step - loss: 0.0328 - accuracy: 0.9550 - top 8 accuracy: 0.9948\n",
      "Epoch 36/40\n",
      "2048/2048 [==============================] - 481s 235ms/step - loss: 0.0332 - accuracy: 0.9545 - top 8 accuracy: 0.9942\n",
      "Epoch 37/40\n",
      "2048/2048 [==============================] - 480s 234ms/step - loss: 0.0326 - accuracy: 0.9557 - top 8 accuracy: 0.9941\n",
      "Epoch 38/40\n",
      "2048/2048 [==============================] - 482s 235ms/step - loss: 0.0307 - accuracy: 0.9567 - top 8 accuracy: 0.9950\n",
      "Epoch 39/40\n",
      "2048/2048 [==============================] - 480s 234ms/step - loss: 0.0285 - accuracy: 0.9606 - top 8 accuracy: 0.9955\n",
      "Epoch 40/40\n",
      "2048/2048 [==============================] - 480s 234ms/step - loss: 0.0290 - accuracy: 0.9596 - top 8 accuracy: 0.9950\n",
      "\n",
      "Test score: 0.03\n",
      "Test accuracy: 96%\n",
      "Test top 8 accuracy: 99%\n"
     ]
    }
   ],
   "source": [
    "# Training Loop\n",
    "model.fit(\n",
    "    data_train,\n",
    "    epochs=40,\n",
    "    steps_per_epoch=2048,\n",
    "    verbose=1\n",
    ")\n",
    "\n",
    "score = model.evaluate(data_test, steps=50, verbose=0)\n",
    "print('\\nTest score:', round(score[0], 3))\n",
    "print(f'Test accuracy: {round(score[1]*100)}%')\n",
    "print(f'Test top 8 accuracy: {round(score[2]*100)}%')"
   ]
  },
  {
   "cell_type": "code",
   "execution_count": 48,
   "metadata": {},
   "outputs": [],
   "source": [
    "# Define Data generation\n",
    "data_train = character_data(\n",
    "    input_directory='data/character/train',\n",
    "    batch_size = 128,\n",
    "    repeat=True,\n",
    ")"
   ]
  },
  {
   "cell_type": "code",
   "execution_count": 49,
   "metadata": {},
   "outputs": [
    {
     "name": "stdout",
     "output_type": "stream",
     "text": [
      "Epoch 1/20\n",
      "512/512 [==============================] - 508s 993ms/step - loss: 0.0245 - accuracy: 0.9657 - top 8 accuracy: 0.9956\n",
      "Epoch 2/20\n",
      "512/512 [==============================] - 503s 983ms/step - loss: 0.0228 - accuracy: 0.9678 - top 8 accuracy: 0.9958\n",
      "Epoch 3/20\n",
      "512/512 [==============================] - 502s 981ms/step - loss: 0.0225 - accuracy: 0.9689 - top 8 accuracy: 0.9961\n",
      "Epoch 4/20\n",
      "512/512 [==============================] - 501s 978ms/step - loss: 0.0231 - accuracy: 0.9680 - top 8 accuracy: 0.9962\n",
      "Epoch 5/20\n",
      "512/512 [==============================] - 502s 980ms/step - loss: 0.0216 - accuracy: 0.9692 - top 8 accuracy: 0.9961\n",
      "Epoch 6/20\n",
      "512/512 [==============================] - 501s 979ms/step - loss: 0.0227 - accuracy: 0.9689 - top 8 accuracy: 0.9963\n",
      "Epoch 7/20\n",
      "512/512 [==============================] - 502s 981ms/step - loss: 0.0213 - accuracy: 0.9698 - top 8 accuracy: 0.9962\n",
      "Epoch 8/20\n",
      "512/512 [==============================] - 503s 982ms/step - loss: 0.0228 - accuracy: 0.9680 - top 8 accuracy: 0.9961\n",
      "Epoch 9/20\n",
      "512/512 [==============================] - 502s 981ms/step - loss: 0.0216 - accuracy: 0.9693 - top 8 accuracy: 0.9960\n",
      "Epoch 10/20\n",
      "512/512 [==============================] - 505s 986ms/step - loss: 0.0226 - accuracy: 0.9688 - top 8 accuracy: 0.9962\n",
      "Epoch 11/20\n",
      "512/512 [==============================] - 505s 987ms/step - loss: 0.0223 - accuracy: 0.9693 - top 8 accuracy: 0.9965\n",
      "Epoch 12/20\n",
      "512/512 [==============================] - 506s 989ms/step - loss: 0.0215 - accuracy: 0.9698 - top 8 accuracy: 0.9963\n",
      "Epoch 13/20\n",
      "512/512 [==============================] - 507s 990ms/step - loss: 0.0189 - accuracy: 0.9735 - top 8 accuracy: 0.9969\n",
      "Epoch 14/20\n",
      "512/512 [==============================] - 504s 985ms/step - loss: 0.0169 - accuracy: 0.9758 - top 8 accuracy: 0.9973\n",
      "Epoch 15/20\n",
      "512/512 [==============================] - 504s 985ms/step - loss: 0.0179 - accuracy: 0.9737 - top 8 accuracy: 0.9970\n",
      "Epoch 16/20\n",
      "512/512 [==============================] - 503s 983ms/step - loss: 0.0180 - accuracy: 0.9749 - top 8 accuracy: 0.9969\n",
      "Epoch 17/20\n",
      "512/512 [==============================] - 503s 983ms/step - loss: 0.0189 - accuracy: 0.9733 - top 8 accuracy: 0.9967\n",
      "Epoch 18/20\n",
      "512/512 [==============================] - 503s 982ms/step - loss: 0.0186 - accuracy: 0.9734 - top 8 accuracy: 0.9968\n",
      "Epoch 19/20\n",
      "512/512 [==============================] - 506s 988ms/step - loss: 0.0178 - accuracy: 0.9749 - top 8 accuracy: 0.9967\n",
      "Epoch 20/20\n",
      "512/512 [==============================] - 504s 984ms/step - loss: 0.0187 - accuracy: 0.9731 - top 8 accuracy: 0.9969\n",
      "\n",
      "Test score: 0.028\n",
      "Test accuracy: 96%\n",
      "Test top 8 accuracy: 100%\n"
     ]
    }
   ],
   "source": [
    "# Training Loop\n",
    "model.fit(\n",
    "    data_train,\n",
    "    epochs=20,\n",
    "    steps_per_epoch=512,\n",
    "    verbose=1,\n",
    ")\n",
    "\n",
    "score = model.evaluate(data_test, steps=50, verbose=0)\n",
    "print('\\nTest score:', round(score[0], 3))\n",
    "print(f'Test accuracy: {round(score[1]*100)}%')\n",
    "print(f'Test top 8 accuracy: {round(score[2]*100)}%')"
   ]
  },
  {
   "cell_type": "code",
   "execution_count": 50,
   "metadata": {},
   "outputs": [],
   "source": [
    "# Define Data generation\n",
    "data_train = character_data(\n",
    "    input_directory='data/character/train',\n",
    "    batch_size = 512,\n",
    "    repeat=True,\n",
    ")"
   ]
  },
  {
   "cell_type": "code",
   "execution_count": 51,
   "metadata": {},
   "outputs": [
    {
     "name": "stdout",
     "output_type": "stream",
     "text": [
      "Epoch 1/10\n",
      "128/128 [==============================] - 522s 4s/step - loss: 0.0150 - accuracy: 0.9786 - top 8 accuracy: 0.9973\n",
      "Epoch 2/10\n",
      "128/128 [==============================] - 520s 4s/step - loss: 0.0149 - accuracy: 0.9790 - top 8 accuracy: 0.9972\n",
      "Epoch 3/10\n",
      "128/128 [==============================] - 519s 4s/step - loss: 0.0147 - accuracy: 0.9788 - top 8 accuracy: 0.9973\n",
      "Epoch 4/10\n",
      "128/128 [==============================] - 518s 4s/step - loss: 0.0152 - accuracy: 0.9787 - top 8 accuracy: 0.9973\n",
      "Epoch 5/10\n",
      "128/128 [==============================] - 517s 4s/step - loss: 0.0149 - accuracy: 0.9781 - top 8 accuracy: 0.9972\n",
      "Epoch 6/10\n",
      "128/128 [==============================] - 517s 4s/step - loss: 0.0148 - accuracy: 0.9793 - top 8 accuracy: 0.9975\n",
      "Epoch 7/10\n",
      "128/128 [==============================] - 517s 4s/step - loss: 0.0142 - accuracy: 0.9796 - top 8 accuracy: 0.9977\n",
      "Epoch 8/10\n",
      "128/128 [==============================] - 517s 4s/step - loss: 0.0148 - accuracy: 0.9791 - top 8 accuracy: 0.9973\n",
      "Epoch 9/10\n",
      "128/128 [==============================] - 519s 4s/step - loss: 0.0154 - accuracy: 0.9785 - top 8 accuracy: 0.9973\n",
      "Epoch 10/10\n",
      "128/128 [==============================] - 519s 4s/step - loss: 0.0145 - accuracy: 0.9793 - top 8 accuracy: 0.9976\n",
      "\n",
      "Test score: 0.028\n",
      "Test accuracy: 97%\n",
      "Test top 8 accuracy: 100%\n"
     ]
    }
   ],
   "source": [
    "# Training Loop\n",
    "model.fit(\n",
    "    data_train,\n",
    "    epochs=10,\n",
    "    steps_per_epoch=128,\n",
    "    verbose=1,\n",
    ")\n",
    "\n",
    "score = model.evaluate(data_test, steps=50, verbose=0)\n",
    "print('\\nTest score:', round(score[0], 3))\n",
    "print(f'Test accuracy: {round(score[1]*100)}%')\n",
    "print(f'Test top 8 accuracy: {round(score[2]*100)}%')"
   ]
  },
  {
   "cell_type": "code",
   "execution_count": 52,
   "metadata": {},
   "outputs": [],
   "source": [
    "# Define Data generation\n",
    "data_train = character_data(\n",
    "    input_directory='data/character/train',\n",
    "    batch_size = 2048,\n",
    "    repeat=True,\n",
    ")"
   ]
  },
  {
   "cell_type": "code",
   "execution_count": 53,
   "metadata": {},
   "outputs": [
    {
     "name": "stdout",
     "output_type": "stream",
     "text": [
      "Epoch 1/5\n",
      "32/32 [==============================] - 516s 16s/step - loss: 0.0123 - accuracy: 0.9824 - top 8 accuracy: 0.9976\n",
      "Epoch 2/5\n",
      "32/32 [==============================] - 513s 16s/step - loss: 0.0123 - accuracy: 0.9819 - top 8 accuracy: 0.9974\n",
      "Epoch 3/5\n",
      "32/32 [==============================] - 515s 16s/step - loss: 0.0120 - accuracy: 0.9824 - top 8 accuracy: 0.9977\n",
      "Epoch 4/5\n",
      "32/32 [==============================] - 513s 16s/step - loss: 0.0119 - accuracy: 0.9825 - top 8 accuracy: 0.9979\n",
      "Epoch 5/5\n",
      "32/32 [==============================] - 515s 16s/step - loss: 0.0120 - accuracy: 0.9830 - top 8 accuracy: 0.9978\n",
      "\n",
      "Test score: 0.03\n",
      "Test accuracy: 97%\n",
      "Test top 8 accuracy: 100%\n"
     ]
    }
   ],
   "source": [
    "# Training Loop\n",
    "model.fit(\n",
    "    data_train,\n",
    "    epochs=5,\n",
    "    steps_per_epoch=32,\n",
    "    verbose=1,\n",
    ")\n",
    "\n",
    "score = model.evaluate(data_test, steps=50, verbose=0)\n",
    "print('\\nTest score:', round(score[0], 3))\n",
    "print(f'Test accuracy: {round(score[1]*100)}%')\n",
    "print(f'Test top 8 accuracy: {round(score[2]*100)}%')"
   ]
  },
  {
   "cell_type": "code",
   "execution_count": 54,
   "metadata": {},
   "outputs": [
    {
     "name": "stdout",
     "output_type": "stream",
     "text": [
      "500/500 [==============================] - 70s 140ms/step - loss: 0.0280 - accuracy: 0.9669 - top 8 accuracy: 0.9964\n",
      "\n",
      "Test score: 0.028\n",
      "Test accuracy: 97%\n",
      "Test top 8 accuracy: 100%\n"
     ]
    }
   ],
   "source": [
    "score = model.evaluate(data_test, steps=500, verbose=1)\n",
    "print('\\nTest score:', round(score[0], 3))\n",
    "print(f'Test accuracy: {round(score[1]*100)}%')\n",
    "print(f'Test top 8 accuracy: {round(score[2]*100)}%')"
   ]
  },
  {
   "cell_type": "markdown",
   "metadata": {},
   "source": [
    "## Don't forget to save!"
   ]
  },
  {
   "cell_type": "code",
   "execution_count": 55,
   "metadata": {},
   "outputs": [],
   "source": [
    "model.save('models/SSBML-Base-Model')"
   ]
  },
  {
   "cell_type": "markdown",
   "metadata": {},
   "source": [
    "# Fine Tuning"
   ]
  },
  {
   "cell_type": "code",
   "execution_count": null,
   "metadata": {},
   "outputs": [],
   "source": [
    "# increase focus of focal loss to\n",
    "# increase accuracy on minority classes\n",
    "from src.base_model import top_8_accuracy\n",
    "import tensorflow_addons as tfa\n",
    "loss = tfa.losses.SigmoidFocalCrossEntropy(\n",
    "    alpha = 2.5,\n",
    "    gamma = 2.5,\n",
    ")\n",
    "# reduce learning rate\n",
    "optimizer = keras.optimizers.Adam(\n",
    "    learning_rate = .0005,\n",
    ")\n",
    "# compile\n",
    "model.compile(\n",
    "    loss=loss,\n",
    "    optimizer=optimizer,\n",
    "    metrics=['accuracy', top_8_accuracy]\n",
    ")"
   ]
  },
  {
   "cell_type": "code",
   "execution_count": null,
   "metadata": {},
   "outputs": [],
   "source": [
    "# Define Data generation\n",
    "data_train = character_data(\n",
    "    input_directory='data/character/train',\n",
    "    batch_size = 128,\n",
    "    repeat=True,\n",
    ")"
   ]
  },
  {
   "cell_type": "code",
   "execution_count": null,
   "metadata": {},
   "outputs": [],
   "source": [
    "# Training Loop\n",
    "model.fit(\n",
    "    data_train,\n",
    "    epochs=1,\n",
    "    steps_per_epoch=512,\n",
    "    verbose=1,\n",
    ")\n",
    "\n",
    "score = model.evaluate(data_test, steps=50, verbose=0)\n",
    "print('\\nTest score:', round(score[0], 3))\n",
    "print(f'Test accuracy: {round(score[1]*100)}%')\n",
    "print(f'Test top 8 accuracy: {round(score[2]*100)}%')"
   ]
  },
  {
   "cell_type": "code",
   "execution_count": null,
   "metadata": {},
   "outputs": [],
   "source": [
    "# Training Loop\n",
    "model.fit(\n",
    "    data_train,\n",
    "    epochs=1,\n",
    "    steps_per_epoch=512,\n",
    "    verbose=1,\n",
    ")\n",
    "\n",
    "score = model.evaluate(data_test, steps=50, verbose=0)\n",
    "print('\\nTest score:', round(score[0], 3))\n",
    "print(f'Test accuracy: {round(score[1]*100)}%')\n",
    "print(f'Test top 8 accuracy: {round(score[2]*100)}%')"
   ]
  },
  {
   "cell_type": "code",
   "execution_count": null,
   "metadata": {},
   "outputs": [],
   "source": [
    "score = model.evaluate(data_test, steps=500, verbose=0)\n",
    "print('\\nTest score:', round(score[0], 3))\n",
    "print(f'Test accuracy: {round(score[1]*100)}%')\n",
    "print(f'Test top 8 accuracy: {round(score[2]*100)}%')"
   ]
  },
  {
   "cell_type": "code",
   "execution_count": null,
   "metadata": {},
   "outputs": [],
   "source": [
    "model.save('models/SSBML-Base-Model')"
   ]
  }
 ],
 "metadata": {
  "kernelspec": {
   "display_name": "Python 3",
   "language": "python",
   "name": "python3"
  },
  "language_info": {
   "codemirror_mode": {
    "name": "ipython",
    "version": 3
   },
   "file_extension": ".py",
   "mimetype": "text/x-python",
   "name": "python",
   "nbconvert_exporter": "python",
   "pygments_lexer": "ipython3",
   "version": "3.8.5"
  }
 },
 "nbformat": 4,
 "nbformat_minor": 4
}
