{
 "cells": [
  {
   "cell_type": "code",
   "execution_count": 1,
   "metadata": {},
   "outputs": [],
   "source": [
    "from src.data import character_data\n",
    "from src.util import characters, id_from_char, char_from_id, display_progress\n",
    "from src.base_model import base_model\n",
    "from tensorflow import keras\n",
    "import numpy as np\n",
    "import pickle"
   ]
  },
  {
   "cell_type": "markdown",
   "metadata": {},
   "source": [
    "# The Characters"
   ]
  },
  {
   "cell_type": "code",
   "execution_count": 2,
   "metadata": {},
   "outputs": [
    {
     "name": "stdout",
     "output_type": "stream",
     "text": [
      "CAPTAIN_FALCON\n",
      "DONKEY_KONG\n",
      "FOX\n",
      "GAME_AND_WATCH\n",
      "KIRBY\n",
      "BOWSER\n",
      "LINK\n",
      "LUIGI\n",
      "MARIO\n",
      "MARTH\n",
      "MEWTWO\n",
      "NESS\n",
      "PEACH\n",
      "PIKACHU\n",
      "ICE_CLIMBERS\n",
      "JIGGLYPUFF\n",
      "SAMUS\n",
      "YOSHI\n",
      "ZELDA\n",
      "SHEIK\n",
      "FALCO\n",
      "YOUNG_LINK\n",
      "DR_MARIO\n",
      "ROY\n",
      "PICHU\n",
      "GANONDORF\n"
     ]
    }
   ],
   "source": [
    "for character in characters:\n",
    "    print(character)"
   ]
  },
  {
   "cell_type": "markdown",
   "metadata": {},
   "source": [
    "# The Model"
   ]
  },
  {
   "cell_type": "code",
   "execution_count": 3,
   "metadata": {},
   "outputs": [
    {
     "name": "stdout",
     "output_type": "stream",
     "text": [
      "Model: \"SSBML-Base-Model\"\n",
      "_________________________________________________________________\n",
      "Layer (type)                 Output Shape              Param #   \n",
      "=================================================================\n",
      "ConvCell-1 (Sequential)      (None, None, 150)         59250     \n",
      "_________________________________________________________________\n",
      "ConvCell-2 (Sequential)      (None, None, 256)         577280    \n",
      "_________________________________________________________________\n",
      "ConvCell-3 (Sequential)      (None, None, 512)         1968640   \n",
      "_________________________________________________________________\n",
      "ConvCell-4 (Sequential)      (None, None, 512)         3932672   \n",
      "_________________________________________________________________\n",
      "global_average_pooling1d (Gl (None, 512)               0         \n",
      "_________________________________________________________________\n",
      "flatten (Flatten)            (None, 512)               0         \n",
      "_________________________________________________________________\n",
      "DenseCell-1 (Sequential)     (None, 128)               66176     \n",
      "_________________________________________________________________\n",
      "DenseCell-2 (Sequential)     (None, 128)               17024     \n",
      "_________________________________________________________________\n",
      "final (Dense)                (None, 26)                3354      \n",
      "=================================================================\n",
      "Total params: 6,624,396\n",
      "Trainable params: 6,622,048\n",
      "Non-trainable params: 2,348\n",
      "_________________________________________________________________\n"
     ]
    }
   ],
   "source": [
    "model = base_model()\n",
    "model.summary()"
   ]
  },
  {
   "cell_type": "markdown",
   "metadata": {},
   "source": [
    "# Testing"
   ]
  },
  {
   "cell_type": "code",
   "execution_count": 4,
   "metadata": {},
   "outputs": [],
   "source": [
    "data_test = character_data(input_directory='data/character/test',\n",
    "                           batch_size = 100,\n",
    "                           shuffle=True,\n",
    "                           repeat=True)"
   ]
  },
  {
   "cell_type": "code",
   "execution_count": 16,
   "metadata": {},
   "outputs": [
    {
     "name": "stdout",
     "output_type": "stream",
     "text": [
      "500/500 [==============================] - 69s 137ms/step - loss: 0.0273 - accuracy: 0.9502 - top 8 accuracy: 0.9859\n",
      "\n",
      "Test score: 0.027\n",
      "Test accuracy: 95%\n",
      "Test test top 8 categorical accuracy: 99%\n"
     ]
    }
   ],
   "source": [
    "score = model.evaluate(data_test, verbose=1, steps=500)\n",
    "\n",
    "print('\\nTest score:', round(score[0], 3))\n",
    "print(f'Test accuracy: {round(score[1]*100)}%')\n",
    "print(f'Test test top 8 categorical accuracy: {round(score[2]*100)}%') "
   ]
  },
  {
   "cell_type": "markdown",
   "metadata": {},
   "source": [
    "# Confusion Matrix"
   ]
  },
  {
   "cell_type": "code",
   "execution_count": 17,
   "metadata": {},
   "outputs": [],
   "source": [
    "import pandas as pd\n",
    "import seaborn as sn\n",
    "import matplotlib.pyplot as plt"
   ]
  },
  {
   "cell_type": "code",
   "execution_count": 18,
   "metadata": {},
   "outputs": [],
   "source": [
    "def get_conf_matrix(labels_as_id, predictions_as_id):\n",
    "    conf_matrix = np.zeros((27,27))\n",
    "    for i_real, i_pred in zip(labels_as_id, predictions_as_id):\n",
    "        conf_matrix[i_real, i_pred] += 1\n",
    "    return conf_matrix"
   ]
  },
  {
   "cell_type": "code",
   "execution_count": 29,
   "metadata": {},
   "outputs": [],
   "source": [
    "num_batches = 100\n",
    "data_conf = character_data(input_directory='data/character/test',\n",
    "                           batch_size = 100,\n",
    "                           num_batches = num_batches,\n",
    "                           shuffle=True,\n",
    "                           onehot=False)"
   ]
  },
  {
   "cell_type": "code",
   "execution_count": 30,
   "metadata": {},
   "outputs": [
    {
     "name": "stdout",
     "output_type": "stream",
     "text": [
      "[####################] 100 of 100 - 100.0% "
     ]
    }
   ],
   "source": [
    "batch_preds = []\n",
    "batch_labels = []\n",
    "i = 0\n",
    "\n",
    "for xi, yi in data_conf:\n",
    "    batch_preds.append(np.argmax(model.predict(xi), axis=1))\n",
    "    batch_labels.append(yi)\n",
    "    \n",
    "    i+=1\n",
    "    display_progress(i, num_batches)\n",
    "display_progress(num_batches, num_batches)\n",
    "    \n",
    "pred = np.concatenate(batch_preds)\n",
    "labels = np.concatenate(batch_labels)\n",
    "\n",
    "conf_matrix = get_conf_matrix(labels, pred)\n",
    "conf_df = pd.DataFrame(conf_matrix[1:,1:], index=characters, columns=characters)"
   ]
  },
  {
   "cell_type": "code",
   "execution_count": 31,
   "metadata": {},
   "outputs": [
    {
     "data": {
      "image/png": "[encoded data removed]",
      "text/plain": [
       "<Figure size 936x720 with 2 Axes>"
      ]
     },
     "metadata": {},
     "output_type": "display_data"
    }
   ],
   "source": [
    "# sn.heatmap(conf_df, annot=False, mask=conf_df <= 0, cmap='viridis')\n",
    "fig, ax = plt.subplots(figsize=(13,10))\n",
    "fig.patch.set_facecolor('white')\n",
    "sn.heatmap(np.log(1 + conf_df), annot=False, ax=ax, square=False)\n",
    "fig.savefig('images/SSBML-Base-Model.png')"
   ]
  },
  {
   "cell_type": "markdown",
   "metadata": {},
   "source": [
    "# Training"
   ]
  },
  {
   "cell_type": "code",
   "execution_count": 6,
   "metadata": {},
   "outputs": [],
   "source": [
    "# Define Data generation\n",
    "data_train = character_data(input_directory='data/character/train',\n",
    "                            batch_size = 32,\n",
    "                            shuffle=True,\n",
    "                            repeat=True)"
   ]
  },
  {
   "cell_type": "code",
   "execution_count": 7,
   "metadata": {},
   "outputs": [
    {
     "name": "stdout",
     "output_type": "stream",
     "text": [
      "Epoch 1/20\n",
      "2048/2048 [==============================] - 507s 248ms/step - loss: 0.2187 - accuracy: 0.6974 - top 8 accuracy: 0.9310\n",
      "Epoch 2/20\n",
      "2048/2048 [==============================] - 502s 245ms/step - loss: 0.1052 - accuracy: 0.8474 - top 8 accuracy: 0.9663\n",
      "Epoch 3/20\n",
      "2048/2048 [==============================] - 499s 244ms/step - loss: 0.0817 - accuracy: 0.8776 - top 8 accuracy: 0.9709\n",
      "Epoch 4/20\n",
      "2048/2048 [==============================] - 504s 246ms/step - loss: 0.0710 - accuracy: 0.8930 - top 8 accuracy: 0.9743\n",
      "Epoch 5/20\n",
      "2048/2048 [==============================] - 505s 246ms/step - loss: 0.0634 - accuracy: 0.9021 - top 8 accuracy: 0.9766\n",
      "Epoch 6/20\n",
      "2048/2048 [==============================] - 504s 246ms/step - loss: 0.0597 - accuracy: 0.9059 - top 8 accuracy: 0.9756\n",
      "Epoch 7/20\n",
      "2048/2048 [==============================] - 503s 246ms/step - loss: 0.0562 - accuracy: 0.9106 - top 8 accuracy: 0.9767\n",
      "Epoch 8/20\n",
      "2048/2048 [==============================] - 501s 245ms/step - loss: 0.0544 - accuracy: 0.9132 - top 8 accuracy: 0.9760\n",
      "Epoch 9/20\n",
      "2048/2048 [==============================] - 499s 243ms/step - loss: 0.0507 - accuracy: 0.9172 - top 8 accuracy: 0.9771\n",
      "Epoch 10/20\n",
      "2048/2048 [==============================] - 498s 243ms/step - loss: 0.0494 - accuracy: 0.9191 - top 8 accuracy: 0.9773\n",
      "Epoch 11/20\n",
      "2048/2048 [==============================] - 498s 243ms/step - loss: 0.0478 - accuracy: 0.9225 - top 8 accuracy: 0.9772\n",
      "Epoch 12/20\n",
      "2048/2048 [==============================] - 500s 244ms/step - loss: 0.0477 - accuracy: 0.9218 - top 8 accuracy: 0.9790\n",
      "Epoch 13/20\n",
      "2048/2048 [==============================] - 503s 246ms/step - loss: 0.0446 - accuracy: 0.9269 - top 8 accuracy: 0.9790\n",
      "Epoch 14/20\n",
      "2048/2048 [==============================] - 501s 245ms/step - loss: 0.0412 - accuracy: 0.9308 - top 8 accuracy: 0.9799\n",
      "Epoch 15/20\n",
      "2048/2048 [==============================] - 503s 245ms/step - loss: 0.0419 - accuracy: 0.9293 - top 8 accuracy: 0.9793\n",
      "Epoch 16/20\n",
      "2048/2048 [==============================] - 502s 245ms/step - loss: 0.0422 - accuracy: 0.9290 - top 8 accuracy: 0.9794\n",
      "Epoch 17/20\n",
      "2048/2048 [==============================] - 505s 247ms/step - loss: 0.0404 - accuracy: 0.9319 - top 8 accuracy: 0.9803\n",
      "Epoch 18/20\n",
      "2048/2048 [==============================] - 503s 246ms/step - loss: 0.0409 - accuracy: 0.9314 - top 8 accuracy: 0.9791\n",
      "Epoch 19/20\n",
      "2048/2048 [==============================] - 502s 245ms/step - loss: 0.0386 - accuracy: 0.9343 - top 8 accuracy: 0.9812\n",
      "Epoch 20/20\n",
      "2048/2048 [==============================] - 502s 245ms/step - loss: 0.0387 - accuracy: 0.9329 - top 8 accuracy: 0.9814\n",
      "\n",
      "Test score: 0.033\n",
      "Test accuracy: 94%\n",
      "Test test top 8 accuracy: 98%\n"
     ]
    }
   ],
   "source": [
    "# Training Loop\n",
    "model.fit(data_train,\n",
    "          epochs=20,\n",
    "          steps_per_epoch=2048,\n",
    "          verbose=1)\n",
    "\n",
    "score = model.evaluate(data_test, steps=50, verbose=0)\n",
    "print('\\nTest score:', round(score[0], 3))\n",
    "print(f'Test accuracy: {round(score[1]*100)}%')\n",
    "print(f'Test test top 8 accuracy: {round(score[2]*100)}%')"
   ]
  },
  {
   "cell_type": "code",
   "execution_count": 8,
   "metadata": {},
   "outputs": [],
   "source": [
    "# Define Data generation\n",
    "data_train = character_data(input_directory='data/character/train',\n",
    "                            batch_size = 128,\n",
    "                            shuffle=True,\n",
    "                            repeat=True)"
   ]
  },
  {
   "cell_type": "code",
   "execution_count": 9,
   "metadata": {},
   "outputs": [
    {
     "name": "stdout",
     "output_type": "stream",
     "text": [
      "Epoch 1/15\n",
      "512/512 [==============================] - 522s 1s/step - loss: 0.0313 - accuracy: 0.9437 - top 8 accuracy: 0.9811\n",
      "Epoch 2/15\n",
      "512/512 [==============================] - 516s 1s/step - loss: 0.0296 - accuracy: 0.9462 - top 8 accuracy: 0.9835\n",
      "Epoch 3/15\n",
      "512/512 [==============================] - 513s 1s/step - loss: 0.0289 - accuracy: 0.9463 - top 8 accuracy: 0.9826\n",
      "Epoch 4/15\n",
      "512/512 [==============================] - 513s 1s/step - loss: 0.0289 - accuracy: 0.9472 - top 8 accuracy: 0.9821\n",
      "Epoch 5/15\n",
      "512/512 [==============================] - 513s 1s/step - loss: 0.0290 - accuracy: 0.9466 - top 8 accuracy: 0.9826\n",
      "Epoch 6/15\n",
      "512/512 [==============================] - 514s 1s/step - loss: 0.0271 - accuracy: 0.9494 - top 8 accuracy: 0.9828\n",
      "Epoch 7/15\n",
      "512/512 [==============================] - 513s 1s/step - loss: 0.0276 - accuracy: 0.9485 - top 8 accuracy: 0.9837\n",
      "Epoch 8/15\n",
      "512/512 [==============================] - 512s 1s/step - loss: 0.0270 - accuracy: 0.9482 - top 8 accuracy: 0.9830\n",
      "Epoch 9/15\n",
      "512/512 [==============================] - 512s 1s/step - loss: 0.0275 - accuracy: 0.9492 - top 8 accuracy: 0.9833\n",
      "Epoch 10/15\n",
      "512/512 [==============================] - 512s 1s/step - loss: 0.0273 - accuracy: 0.9484 - top 8 accuracy: 0.9846\n",
      "Epoch 11/15\n",
      "512/512 [==============================] - 512s 1000ms/step - loss: 0.0273 - accuracy: 0.9489 - top 8 accuracy: 0.9833\n",
      "Epoch 12/15\n",
      "512/512 [==============================] - 513s 1s/step - loss: 0.0274 - accuracy: 0.9484 - top 8 accuracy: 0.9830\n",
      "Epoch 13/15\n",
      "512/512 [==============================] - 512s 999ms/step - loss: 0.0250 - accuracy: 0.9521 - top 8 accuracy: 0.9832\n",
      "Epoch 14/15\n",
      "512/512 [==============================] - 512s 1s/step - loss: 0.0219 - accuracy: 0.9548 - top 8 accuracy: 0.9834\n",
      "Epoch 15/15\n",
      "512/512 [==============================] - 512s 999ms/step - loss: 0.0218 - accuracy: 0.9558 - top 8 accuracy: 0.9844\n",
      "\n",
      "Test score: 0.031\n",
      "Test accuracy: 95%\n",
      "Test test top 8 accuracy: 98%\n"
     ]
    }
   ],
   "source": [
    "# Training Loop\n",
    "model.fit(data_train,\n",
    "          epochs=15,\n",
    "          steps_per_epoch=512,\n",
    "          verbose=1)\n",
    "\n",
    "score = model.evaluate(data_test, steps=50, verbose=0)\n",
    "print('\\nTest score:', round(score[0], 3))\n",
    "print(f'Test accuracy: {round(score[1]*100)}%')\n",
    "print(f'Test test top 8 accuracy: {round(score[2]*100)}%')"
   ]
  },
  {
   "cell_type": "code",
   "execution_count": 10,
   "metadata": {},
   "outputs": [],
   "source": [
    "# Define Data generation\n",
    "data_train = character_data(input_directory='data/character/train',\n",
    "                            batch_size = 512,\n",
    "                            shuffle=True,\n",
    "                            repeat=True)"
   ]
  },
  {
   "cell_type": "code",
   "execution_count": 11,
   "metadata": {},
   "outputs": [
    {
     "name": "stdout",
     "output_type": "stream",
     "text": [
      "Epoch 1/10\n",
      "128/128 [==============================] - 530s 4s/step - loss: 0.0211 - accuracy: 0.9572 - top 8 accuracy: 0.9843\n",
      "Epoch 2/10\n",
      "128/128 [==============================] - 529s 4s/step - loss: 0.0204 - accuracy: 0.9583 - top 8 accuracy: 0.9856\n",
      "Epoch 3/10\n",
      "128/128 [==============================] - 529s 4s/step - loss: 0.0201 - accuracy: 0.9580 - top 8 accuracy: 0.9849\n",
      "Epoch 4/10\n",
      "128/128 [==============================] - 529s 4s/step - loss: 0.0200 - accuracy: 0.9576 - top 8 accuracy: 0.9854\n",
      "Epoch 5/10\n",
      "128/128 [==============================] - 526s 4s/step - loss: 0.0199 - accuracy: 0.9597 - top 8 accuracy: 0.9851\n",
      "Epoch 6/10\n",
      "128/128 [==============================] - 527s 4s/step - loss: 0.0205 - accuracy: 0.9575 - top 8 accuracy: 0.9848\n",
      "Epoch 7/10\n",
      "128/128 [==============================] - 526s 4s/step - loss: 0.0201 - accuracy: 0.9582 - top 8 accuracy: 0.9855\n",
      "Epoch 8/10\n",
      "128/128 [==============================] - 526s 4s/step - loss: 0.0192 - accuracy: 0.9597 - top 8 accuracy: 0.9854\n",
      "Epoch 9/10\n",
      "128/128 [==============================] - 527s 4s/step - loss: 0.0188 - accuracy: 0.9597 - top 8 accuracy: 0.9853\n",
      "Epoch 10/10\n",
      "128/128 [==============================] - 526s 4s/step - loss: 0.0191 - accuracy: 0.9602 - top 8 accuracy: 0.9855\n",
      "\n",
      "Test score: 0.024\n",
      "Test accuracy: 95%\n",
      "Test test top 8 accuracy: 99%\n"
     ]
    }
   ],
   "source": [
    "# Training Loop\n",
    "model.fit(data_train,\n",
    "          epochs=10,\n",
    "          steps_per_epoch=128,\n",
    "          verbose=1)\n",
    "\n",
    "score = model.evaluate(data_test, steps=50, verbose=0)\n",
    "print('\\nTest score:', round(score[0], 3))\n",
    "print(f'Test accuracy: {round(score[1]*100)}%')\n",
    "print(f'Test test top 8 accuracy: {round(score[2]*100)}%')"
   ]
  },
  {
   "cell_type": "code",
   "execution_count": 12,
   "metadata": {},
   "outputs": [],
   "source": [
    "# Define Data generation\n",
    "data_train = character_data(input_directory='data/character/train',\n",
    "                            batch_size = 2048,\n",
    "                            shuffle=True,\n",
    "                            repeat=True)"
   ]
  },
  {
   "cell_type": "code",
   "execution_count": 13,
   "metadata": {},
   "outputs": [
    {
     "name": "stdout",
     "output_type": "stream",
     "text": [
      "Epoch 1/5\n",
      "32/32 [==============================] - 518s 16s/step - loss: 0.0160 - accuracy: 0.9647 - top 8 accuracy: 0.9869\n",
      "Epoch 2/5\n",
      "32/32 [==============================] - 518s 16s/step - loss: 0.0153 - accuracy: 0.9653 - top 8 accuracy: 0.9864\n",
      "Epoch 3/5\n",
      "32/32 [==============================] - 516s 16s/step - loss: 0.0159 - accuracy: 0.9646 - top 8 accuracy: 0.9863\n",
      "Epoch 4/5\n",
      "32/32 [==============================] - 519s 16s/step - loss: 0.0161 - accuracy: 0.9641 - top 8 accuracy: 0.9861\n",
      "Epoch 5/5\n",
      "32/32 [==============================] - 514s 16s/step - loss: 0.0159 - accuracy: 0.9644 - top 8 accuracy: 0.9861\n",
      "\n",
      "Test score: 0.027\n",
      "Test accuracy: 95%\n",
      "Test test top 8 accuracy: 99%\n"
     ]
    }
   ],
   "source": [
    "# Training Loop\n",
    "model.fit(data_train,\n",
    "          epochs=5,\n",
    "          steps_per_epoch=32,\n",
    "          verbose=1)\n",
    "\n",
    "score = model.evaluate(data_test, steps=50, verbose=0)\n",
    "print('\\nTest score:', round(score[0], 3))\n",
    "print(f'Test accuracy: {round(score[1]*100)}%')\n",
    "print(f'Test test top 8 accuracy: {round(score[2]*100)}%')"
   ]
  },
  {
   "cell_type": "code",
   "execution_count": 14,
   "metadata": {},
   "outputs": [
    {
     "name": "stdout",
     "output_type": "stream",
     "text": [
      "\n",
      "Test score: 0.026\n",
      "Test accuracy: 95%\n",
      "Test test top 8 accuracy: 99%\n"
     ]
    }
   ],
   "source": [
    "score = model.evaluate(data_test, steps=500, verbose=0)\n",
    "print('\\nTest score:', round(score[0], 3))\n",
    "print(f'Test accuracy: {round(score[1]*100)}%')\n",
    "print(f'Test test top 8 accuracy: {round(score[2]*100)}%')"
   ]
  },
  {
   "cell_type": "code",
   "execution_count": 15,
   "metadata": {},
   "outputs": [
    {
     "name": "stderr",
     "output_type": "stream",
     "text": [
      "\u001b[33mWARNING\u001b[0m: From /home/ubuntu/anaconda3/envs/ssbml/lib/python3.8/site-packages/tensorflow/python/training/tracking/tracking.py:111: Model.state_updates (from tensorflow.python.keras.engine.training) is deprecated and will be removed in a future version.\n",
      "Instructions for updating:\n",
      "This property should not be used in TensorFlow 2.0, as updates are applied automatically.\n",
      "\u001b[33mWARNING\u001b[0m: From /home/ubuntu/anaconda3/envs/ssbml/lib/python3.8/site-packages/tensorflow/python/training/tracking/tracking.py:111: Layer.updates (from tensorflow.python.keras.engine.base_layer) is deprecated and will be removed in a future version.\n",
      "Instructions for updating:\n",
      "This property should not be used in TensorFlow 2.0, as updates are applied automatically.\n"
     ]
    }
   ],
   "source": [
    "model.save('models/SSBML-Base-Model')"
   ]
  },
  {
   "cell_type": "code",
   "execution_count": null,
   "metadata": {},
   "outputs": [],
   "source": []
  }
 ],
 "metadata": {
  "kernelspec": {
   "display_name": "Python 3",
   "language": "python",
   "name": "python3"
  },
  "language_info": {
   "codemirror_mode": {
    "name": "ipython",
    "version": 3
   },
   "file_extension": ".py",
   "mimetype": "text/x-python",
   "name": "python",
   "nbconvert_exporter": "python",
   "pygments_lexer": "ipython3",
   "version": "3.8.5"
  }
 },
 "nbformat": 4,
 "nbformat_minor": 4
}
