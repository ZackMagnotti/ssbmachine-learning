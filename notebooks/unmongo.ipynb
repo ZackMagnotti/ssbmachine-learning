{
 "cells": [
  {
   "cell_type": "code",
   "execution_count": 2,
   "metadata": {},
   "outputs": [],
   "source": [
    "import sys, os, inspect\n",
    "currentdir = os.path.dirname(os.path.abspath(inspect.getfile(inspect.currentframe())))\n",
    "parentdir = os.path.dirname(currentdir)\n",
    "sys.path.insert(0, parentdir)\n",
    "\n",
    "from src.generator import data_generator, clip_generator, label_generator\n",
    "from src.util import characters, id_from_char, char_from_id\n",
    "from src.export import display_progress\n",
    "\n",
    "from pymongo import MongoClient\n",
    "from tensorflow import keras\n",
    "\n",
    "import numpy as np\n",
    "import pickle"
   ]
  },
  {
   "cell_type": "code",
   "execution_count": 3,
   "metadata": {},
   "outputs": [
    {
     "data": {
      "text/plain": [
       "916647"
      ]
     },
     "execution_count": 3,
     "metadata": {},
     "output_type": "execute_result"
    }
   ],
   "source": [
    "database_name = 'slippi'\n",
    "collection_name = 'training_data' # first 100k clips are reserved for testing\n",
    "\n",
    "# Connect to the hosted MongoDB instance\n",
    "client = MongoClient('localhost', 27017)\n",
    "db = client[database_name]\n",
    "collection = db[collection_name]\n",
    "collection.estimated_document_count()"
   ]
  },
  {
   "cell_type": "code",
   "execution_count": null,
   "metadata": {},
   "outputs": [],
   "source": []
  },
  {
   "cell_type": "code",
   "execution_count": 6,
   "metadata": {},
   "outputs": [],
   "source": [
    "cursor = collection.find()\n",
    "N = collection.estimated_document_count()"
   ]
  },
  {
   "cell_type": "code",
   "execution_count": 7,
   "metadata": {},
   "outputs": [
    {
     "name": "stdout",
     "output_type": "stream",
     "text": [
      "[####################] 916647 of 916647 - 100.0% "
     ]
    }
   ],
   "source": [
    "from os.path import join, splitext\n",
    "from random import random\n",
    "\n",
    "for i, doc in enumerate(cursor):\n",
    "    # get metadata / labels\n",
    "    character = doc['character']\n",
    "    code = doc['code']\n",
    "    game_id = splitext(doc['game_id'])[0]\n",
    "    clip_id = doc['clip_id']\n",
    "\n",
    "    # construct filename\n",
    "    filename = f'{clip_id}_{character}_{code}_{game_id}.pkl'\n",
    "    \n",
    "    if random() < .1:\n",
    "        filepath = join(parentdir, 'data', 'test', filename)\n",
    "    else:\n",
    "        filepath = join(parentdir, 'data', 'train', filename)\n",
    "        \n",
    "    # unpickle istream\n",
    "    doc['istream'] = pickle.loads(doc['istream'])\n",
    "\n",
    "    # pickle whole document\n",
    "    pickle.dump(doc, open(filepath, 'wb'))\n",
    "    \n",
    "    if i % 100 == 0:\n",
    "        display_progress(i, N)\n",
    "display_progress(N, N)"
   ]
  }
 ],
 "metadata": {
  "kernelspec": {
   "display_name": "Python 3",
   "language": "python",
   "name": "python3"
  },
  "language_info": {
   "codemirror_mode": {
    "name": "ipython",
    "version": 3
   },
   "file_extension": ".py",
   "mimetype": "text/x-python",
   "name": "python",
   "nbconvert_exporter": "python",
   "pygments_lexer": "ipython3",
   "version": "3.8.5"
  }
 },
 "nbformat": 4,
 "nbformat_minor": 4
}
