{
 "cells": [
  {
   "cell_type": "code",
   "execution_count": 1,
   "metadata": {},
   "outputs": [],
   "source": [
    "import sys, os, inspect\n",
    "currentdir = os.path.dirname(os.path.abspath(inspect.getfile(inspect.currentframe())))\n",
    "parentdir = os.path.dirname(currentdir)\n",
    "sys.path.insert(0, parentdir)"
   ]
  },
  {
   "cell_type": "code",
   "execution_count": 2,
   "metadata": {},
   "outputs": [],
   "source": [
    "# from src.generator import data_generator, clip_generator, label_generator\n",
    "from src.data import data_generator\n",
    "from src.util import characters, id_from_char, char_from_id\n",
    "from src.export import display_progress\n",
    "\n",
    "from pymongo import MongoClient\n",
    "from tensorflow import keras\n",
    "\n",
    "import numpy as np\n",
    "import pickle"
   ]
  },
  {
   "cell_type": "code",
   "execution_count": 3,
   "metadata": {},
   "outputs": [
    {
     "name": "stdout",
     "output_type": "stream",
     "text": [
      "CAPTAIN_FALCON\n",
      "DONKEY_KONG\n",
      "FOX\n",
      "GAME_AND_WATCH\n",
      "KIRBY\n",
      "BOWSER\n",
      "LINK\n",
      "LUIGI\n",
      "MARIO\n",
      "MARTH\n",
      "MEWTWO\n",
      "NESS\n",
      "PEACH\n",
      "PIKACHU\n",
      "ICE_CLIMBERS\n",
      "JIGGLYPUFF\n",
      "SAMUS\n",
      "YOSHI\n",
      "ZELDA\n",
      "SHEIK\n",
      "FALCO\n",
      "YOUNG_LINK\n",
      "DR_MARIO\n",
      "ROY\n",
      "PICHU\n",
      "GANONDORF\n"
     ]
    }
   ],
   "source": [
    "for character in characters:\n",
    "    print(character)"
   ]
  },
  {
   "cell_type": "markdown",
   "metadata": {},
   "source": [
    "# The Model\n",
    "\n",
    "Source code for model creation is in src/models.py"
   ]
  },
  {
   "cell_type": "code",
   "execution_count": 9,
   "metadata": {},
   "outputs": [],
   "source": [
    "polynomial_schedule = keras.optimizers.schedules.PolynomialDecay(\n",
    "    initial_learning_rate = .1,\n",
    "    end_learning_rate = .0001,\n",
    "    decay_steps=100000,\n",
    "    power=.5)\n",
    "\n",
    "lr_schedule = keras.optimizers.schedules.PiecewiseConstantDecay(\n",
    "    boundaries = [ 10000, 20000 ],\n",
    "    values     = [.001, .0005, .0001 ])"
   ]
  },
  {
   "cell_type": "code",
   "execution_count": 10,
   "metadata": {},
   "outputs": [],
   "source": [
    "from tensorflow.keras.optimizers import Adam, Nadam\n",
    "adam = Adam(learning_rate=lr_schedule)\n",
    "nadam = Nadam(learning_rate=.0001)"
   ]
  },
  {
   "cell_type": "code",
   "execution_count": 11,
   "metadata": {},
   "outputs": [],
   "source": [
    "# to make a new model\n",
    "from src.models import custom_mk3 as Model\n",
    "model = Model()\n",
    "\n",
    "# # to load the saved model\n",
    "# model = keras.models.load_model('../models/custom_mk2')\n",
    "\n",
    "# from src.models import focal_loss, top_8_accuracy\n",
    "# model.compile(loss=focal_loss,\n",
    "#               optimizer=adam,\n",
    "#               metrics=['accuracy', top_8_accuracy])"
   ]
  },
  {
   "cell_type": "code",
   "execution_count": 12,
   "metadata": {},
   "outputs": [
    {
     "name": "stdout",
     "output_type": "stream",
     "text": [
      "Model: \"custom_mk3\"\n",
      "_________________________________________________________________\n",
      "Layer (type)                 Output Shape              Param #   \n",
      "=================================================================\n",
      "conv1 (Conv1D)               (None, None, 150)         58650     \n",
      "_________________________________________________________________\n",
      "batch_normalization_8 (Batch (None, None, 150)         600       \n",
      "_________________________________________________________________\n",
      "max_pooling1d_5 (MaxPooling1 (None, None, 150)         0         \n",
      "_________________________________________________________________\n",
      "conv2.1 (Conv1D)             (None, None, 128)         288128    \n",
      "_________________________________________________________________\n",
      "batch_normalization_9 (Batch (None, None, 128)         512       \n",
      "_________________________________________________________________\n",
      "max_pooling1d_6 (MaxPooling1 (None, None, 128)         0         \n",
      "_________________________________________________________________\n",
      "conv3.1 (Conv1D)             (None, None, 128)         245888    \n",
      "_________________________________________________________________\n",
      "batch_normalization_10 (Batc (None, None, 128)         512       \n",
      "_________________________________________________________________\n",
      "max_pooling1d_7 (MaxPooling1 (None, None, 128)         0         \n",
      "_________________________________________________________________\n",
      "conv4.1 (Conv1D)             (None, None, 256)         491776    \n",
      "_________________________________________________________________\n",
      "batch_normalization_11 (Batc (None, None, 256)         1024      \n",
      "_________________________________________________________________\n",
      "max_pooling1d_8 (MaxPooling1 (None, None, 256)         0         \n",
      "_________________________________________________________________\n",
      "dropout_5 (Dropout)          (None, None, 256)         0         \n",
      "_________________________________________________________________\n",
      "conv5.1 (Conv1D)             (None, None, 512)         1966592   \n",
      "_________________________________________________________________\n",
      "batch_normalization_12 (Batc (None, None, 512)         2048      \n",
      "_________________________________________________________________\n",
      "max_pooling1d_9 (MaxPooling1 (None, None, 512)         0         \n",
      "_________________________________________________________________\n",
      "dropout_6 (Dropout)          (None, None, 512)         0         \n",
      "_________________________________________________________________\n",
      "conv6 (Conv1D)               (None, None, 512)         3932672   \n",
      "_________________________________________________________________\n",
      "global_max_pooling1d_1 (Glob (None, 512)               0         \n",
      "_________________________________________________________________\n",
      "flatten_1 (Flatten)          (None, 512)               0         \n",
      "_________________________________________________________________\n",
      "batch_normalization_13 (Batc (None, 512)               2048      \n",
      "_________________________________________________________________\n",
      "dropout_7 (Dropout)          (None, 512)               0         \n",
      "_________________________________________________________________\n",
      "dense1 (Dense)               (None, 128)               65536     \n",
      "_________________________________________________________________\n",
      "batch_normalization_14 (Batc (None, 128)               512       \n",
      "_________________________________________________________________\n",
      "activation_2 (Activation)    (None, 128)               0         \n",
      "_________________________________________________________________\n",
      "dropout_8 (Dropout)          (None, 128)               0         \n",
      "_________________________________________________________________\n",
      "dense2 (Dense)               (None, 128)               16384     \n",
      "_________________________________________________________________\n",
      "batch_normalization_15 (Batc (None, 128)               512       \n",
      "_________________________________________________________________\n",
      "activation_3 (Activation)    (None, 128)               0         \n",
      "_________________________________________________________________\n",
      "dropout_9 (Dropout)          (None, 128)               0         \n",
      "_________________________________________________________________\n",
      "final (Dense)                (None, 26)                3354      \n",
      "=================================================================\n",
      "Total params: 7,076,748\n",
      "Trainable params: 7,072,864\n",
      "Non-trainable params: 3,884\n",
      "_________________________________________________________________\n"
     ]
    }
   ],
   "source": [
    "model.summary()"
   ]
  },
  {
   "cell_type": "markdown",
   "metadata": {},
   "source": [
    "# Testing"
   ]
  },
  {
   "cell_type": "code",
   "execution_count": 23,
   "metadata": {},
   "outputs": [],
   "source": [
    "data_test = data_generator(input_directory='../data/test',\n",
    "                           batch_size = 25,\n",
    "                           num_batches = 50,\n",
    "                           shuffle=True)"
   ]
  },
  {
   "cell_type": "code",
   "execution_count": 24,
   "metadata": {},
   "outputs": [
    {
     "name": "stdout",
     "output_type": "stream",
     "text": [
      "50/50 [==============================] - 5s 100ms/step - loss: 0.0363 - accuracy: 0.9416 - top 8 accuracy: 0.9848\n",
      "\n",
      "Test score: 0.036\n",
      "Test accuracy: 94%\n",
      "Test test top 8 categorical accuracy: 98%\n"
     ]
    }
   ],
   "source": [
    "score = model.evaluate(data_test, verbose=1)\n",
    "\n",
    "print('\\nTest score:', round(score[0], 3))\n",
    "print(f'Test accuracy: {round(score[1]*100)}%')\n",
    "print(f'Test test top 8 categorical accuracy: {round(score[2]*100)}%') "
   ]
  },
  {
   "cell_type": "markdown",
   "metadata": {},
   "source": [
    "# Confusion Matrix"
   ]
  },
  {
   "cell_type": "code",
   "execution_count": 25,
   "metadata": {},
   "outputs": [],
   "source": [
    "import pandas as pd\n",
    "import seaborn as sn\n",
    "import matplotlib.pyplot as plt"
   ]
  },
  {
   "cell_type": "code",
   "execution_count": 26,
   "metadata": {},
   "outputs": [],
   "source": [
    "def get_conf_matrix(labels_as_id, predictions_as_id):\n",
    "    conf_matrix = np.zeros((27,27))\n",
    "    for i_real, i_pred in zip(labels_as_id, predictions_as_id):\n",
    "        conf_matrix[i_real, i_pred] += 1\n",
    "    return conf_matrix"
   ]
  },
  {
   "cell_type": "code",
   "execution_count": 27,
   "metadata": {},
   "outputs": [],
   "source": [
    "num_batches = 100\n",
    "data_test = data_generator(input_directory='../data/test',\n",
    "                           batch_size = 100,\n",
    "                           num_batches = num_batches,\n",
    "                           shuffle=True,\n",
    "                           onehot=False)"
   ]
  },
  {
   "cell_type": "code",
   "execution_count": 28,
   "metadata": {},
   "outputs": [
    {
     "name": "stdout",
     "output_type": "stream",
     "text": [
      "[####################] 100 of 100 - 100.0% "
     ]
    }
   ],
   "source": [
    "recalls = {k:0 for k in range(1,27)}\n",
    "precisions = {k:0 for k in range(1,27)}\n",
    "\n",
    "batch_preds = []\n",
    "batch_labels = []\n",
    "i = 0\n",
    "\n",
    "for xi, yi in data_test:\n",
    "    batch_preds.append(np.argmax(model.predict(xi), axis=1))\n",
    "    batch_labels.append(yi)\n",
    "    \n",
    "    i+=1\n",
    "    display_progress(i, num_batches)\n",
    "display_progress(num_batches, num_batches)\n",
    "    \n",
    "pred = np.concatenate(batch_preds)\n",
    "labels = np.concatenate(batch_labels)\n",
    "\n",
    "conf_matrix = get_conf_matrix(labels, pred)\n",
    "conf_df = pd.DataFrame(conf_matrix[1:,1:], index=characters, columns=characters)"
   ]
  },
  {
   "cell_type": "code",
   "execution_count": 29,
   "metadata": {},
   "outputs": [
    {
     "data": {
      "image/png": "[encoded data removed]",
      "text/plain": [
       "<Figure size 936x720 with 2 Axes>"
      ]
     },
     "metadata": {
      "needs_background": "light"
     },
     "output_type": "display_data"
    }
   ],
   "source": [
    "# sn.heatmap(conf_df, annot=False, mask=conf_df <= 0, cmap='viridis')\n",
    "fig, ax = plt.subplots(figsize=(13,10))\n",
    "sn.heatmap(np.log(1 + conf_df), annot=False, ax=ax, square=False)\n",
    "fig.savefig('../images/confusion_matrix.png')"
   ]
  },
  {
   "cell_type": "code",
   "execution_count": null,
   "metadata": {},
   "outputs": [],
   "source": []
  },
  {
   "cell_type": "code",
   "execution_count": null,
   "metadata": {},
   "outputs": [],
   "source": []
  },
  {
   "cell_type": "markdown",
   "metadata": {},
   "source": [
    "# Training"
   ]
  },
  {
   "cell_type": "code",
   "execution_count": 14,
   "metadata": {},
   "outputs": [],
   "source": [
    "# skip first 100k clips and save them as test data\n",
    "data_train = data_generator(input_directory='../data/train',\n",
    "                            batch_size = 32,\n",
    "                            shuffle=True,\n",
    "                            repeat=True)"
   ]
  },
  {
   "cell_type": "code",
   "execution_count": 15,
   "metadata": {},
   "outputs": [
    {
     "name": "stdout",
     "output_type": "stream",
     "text": [
      "Epoch 1/10\n",
      "1000/1000 [==============================] - 672s 672ms/step - loss: 0.3083 - accuracy: 0.5659 - top 8 accuracy: 0.8961\n",
      "Epoch 2/10\n",
      "1000/1000 [==============================] - 668s 668ms/step - loss: 0.1771 - accuracy: 0.7512 - top 8 accuracy: 0.9465\n",
      "Epoch 3/10\n",
      "1000/1000 [==============================] - 666s 666ms/step - loss: 0.1382 - accuracy: 0.8043 - top 8 accuracy: 0.9562\n",
      "Epoch 4/10\n",
      "1000/1000 [==============================] - 665s 665ms/step - loss: 0.1108 - accuracy: 0.8418 - top 8 accuracy: 0.9645\n",
      "Epoch 5/10\n",
      "1000/1000 [==============================] - 665s 665ms/step - loss: 0.0985 - accuracy: 0.8575 - top 8 accuracy: 0.9686\n",
      "Epoch 6/10\n",
      "1000/1000 [==============================] - 662s 662ms/step - loss: 0.0897 - accuracy: 0.8690 - top 8 accuracy: 0.9708\n",
      "Epoch 7/10\n",
      "1000/1000 [==============================] - 662s 662ms/step - loss: 0.0814 - accuracy: 0.8801 - top 8 accuracy: 0.9706\n",
      "Epoch 8/10\n",
      "1000/1000 [==============================] - 665s 665ms/step - loss: 0.0763 - accuracy: 0.8852 - top 8 accuracy: 0.9734\n",
      "Epoch 9/10\n",
      "1000/1000 [==============================] - 664s 664ms/step - loss: 0.0725 - accuracy: 0.8893 - top 8 accuracy: 0.9734\n",
      "Epoch 10/10\n",
      "1000/1000 [==============================] - 663s 663ms/step - loss: 0.0724 - accuracy: 0.8901 - top 8 accuracy: 0.9736\n",
      "\n",
      "Test score: 0.06\n",
      "Test accuracy: 91%\n",
      "Test test top 8 accuracy: 98%\n"
     ]
    }
   ],
   "source": [
    "# custom_mk2\n",
    "model.fit(data_train,\n",
    "          epochs=10,\n",
    "          steps_per_epoch=1000,\n",
    "          verbose=1)\n",
    "\n",
    "score = model.evaluate(data_train, steps=50, verbose=0)\n",
    "print('\\nTest score:', round(score[0], 3))\n",
    "print(f'Test accuracy: {round(score[1]*100)}%')\n",
    "print(f'Test test top 8 accuracy: {round(score[2]*100)}%')"
   ]
  },
  {
   "cell_type": "code",
   "execution_count": 16,
   "metadata": {},
   "outputs": [],
   "source": [
    "# skip first 100k clips and save them as test data\n",
    "data_train = data_generator(input_directory='../data/train',\n",
    "                            batch_size = 64,\n",
    "                            shuffle=True,\n",
    "                            repeat=True)"
   ]
  },
  {
   "cell_type": "code",
   "execution_count": 17,
   "metadata": {},
   "outputs": [
    {
     "name": "stdout",
     "output_type": "stream",
     "text": [
      "Epoch 1/10\n",
      "500/500 [==============================] - 679s 1s/step - loss: 0.0588 - accuracy: 0.9094 - top 8 accuracy: 0.9762\n",
      "Epoch 2/10\n",
      "500/500 [==============================] - 677s 1s/step - loss: 0.0563 - accuracy: 0.9114 - top 8 accuracy: 0.9762\n",
      "Epoch 3/10\n",
      "500/500 [==============================] - 676s 1s/step - loss: 0.0567 - accuracy: 0.9106 - top 8 accuracy: 0.9769\n",
      "Epoch 4/10\n",
      "500/500 [==============================] - 676s 1s/step - loss: 0.0526 - accuracy: 0.9162 - top 8 accuracy: 0.9772\n",
      "Epoch 5/10\n",
      "500/500 [==============================] - 676s 1s/step - loss: 0.0513 - accuracy: 0.9182 - top 8 accuracy: 0.9767\n",
      "Epoch 6/10\n",
      "500/500 [==============================] - 677s 1s/step - loss: 0.0498 - accuracy: 0.9195 - top 8 accuracy: 0.9777\n",
      "Epoch 7/10\n",
      "500/500 [==============================] - 676s 1s/step - loss: 0.0514 - accuracy: 0.9171 - top 8 accuracy: 0.9764\n",
      "Epoch 8/10\n",
      "500/500 [==============================] - 677s 1s/step - loss: 0.0484 - accuracy: 0.9214 - top 8 accuracy: 0.9777\n",
      "Epoch 9/10\n",
      "500/500 [==============================] - 676s 1s/step - loss: 0.0483 - accuracy: 0.9227 - top 8 accuracy: 0.9780\n",
      "Epoch 10/10\n",
      "500/500 [==============================] - 691s 1s/step - loss: 0.0466 - accuracy: 0.9246 - top 8 accuracy: 0.9776\n",
      "\n",
      "Test score: 0.042\n",
      "Test accuracy: 93%\n",
      "Test test top 8 accuracy: 98%\n"
     ]
    }
   ],
   "source": [
    "# custom_mk2\n",
    "model.fit(data_train,\n",
    "          epochs=10,\n",
    "          steps_per_epoch=500,\n",
    "          verbose=1)\n",
    "\n",
    "score = model.evaluate(data_train, steps=50, verbose=0)\n",
    "print('\\nTest score:', round(score[0], 3))\n",
    "print(f'Test accuracy: {round(score[1]*100)}%')\n",
    "print(f'Test test top 8 accuracy: {round(score[2]*100)}%')"
   ]
  },
  {
   "cell_type": "code",
   "execution_count": 18,
   "metadata": {},
   "outputs": [],
   "source": [
    "# skip first 100k clips and save them as test data\n",
    "data_train = data_generator(input_directory='../data/train',\n",
    "                            batch_size = 128,\n",
    "                            shuffle=True,\n",
    "                            repeat=True)"
   ]
  },
  {
   "cell_type": "code",
   "execution_count": 19,
   "metadata": {},
   "outputs": [
    {
     "name": "stdout",
     "output_type": "stream",
     "text": [
      "Epoch 1/5\n",
      "500/500 [==============================] - 1366s 3s/step - loss: 0.0421 - accuracy: 0.9298 - top 8 accuracy: 0.9800\n",
      "Epoch 2/5\n",
      "500/500 [==============================] - 1381s 3s/step - loss: 0.0408 - accuracy: 0.9306 - top 8 accuracy: 0.9781\n",
      "Epoch 3/5\n",
      "500/500 [==============================] - 1384s 3s/step - loss: 0.0401 - accuracy: 0.9319 - top 8 accuracy: 0.9792\n",
      "Epoch 4/5\n",
      "500/500 [==============================] - 1382s 3s/step - loss: 0.0380 - accuracy: 0.9344 - top 8 accuracy: 0.9800\n",
      "Epoch 5/5\n",
      "500/500 [==============================] - 1366s 3s/step - loss: 0.0380 - accuracy: 0.9329 - top 8 accuracy: 0.9778\n",
      "\n",
      "Test score: 0.035\n",
      "Test accuracy: 94%\n",
      "Test test top 8 accuracy: 98%\n"
     ]
    }
   ],
   "source": [
    "# custom_mk2\n",
    "model.fit(data_train,\n",
    "          epochs=5,\n",
    "          steps_per_epoch=500,\n",
    "          verbose=1)\n",
    "\n",
    "score = model.evaluate(data_train, steps=50, verbose=0)\n",
    "print('\\nTest score:', round(score[0], 3))\n",
    "print(f'Test accuracy: {round(score[1]*100)}%')\n",
    "print(f'Test test top 8 accuracy: {round(score[2]*100)}%')"
   ]
  },
  {
   "cell_type": "code",
   "execution_count": 20,
   "metadata": {},
   "outputs": [],
   "source": [
    "# skip first 100k clips and save them as test data\n",
    "data_train = data_generator(input_directory='../data/train',\n",
    "                            batch_size = 256,\n",
    "                            shuffle=True,\n",
    "                            repeat=True)"
   ]
  },
  {
   "cell_type": "code",
   "execution_count": 21,
   "metadata": {},
   "outputs": [
    {
     "name": "stdout",
     "output_type": "stream",
     "text": [
      "Epoch 1/5\n",
      "150/150 [==============================] - 838s 6s/step - loss: 0.0329 - accuracy: 0.9414 - top 8 accuracy: 0.9807\n",
      "Epoch 2/5\n",
      "150/150 [==============================] - 837s 6s/step - loss: 0.0336 - accuracy: 0.9402 - top 8 accuracy: 0.9809\n",
      "Epoch 3/5\n",
      "150/150 [==============================] - 837s 6s/step - loss: 0.0327 - accuracy: 0.9412 - top 8 accuracy: 0.9800\n",
      "Epoch 4/5\n",
      "150/150 [==============================] - 838s 6s/step - loss: 0.0329 - accuracy: 0.9417 - top 8 accuracy: 0.9821\n",
      "Epoch 5/5\n",
      "150/150 [==============================] - 836s 6s/step - loss: 0.0337 - accuracy: 0.9434 - top 8 accuracy: 0.9820\n",
      "\n",
      "Test score: 0.03\n",
      "Test accuracy: 94%\n",
      "Test test top 8 accuracy: 98%\n"
     ]
    }
   ],
   "source": [
    "# custom_mk2\n",
    "model.fit(data_train,\n",
    "          epochs=5,\n",
    "          steps_per_epoch=150,\n",
    "          verbose=1)\n",
    "\n",
    "score = model.evaluate(data_train, steps=50, verbose=0)\n",
    "print('\\nTest score:', round(score[0], 3))\n",
    "print(f'Test accuracy: {round(score[1]*100)}%')\n",
    "print(f'Test test top 8 accuracy: {round(score[2]*100)}%')"
   ]
  },
  {
   "cell_type": "code",
   "execution_count": 22,
   "metadata": {},
   "outputs": [
    {
     "name": "stderr",
     "output_type": "stream",
     "text": [
      "\u001b[33mWARNING\u001b[0m: From /home/ubuntu/anaconda3/envs/ssbml/lib/python3.8/site-packages/tensorflow/python/training/tracking/tracking.py:111: Model.state_updates (from tensorflow.python.keras.engine.training) is deprecated and will be removed in a future version.\n",
      "Instructions for updating:\n",
      "This property should not be used in TensorFlow 2.0, as updates are applied automatically.\n",
      "\u001b[33mWARNING\u001b[0m: From /home/ubuntu/anaconda3/envs/ssbml/lib/python3.8/site-packages/tensorflow/python/training/tracking/tracking.py:111: Layer.updates (from tensorflow.python.keras.engine.base_layer) is deprecated and will be removed in a future version.\n",
      "Instructions for updating:\n",
      "This property should not be used in TensorFlow 2.0, as updates are applied automatically.\n"
     ]
    }
   ],
   "source": [
    "model.save('../models/custom_mk3')"
   ]
  },
  {
   "cell_type": "code",
   "execution_count": null,
   "metadata": {},
   "outputs": [],
   "source": []
  }
 ],
 "metadata": {
  "kernelspec": {
   "display_name": "Python 3",
   "language": "python",
   "name": "python3"
  },
  "language_info": {
   "codemirror_mode": {
    "name": "ipython",
    "version": 3
   },
   "file_extension": ".py",
   "mimetype": "text/x-python",
   "name": "python",
   "nbconvert_exporter": "python",
   "pygments_lexer": "ipython3",
   "version": "3.8.5"
  }
 },
 "nbformat": 4,
 "nbformat_minor": 4
}
