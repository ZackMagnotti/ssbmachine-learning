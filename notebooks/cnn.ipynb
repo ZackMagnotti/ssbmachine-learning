{
 "cells": [
  {
   "cell_type": "code",
   "execution_count": 1,
   "metadata": {},
   "outputs": [],
   "source": [
    "import sys, os, inspect\n",
    "currentdir = os.path.dirname(os.path.abspath(inspect.getfile(inspect.currentframe())))\n",
    "parentdir = os.path.dirname(currentdir)\n",
    "sys.path.insert(0, parentdir)"
   ]
  },
  {
   "cell_type": "code",
   "execution_count": 2,
   "metadata": {},
   "outputs": [],
   "source": [
    "# from src.generator import data_generator, clip_generator, label_generator\n",
    "from src.data import data_generator\n",
    "from src.util import characters, id_from_char, char_from_id\n",
    "from src.export import display_progress\n",
    "\n",
    "from pymongo import MongoClient\n",
    "from tensorflow import keras\n",
    "\n",
    "import numpy as np\n",
    "import pickle"
   ]
  },
  {
   "cell_type": "code",
   "execution_count": 3,
   "metadata": {},
   "outputs": [
    {
     "name": "stdout",
     "output_type": "stream",
     "text": [
      "CAPTAIN_FALCON\n",
      "DONKEY_KONG\n",
      "FOX\n",
      "GAME_AND_WATCH\n",
      "KIRBY\n",
      "BOWSER\n",
      "LINK\n",
      "LUIGI\n",
      "MARIO\n",
      "MARTH\n",
      "MEWTWO\n",
      "NESS\n",
      "PEACH\n",
      "PIKACHU\n",
      "ICE_CLIMBERS\n",
      "JIGGLYPUFF\n",
      "SAMUS\n",
      "YOSHI\n",
      "ZELDA\n",
      "SHEIK\n",
      "FALCO\n",
      "YOUNG_LINK\n",
      "DR_MARIO\n",
      "ROY\n",
      "PICHU\n",
      "GANONDORF\n"
     ]
    }
   ],
   "source": [
    "for character in characters:\n",
    "    print(character)"
   ]
  },
  {
   "cell_type": "markdown",
   "metadata": {},
   "source": [
    "# The Model\n",
    "\n",
    "Source code for model creation is in src/models.py"
   ]
  },
  {
   "cell_type": "code",
   "execution_count": 4,
   "metadata": {},
   "outputs": [],
   "source": [
    "polynomial_schedule = keras.optimizers.schedules.PolynomialDecay(\n",
    "    initial_learning_rate = .1,\n",
    "    end_learning_rate = .0001,\n",
    "    decay_steps=100000,\n",
    "    power=.5)\n",
    "\n",
    "lr_schedule = keras.optimizers.schedules.PiecewiseConstantDecay(\n",
    "    boundaries = [ 10000, 20000 ],\n",
    "    values     = [.001, .0005, .0001 ])"
   ]
  },
  {
   "cell_type": "code",
   "execution_count": 49,
   "metadata": {},
   "outputs": [],
   "source": [
    "from tensorflow.keras.optimizers import Adam, Nadam\n",
    "adam = Adam(learning_rate=.0001)\n",
    "nadam = Nadam(learning_rate=.0001)"
   ]
  },
  {
   "cell_type": "code",
   "execution_count": 50,
   "metadata": {},
   "outputs": [],
   "source": [
    "# # to make a new model\n",
    "# from src.models import custom_mk4 as Model\n",
    "# model = Model()\n",
    "\n",
    "# # to load the saved model\n",
    "# model = keras.models.load_model('../models/custom_mk2')\n",
    "\n",
    "from src.models import focal_loss, top_8_accuracy\n",
    "model.compile(loss=focal_loss,\n",
    "              optimizer=adam,\n",
    "              metrics=['accuracy', top_8_accuracy])"
   ]
  },
  {
   "cell_type": "code",
   "execution_count": 7,
   "metadata": {},
   "outputs": [
    {
     "name": "stdout",
     "output_type": "stream",
     "text": [
      "Model: \"custom_mk4\"\n",
      "_________________________________________________________________\n",
      "Layer (type)                 Output Shape              Param #   \n",
      "=================================================================\n",
      "conv1 (Conv1D)               (None, None, 150)         58650     \n",
      "_________________________________________________________________\n",
      "batch_normalization (BatchNo (None, None, 150)         600       \n",
      "_________________________________________________________________\n",
      "max_pooling1d (MaxPooling1D) (None, None, 150)         0         \n",
      "_________________________________________________________________\n",
      "conv2 (Conv1D)               (None, None, 256)         576256    \n",
      "_________________________________________________________________\n",
      "batch_normalization_1 (Batch (None, None, 256)         1024      \n",
      "_________________________________________________________________\n",
      "max_pooling1d_1 (MaxPooling1 (None, None, 256)         0         \n",
      "_________________________________________________________________\n",
      "conv3 (Conv1D)               (None, None, 512)         1966592   \n",
      "_________________________________________________________________\n",
      "batch_normalization_2 (Batch (None, None, 512)         2048      \n",
      "_________________________________________________________________\n",
      "max_pooling1d_2 (MaxPooling1 (None, None, 512)         0         \n",
      "_________________________________________________________________\n",
      "dropout (Dropout)            (None, None, 512)         0         \n",
      "_________________________________________________________________\n",
      "conv4 (Conv1D)               (None, None, 512)         3932672   \n",
      "_________________________________________________________________\n",
      "global_max_pooling1d (Global (None, 512)               0         \n",
      "_________________________________________________________________\n",
      "flatten (Flatten)            (None, 512)               0         \n",
      "_________________________________________________________________\n",
      "batch_normalization_3 (Batch (None, 512)               2048      \n",
      "_________________________________________________________________\n",
      "dropout_1 (Dropout)          (None, 512)               0         \n",
      "_________________________________________________________________\n",
      "dense1 (Dense)               (None, 128)               65536     \n",
      "_________________________________________________________________\n",
      "batch_normalization_4 (Batch (None, 128)               512       \n",
      "_________________________________________________________________\n",
      "activation (Activation)      (None, 128)               0         \n",
      "_________________________________________________________________\n",
      "dropout_2 (Dropout)          (None, 128)               0         \n",
      "_________________________________________________________________\n",
      "dense2 (Dense)               (None, 128)               16384     \n",
      "_________________________________________________________________\n",
      "batch_normalization_5 (Batch (None, 128)               512       \n",
      "_________________________________________________________________\n",
      "activation_1 (Activation)    (None, 128)               0         \n",
      "_________________________________________________________________\n",
      "dropout_3 (Dropout)          (None, 128)               0         \n",
      "_________________________________________________________________\n",
      "final (Dense)                (None, 26)                3354      \n",
      "=================================================================\n",
      "Total params: 6,626,188\n",
      "Trainable params: 6,622,816\n",
      "Non-trainable params: 3,372\n",
      "_________________________________________________________________\n"
     ]
    }
   ],
   "source": [
    "model.summary()"
   ]
  },
  {
   "cell_type": "markdown",
   "metadata": {},
   "source": [
    "# Testing"
   ]
  },
  {
   "cell_type": "code",
   "execution_count": 52,
   "metadata": {},
   "outputs": [],
   "source": [
    "data_test = data_generator(input_directory='../data/test',\n",
    "                           batch_size = 25,\n",
    "                           num_batches = 100,\n",
    "                           shuffle=True)"
   ]
  },
  {
   "cell_type": "code",
   "execution_count": 53,
   "metadata": {},
   "outputs": [
    {
     "name": "stdout",
     "output_type": "stream",
     "text": [
      "100/100 [==============================] - 7s 75ms/step - loss: 0.0284 - accuracy: 0.9500 - top 8 accuracy: 0.9820\n",
      "\n",
      "Test score: 0.028\n",
      "Test accuracy: 95%\n",
      "Test test top 8 categorical accuracy: 98%\n"
     ]
    }
   ],
   "source": [
    "score = model.evaluate(data_test, verbose=1)\n",
    "\n",
    "print('\\nTest score:', round(score[0], 3))\n",
    "print(f'Test accuracy: {round(score[1]*100)}%')\n",
    "print(f'Test test top 8 categorical accuracy: {round(score[2]*100)}%') "
   ]
  },
  {
   "cell_type": "markdown",
   "metadata": {},
   "source": [
    "# Confusion Matrix"
   ]
  },
  {
   "cell_type": "code",
   "execution_count": 54,
   "metadata": {},
   "outputs": [],
   "source": [
    "import pandas as pd\n",
    "import seaborn as sn\n",
    "import matplotlib.pyplot as plt"
   ]
  },
  {
   "cell_type": "code",
   "execution_count": 55,
   "metadata": {},
   "outputs": [],
   "source": [
    "def get_conf_matrix(labels_as_id, predictions_as_id):\n",
    "    conf_matrix = np.zeros((27,27))\n",
    "    for i_real, i_pred in zip(labels_as_id, predictions_as_id):\n",
    "        conf_matrix[i_real, i_pred] += 1\n",
    "    return conf_matrix"
   ]
  },
  {
   "cell_type": "code",
   "execution_count": 56,
   "metadata": {},
   "outputs": [],
   "source": [
    "num_batches = 100\n",
    "data_test = data_generator(input_directory='../data/test',\n",
    "                           batch_size = 100,\n",
    "                           num_batches = num_batches,\n",
    "                           shuffle=True,\n",
    "                           onehot=False)"
   ]
  },
  {
   "cell_type": "code",
   "execution_count": 57,
   "metadata": {},
   "outputs": [
    {
     "name": "stdout",
     "output_type": "stream",
     "text": [
      "[####################] 100 of 100 - 100.0% "
     ]
    }
   ],
   "source": [
    "recalls = {k:0 for k in range(1,27)}\n",
    "precisions = {k:0 for k in range(1,27)}\n",
    "\n",
    "batch_preds = []\n",
    "batch_labels = []\n",
    "i = 0\n",
    "\n",
    "for xi, yi in data_test:\n",
    "    batch_preds.append(np.argmax(model.predict(xi), axis=1))\n",
    "    batch_labels.append(yi)\n",
    "    \n",
    "    i+=1\n",
    "    display_progress(i, num_batches)\n",
    "display_progress(num_batches, num_batches)\n",
    "    \n",
    "pred = np.concatenate(batch_preds)\n",
    "labels = np.concatenate(batch_labels)\n",
    "\n",
    "conf_matrix = get_conf_matrix(labels, pred)\n",
    "conf_df = pd.DataFrame(conf_matrix[1:,1:], index=characters, columns=characters)"
   ]
  },
  {
   "cell_type": "code",
   "execution_count": 58,
   "metadata": {},
   "outputs": [
    {
     "data": {
      "image/png": "[encoded data removed]",
      "text/plain": [
       "<Figure size 936x720 with 2 Axes>"
      ]
     },
     "metadata": {
      "needs_background": "light"
     },
     "output_type": "display_data"
    }
   ],
   "source": [
    "# sn.heatmap(conf_df, annot=False, mask=conf_df <= 0, cmap='viridis')\n",
    "fig, ax = plt.subplots(figsize=(13,10))\n",
    "sn.heatmap(np.log(1 + conf_df), annot=False, ax=ax, square=False)\n",
    "fig.savefig('../images/confusion_matrix.png')"
   ]
  },
  {
   "cell_type": "code",
   "execution_count": null,
   "metadata": {},
   "outputs": [],
   "source": []
  },
  {
   "cell_type": "code",
   "execution_count": null,
   "metadata": {},
   "outputs": [],
   "source": []
  },
  {
   "cell_type": "markdown",
   "metadata": {},
   "source": [
    "# Training"
   ]
  },
  {
   "cell_type": "code",
   "execution_count": 8,
   "metadata": {},
   "outputs": [],
   "source": [
    "# Define Data generation\n",
    "data_train = data_generator(input_directory='../data/train',\n",
    "                            batch_size = 32,\n",
    "                            shuffle=True,\n",
    "                            repeat=True)"
   ]
  },
  {
   "cell_type": "code",
   "execution_count": 9,
   "metadata": {},
   "outputs": [
    {
     "name": "stdout",
     "output_type": "stream",
     "text": [
      "Epoch 1/10\n",
      "1000/1000 [==============================] - 524s 524ms/step - loss: 0.2823 - accuracy: 0.5980 - top 8 accuracy: 0.9073\n",
      "Epoch 2/10\n",
      "1000/1000 [==============================] - 513s 513ms/step - loss: 0.1558 - accuracy: 0.7815 - top 8 accuracy: 0.9516\n",
      "Epoch 3/10\n",
      "1000/1000 [==============================] - 515s 515ms/step - loss: 0.1228 - accuracy: 0.8251 - top 8 accuracy: 0.9607\n",
      "Epoch 4/10\n",
      "1000/1000 [==============================] - 515s 515ms/step - loss: 0.1013 - accuracy: 0.8544 - top 8 accuracy: 0.9681\n",
      "Epoch 5/10\n",
      "1000/1000 [==============================] - 514s 514ms/step - loss: 0.0881 - accuracy: 0.8706 - top 8 accuracy: 0.9704\n",
      "Epoch 6/10\n",
      "1000/1000 [==============================] - 514s 514ms/step - loss: 0.0825 - accuracy: 0.8778 - top 8 accuracy: 0.9703\n",
      "Epoch 7/10\n",
      "1000/1000 [==============================] - 513s 513ms/step - loss: 0.0783 - accuracy: 0.8829 - top 8 accuracy: 0.9724\n",
      "Epoch 8/10\n",
      "1000/1000 [==============================] - 519s 519ms/step - loss: 0.0739 - accuracy: 0.8895 - top 8 accuracy: 0.9732\n",
      "Epoch 9/10\n",
      "1000/1000 [==============================] - 512s 512ms/step - loss: 0.0689 - accuracy: 0.8948 - top 8 accuracy: 0.9737\n",
      "Epoch 10/10\n",
      "1000/1000 [==============================] - 513s 513ms/step - loss: 0.0677 - accuracy: 0.8981 - top 8 accuracy: 0.9747\n",
      "\n",
      "Test score: 0.066\n",
      "Test accuracy: 89%\n",
      "Test test top 8 accuracy: 98%\n"
     ]
    }
   ],
   "source": [
    "# Training Loop\n",
    "model.fit(data_train,\n",
    "          epochs=10,\n",
    "          steps_per_epoch=1000,\n",
    "          verbose=1)\n",
    "\n",
    "score = model.evaluate(data_train, steps=50, verbose=0)\n",
    "print('\\nTest score:', round(score[0], 3))\n",
    "print(f'Test accuracy: {round(score[1]*100)}%')\n",
    "print(f'Test test top 8 accuracy: {round(score[2]*100)}%')"
   ]
  },
  {
   "cell_type": "code",
   "execution_count": 10,
   "metadata": {},
   "outputs": [],
   "source": [
    "# Define Data generation\n",
    "data_train = data_generator(input_directory='../data/train',\n",
    "                            batch_size = 64,\n",
    "                            shuffle=True,\n",
    "                            repeat=True)"
   ]
  },
  {
   "cell_type": "code",
   "execution_count": 11,
   "metadata": {},
   "outputs": [
    {
     "name": "stdout",
     "output_type": "stream",
     "text": [
      "Epoch 1/10\n",
      "500/500 [==============================] - 527s 1s/step - loss: 0.0565 - accuracy: 0.9114 - top 8 accuracy: 0.9761\n",
      "Epoch 2/10\n",
      "500/500 [==============================] - 533s 1s/step - loss: 0.0555 - accuracy: 0.9115 - top 8 accuracy: 0.9770\n",
      "Epoch 3/10\n",
      "500/500 [==============================] - 525s 1s/step - loss: 0.0524 - accuracy: 0.9157 - top 8 accuracy: 0.9755\n",
      "Epoch 4/10\n",
      "500/500 [==============================] - 522s 1s/step - loss: 0.0519 - accuracy: 0.9163 - top 8 accuracy: 0.9785\n",
      "Epoch 5/10\n",
      "500/500 [==============================] - 523s 1s/step - loss: 0.0503 - accuracy: 0.9183 - top 8 accuracy: 0.9755\n",
      "Epoch 6/10\n",
      "500/500 [==============================] - 525s 1s/step - loss: 0.0503 - accuracy: 0.9181 - top 8 accuracy: 0.9779\n",
      "Epoch 7/10\n",
      "500/500 [==============================] - 524s 1s/step - loss: 0.0495 - accuracy: 0.9207 - top 8 accuracy: 0.9764\n",
      "Epoch 8/10\n",
      "500/500 [==============================] - 523s 1s/step - loss: 0.0491 - accuracy: 0.9214 - top 8 accuracy: 0.9778\n",
      "Epoch 9/10\n",
      "500/500 [==============================] - 524s 1s/step - loss: 0.0462 - accuracy: 0.9239 - top 8 accuracy: 0.9786\n",
      "Epoch 10/10\n",
      "500/500 [==============================] - 523s 1s/step - loss: 0.0461 - accuracy: 0.9252 - top 8 accuracy: 0.9783\n",
      "\n",
      "Test score: 0.041\n",
      "Test accuracy: 93%\n",
      "Test test top 8 accuracy: 98%\n"
     ]
    }
   ],
   "source": [
    "# Training Loop\n",
    "model.fit(data_train,\n",
    "          epochs=10,\n",
    "          steps_per_epoch=500,\n",
    "          verbose=1)\n",
    "\n",
    "score = model.evaluate(data_train, steps=50, verbose=0)\n",
    "print('\\nTest score:', round(score[0], 3))\n",
    "print(f'Test accuracy: {round(score[1]*100)}%')\n",
    "print(f'Test test top 8 accuracy: {round(score[2]*100)}%')"
   ]
  },
  {
   "cell_type": "code",
   "execution_count": 40,
   "metadata": {},
   "outputs": [],
   "source": [
    "# Define Data generation\n",
    "data_train = data_generator(input_directory='../data/train',\n",
    "                            batch_size = 64,\n",
    "                            shuffle=True,\n",
    "                            repeat=True)"
   ]
  },
  {
   "cell_type": "code",
   "execution_count": 41,
   "metadata": {},
   "outputs": [
    {
     "name": "stdout",
     "output_type": "stream",
     "text": [
      "Epoch 1/5\n",
      "500/500 [==============================] - 528s 1s/step - loss: 0.0389 - accuracy: 0.9337 - top 8 accuracy: 0.9804\n",
      "Epoch 2/5\n",
      "500/500 [==============================] - 527s 1s/step - loss: 0.0387 - accuracy: 0.9327 - top 8 accuracy: 0.9798\n",
      "Epoch 3/5\n",
      "500/500 [==============================] - 526s 1s/step - loss: 0.0383 - accuracy: 0.9335 - top 8 accuracy: 0.9811\n",
      "Epoch 4/5\n",
      "500/500 [==============================] - 527s 1s/step - loss: 0.0397 - accuracy: 0.9319 - top 8 accuracy: 0.9788\n",
      "Epoch 5/5\n",
      "500/500 [==============================] - 526s 1s/step - loss: 0.0399 - accuracy: 0.9320 - top 8 accuracy: 0.9801\n",
      "\n",
      "Test score: 0.034\n",
      "Test accuracy: 94%\n",
      "Test test top 8 accuracy: 98%\n"
     ]
    }
   ],
   "source": [
    "# Training Loop\n",
    "model.fit(data_train,\n",
    "          epochs=5,\n",
    "          steps_per_epoch=500,\n",
    "          verbose=1)\n",
    "\n",
    "score = model.evaluate(data_train, steps=50, verbose=0)\n",
    "print('\\nTest score:', round(score[0], 3))\n",
    "print(f'Test accuracy: {round(score[1]*100)}%')\n",
    "print(f'Test test top 8 accuracy: {round(score[2]*100)}%')"
   ]
  },
  {
   "cell_type": "markdown",
   "metadata": {},
   "source": [
    "---\n",
    "\n",
    "Changed learning rate to `.0001`"
   ]
  },
  {
   "cell_type": "code",
   "execution_count": 40,
   "metadata": {},
   "outputs": [],
   "source": [
    "# Define Data generation\n",
    "data_train = data_generator(input_directory='../data/train',\n",
    "                            batch_size = 128,\n",
    "                            shuffle=True,\n",
    "                            repeat=True)"
   ]
  },
  {
   "cell_type": "code",
   "execution_count": 51,
   "metadata": {},
   "outputs": [
    {
     "name": "stdout",
     "output_type": "stream",
     "text": [
      "Epoch 1/5\n",
      "250/250 [==============================] - 263s 1s/step - loss: 0.0362 - accuracy: 0.9374 - top 8 accuracy: 0.9814\n",
      "Epoch 2/5\n",
      "250/250 [==============================] - 264s 1s/step - loss: 0.0338 - accuracy: 0.9398 - top 8 accuracy: 0.9819\n",
      "Epoch 3/5\n",
      "250/250 [==============================] - 264s 1s/step - loss: 0.0370 - accuracy: 0.9361 - top 8 accuracy: 0.9796\n",
      "Epoch 4/5\n",
      "250/250 [==============================] - 263s 1s/step - loss: 0.0353 - accuracy: 0.9387 - top 8 accuracy: 0.9819\n",
      "Epoch 5/5\n",
      "250/250 [==============================] - 264s 1s/step - loss: 0.0328 - accuracy: 0.9426 - top 8 accuracy: 0.9834\n",
      "\n",
      "Test score: 0.026\n",
      "Test accuracy: 95%\n",
      "Test test top 8 accuracy: 98%\n"
     ]
    }
   ],
   "source": [
    "# Training Loop\n",
    "model.fit(data_train,\n",
    "          epochs=5,\n",
    "          steps_per_epoch=250,\n",
    "          verbose=1)\n",
    "\n",
    "score = model.evaluate(data_train, steps=50, verbose=0)\n",
    "print('\\nTest score:', round(score[0], 3))\n",
    "print(f'Test accuracy: {round(score[1]*100)}%')\n",
    "print(f'Test test top 8 accuracy: {round(score[2]*100)}%')"
   ]
  },
  {
   "cell_type": "code",
   "execution_count": 39,
   "metadata": {},
   "outputs": [],
   "source": [
    "model.save('../models/custom_mk4')"
   ]
  },
  {
   "cell_type": "code",
   "execution_count": null,
   "metadata": {},
   "outputs": [],
   "source": []
  }
 ],
 "metadata": {
  "kernelspec": {
   "display_name": "Python 3",
   "language": "python",
   "name": "python3"
  },
  "language_info": {
   "codemirror_mode": {
    "name": "ipython",
    "version": 3
   },
   "file_extension": ".py",
   "mimetype": "text/x-python",
   "name": "python",
   "nbconvert_exporter": "python",
   "pygments_lexer": "ipython3",
   "version": "3.8.5"
  }
 },
 "nbformat": 4,
 "nbformat_minor": 4
}
