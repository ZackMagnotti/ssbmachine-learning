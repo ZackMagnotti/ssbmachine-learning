{
 "cells": [
  {
   "cell_type": "code",
   "execution_count": 1,
   "metadata": {},
   "outputs": [],
   "source": [
    "run fixpath.py"
   ]
  },
  {
   "cell_type": "code",
   "execution_count": 2,
   "metadata": {},
   "outputs": [],
   "source": [
    "# from src.generator import data_generator, clip_generator, label_generator\n",
    "from src.data import player_data\n",
    "from src.util import characters, id_from_char, char_from_id\n",
    "from src.export import display_progress\n",
    "\n",
    "from pymongo import MongoClient\n",
    "from tensorflow import keras\n",
    "\n",
    "import numpy as np\n",
    "import pickle"
   ]
  },
  {
   "cell_type": "code",
   "execution_count": 3,
   "metadata": {},
   "outputs": [
    {
     "name": "stdout",
     "output_type": "stream",
     "text": [
      "CAPTAIN_FALCON\n",
      "DONKEY_KONG\n",
      "FOX\n",
      "GAME_AND_WATCH\n",
      "KIRBY\n",
      "BOWSER\n",
      "LINK\n",
      "LUIGI\n",
      "MARIO\n",
      "MARTH\n",
      "MEWTWO\n",
      "NESS\n",
      "PEACH\n",
      "PIKACHU\n",
      "ICE_CLIMBERS\n",
      "JIGGLYPUFF\n",
      "SAMUS\n",
      "YOSHI\n",
      "ZELDA\n",
      "SHEIK\n",
      "FALCO\n",
      "YOUNG_LINK\n",
      "DR_MARIO\n",
      "ROY\n",
      "PICHU\n",
      "GANONDORF\n"
     ]
    }
   ],
   "source": [
    "for character in characters:\n",
    "    print(character)"
   ]
  },
  {
   "cell_type": "markdown",
   "metadata": {},
   "source": [
    "# Pretrained Model\n",
    "\n",
    "Base models are trained in cnn.ipynb"
   ]
  },
  {
   "cell_type": "code",
   "execution_count": 4,
   "metadata": {},
   "outputs": [
    {
     "name": "stderr",
     "output_type": "stream",
     "text": [
      "\u001b[33mWARNING\u001b[0m: Importing a function (__inference_conv2_layer_call_and_return_conditional_losses_455840) with ops with custom gradients. Will likely fail if a gradient is requested.\n",
      "\u001b[33mWARNING\u001b[0m: Importing a function (__inference_conv3_layer_call_and_return_conditional_losses_454153) with ops with custom gradients. Will likely fail if a gradient is requested.\n",
      "\u001b[33mWARNING\u001b[0m: Importing a function (__inference_conv3_layer_call_and_return_conditional_losses_455952) with ops with custom gradients. Will likely fail if a gradient is requested.\n",
      "\u001b[33mWARNING\u001b[0m: Importing a function (__inference_conv4_layer_call_and_return_conditional_losses_456091) with ops with custom gradients. Will likely fail if a gradient is requested.\n",
      "\u001b[33mWARNING\u001b[0m: Importing a function (__inference_activation_1_layer_call_and_return_conditional_losses_456387) with ops with custom gradients. Will likely fail if a gradient is requested.\n",
      "\u001b[33mWARNING\u001b[0m: Importing a function (__inference_custom_mk4_layer_call_and_return_conditional_losses_455359) with ops with custom gradients. Will likely fail if a gradient is requested.\n",
      "\u001b[33mWARNING\u001b[0m: Importing a function (__inference_custom_mk4_layer_call_and_return_conditional_losses_455359) with ops with custom gradients. Will likely fail if a gradient is requested.\n",
      "\u001b[33mWARNING\u001b[0m: Importing a function (__inference_custom_mk4_layer_call_and_return_conditional_losses_455359) with ops with custom gradients. Will likely fail if a gradient is requested.\n",
      "\u001b[33mWARNING\u001b[0m: Importing a function (__inference_custom_mk4_layer_call_and_return_conditional_losses_455359) with ops with custom gradients. Will likely fail if a gradient is requested.\n",
      "\u001b[33mWARNING\u001b[0m: Importing a function (__inference_custom_mk4_layer_call_and_return_conditional_losses_455359) with ops with custom gradients. Will likely fail if a gradient is requested.\n",
      "\u001b[33mWARNING\u001b[0m: Importing a function (__inference_custom_mk4_layer_call_and_return_conditional_losses_455359) with ops with custom gradients. Will likely fail if a gradient is requested.\n",
      "\u001b[33mWARNING\u001b[0m: Importing a function (__inference_activation_1_layer_call_and_return_conditional_losses_454478) with ops with custom gradients. Will likely fail if a gradient is requested.\n",
      "\u001b[33mWARNING\u001b[0m: Importing a function (__inference_activation_layer_call_and_return_conditional_losses_454369) with ops with custom gradients. Will likely fail if a gradient is requested.\n",
      "\u001b[33mWARNING\u001b[0m: Importing a function (__inference_custom_mk4_layer_call_and_return_conditional_losses_455561) with ops with custom gradients. Will likely fail if a gradient is requested.\n",
      "\u001b[33mWARNING\u001b[0m: Importing a function (__inference_custom_mk4_layer_call_and_return_conditional_losses_455561) with ops with custom gradients. Will likely fail if a gradient is requested.\n",
      "\u001b[33mWARNING\u001b[0m: Importing a function (__inference_custom_mk4_layer_call_and_return_conditional_losses_455561) with ops with custom gradients. Will likely fail if a gradient is requested.\n",
      "\u001b[33mWARNING\u001b[0m: Importing a function (__inference_custom_mk4_layer_call_and_return_conditional_losses_455561) with ops with custom gradients. Will likely fail if a gradient is requested.\n",
      "\u001b[33mWARNING\u001b[0m: Importing a function (__inference_custom_mk4_layer_call_and_return_conditional_losses_455561) with ops with custom gradients. Will likely fail if a gradient is requested.\n",
      "\u001b[33mWARNING\u001b[0m: Importing a function (__inference_custom_mk4_layer_call_and_return_conditional_losses_455561) with ops with custom gradients. Will likely fail if a gradient is requested.\n",
      "\u001b[33mWARNING\u001b[0m: Importing a function (__inference_activation_layer_call_and_return_conditional_losses_456244) with ops with custom gradients. Will likely fail if a gradient is requested.\n",
      "\u001b[33mWARNING\u001b[0m: Importing a function (__inference_conv1_layer_call_and_return_conditional_losses_454007) with ops with custom gradients. Will likely fail if a gradient is requested.\n",
      "\u001b[33mWARNING\u001b[0m: Importing a function (__inference_conv2_layer_call_and_return_conditional_losses_454080) with ops with custom gradients. Will likely fail if a gradient is requested.\n",
      "\u001b[33mWARNING\u001b[0m: Importing a function (__inference__wrapped_model_453218) with ops with custom gradients. Will likely fail if a gradient is requested.\n",
      "\u001b[33mWARNING\u001b[0m: Importing a function (__inference__wrapped_model_453218) with ops with custom gradients. Will likely fail if a gradient is requested.\n",
      "\u001b[33mWARNING\u001b[0m: Importing a function (__inference__wrapped_model_453218) with ops with custom gradients. Will likely fail if a gradient is requested.\n",
      "\u001b[33mWARNING\u001b[0m: Importing a function (__inference__wrapped_model_453218) with ops with custom gradients. Will likely fail if a gradient is requested.\n",
      "\u001b[33mWARNING\u001b[0m: Importing a function (__inference__wrapped_model_453218) with ops with custom gradients. Will likely fail if a gradient is requested.\n",
      "\u001b[33mWARNING\u001b[0m: Importing a function (__inference__wrapped_model_453218) with ops with custom gradients. Will likely fail if a gradient is requested.\n",
      "\u001b[33mWARNING\u001b[0m: Importing a function (__inference_conv4_layer_call_and_return_conditional_losses_454256) with ops with custom gradients. Will likely fail if a gradient is requested.\n",
      "\u001b[33mWARNING\u001b[0m: Importing a function (__inference_conv1_layer_call_and_return_conditional_losses_455728) with ops with custom gradients. Will likely fail if a gradient is requested.\n"
     ]
    },
    {
     "name": "stdout",
     "output_type": "stream",
     "text": [
      "Model: \"custom_mk4\"\n",
      "_________________________________________________________________\n",
      "Layer (type)                 Output Shape              Param #   \n",
      "=================================================================\n",
      "conv1 (Conv1D)               (None, None, 150)         58650     \n",
      "_________________________________________________________________\n",
      "batch_normalization (BatchNo (None, None, 150)         600       \n",
      "_________________________________________________________________\n",
      "max_pooling1d (MaxPooling1D) (None, None, 150)         0         \n",
      "_________________________________________________________________\n",
      "conv2 (Conv1D)               (None, None, 256)         576256    \n",
      "_________________________________________________________________\n",
      "batch_normalization_1 (Batch (None, None, 256)         1024      \n",
      "_________________________________________________________________\n",
      "max_pooling1d_1 (MaxPooling1 (None, None, 256)         0         \n",
      "_________________________________________________________________\n",
      "conv3 (Conv1D)               (None, None, 512)         1966592   \n",
      "_________________________________________________________________\n",
      "batch_normalization_2 (Batch (None, None, 512)         2048      \n",
      "_________________________________________________________________\n",
      "max_pooling1d_2 (MaxPooling1 (None, None, 512)         0         \n",
      "_________________________________________________________________\n",
      "dropout (Dropout)            (None, None, 512)         0         \n",
      "_________________________________________________________________\n",
      "conv4 (Conv1D)               (None, None, 512)         3932672   \n",
      "_________________________________________________________________\n",
      "global_average_pooling1d (Gl (None, 512)               0         \n",
      "_________________________________________________________________\n",
      "flatten (Flatten)            (None, 512)               0         \n",
      "_________________________________________________________________\n",
      "dense1 (Dense)               (None, 128)               65664     \n",
      "_________________________________________________________________\n",
      "batch_normalization_3 (Batch (None, 128)               512       \n",
      "_________________________________________________________________\n",
      "activation (Activation)      (None, 128)               0         \n",
      "_________________________________________________________________\n",
      "dropout_1 (Dropout)          (None, 128)               0         \n",
      "_________________________________________________________________\n",
      "dense2 (Dense)               (None, 128)               16512     \n",
      "_________________________________________________________________\n",
      "batch_normalization_4 (Batch (None, 128)               512       \n",
      "_________________________________________________________________\n",
      "activation_1 (Activation)    (None, 128)               0         \n",
      "_________________________________________________________________\n",
      "dropout_2 (Dropout)          (None, 128)               0         \n",
      "_________________________________________________________________\n",
      "final (Dense)                (None, 26)                3354      \n",
      "=================================================================\n",
      "Total params: 6,624,396\n",
      "Trainable params: 6,622,048\n",
      "Non-trainable params: 2,348\n",
      "_________________________________________________________________\n"
     ]
    }
   ],
   "source": [
    "# to load the saved model\n",
    "model = keras.models.load_model('../models/custom_mk4')\n",
    "model.summary()"
   ]
  },
  {
   "cell_type": "markdown",
   "metadata": {},
   "source": [
    "# Repurposing"
   ]
  },
  {
   "cell_type": "code",
   "execution_count": 5,
   "metadata": {},
   "outputs": [
    {
     "data": {
      "text/plain": [
       "22"
      ]
     },
     "execution_count": 5,
     "metadata": {},
     "output_type": "execute_result"
    }
   ],
   "source": [
    "len(model.layers)"
   ]
  },
  {
   "cell_type": "code",
   "execution_count": 6,
   "metadata": {},
   "outputs": [
    {
     "name": "stdout",
     "output_type": "stream",
     "text": [
      "Model: \"custom_mk4\"\n",
      "_________________________________________________________________\n",
      "Layer (type)                 Output Shape              Param #   \n",
      "=================================================================\n",
      "conv1 (Conv1D)               (None, None, 150)         58650     \n",
      "_________________________________________________________________\n",
      "batch_normalization (BatchNo (None, None, 150)         600       \n",
      "_________________________________________________________________\n",
      "max_pooling1d (MaxPooling1D) (None, None, 150)         0         \n",
      "_________________________________________________________________\n",
      "conv2 (Conv1D)               (None, None, 256)         576256    \n",
      "_________________________________________________________________\n",
      "batch_normalization_1 (Batch (None, None, 256)         1024      \n",
      "_________________________________________________________________\n",
      "max_pooling1d_1 (MaxPooling1 (None, None, 256)         0         \n",
      "_________________________________________________________________\n",
      "conv3 (Conv1D)               (None, None, 512)         1966592   \n",
      "_________________________________________________________________\n",
      "batch_normalization_2 (Batch (None, None, 512)         2048      \n",
      "_________________________________________________________________\n",
      "max_pooling1d_2 (MaxPooling1 (None, None, 512)         0         \n",
      "_________________________________________________________________\n",
      "dropout (Dropout)            (None, None, 512)         0         \n",
      "_________________________________________________________________\n",
      "conv4 (Conv1D)               (None, None, 512)         3932672   \n",
      "_________________________________________________________________\n",
      "global_average_pooling1d (Gl (None, 512)               0         \n",
      "_________________________________________________________________\n",
      "flatten (Flatten)            (None, 512)               0         \n",
      "=================================================================\n",
      "Total params: 6,537,842\n",
      "Trainable params: 0\n",
      "Non-trainable params: 6,537,842\n",
      "_________________________________________________________________\n"
     ]
    }
   ],
   "source": [
    "for _ in range(9):\n",
    "    model.pop()\n",
    "\n",
    "for layer in model.layers:\n",
    "    layer.trainable = False\n",
    "    \n",
    "model.summary()"
   ]
  },
  {
   "cell_type": "code",
   "execution_count": 7,
   "metadata": {},
   "outputs": [],
   "source": [
    "from tensorflow.keras.activations import swish\n",
    "from tensorflow.keras.layers import Dense, BatchNormalization, Activation, Dropout\n",
    "from tensorflow.keras.optimizers import Adam, Nadam\n",
    "# adam = Adam(learning_rate=.0001)\n",
    "# nadam = Nadam(learning_rate=.0001)\n",
    "\n",
    "model.add(Dense(64, use_bias=True, name='Blynde_dense1'))\n",
    "model.add(BatchNormalization(name='Blynde_BatchNorm1'))\n",
    "model.add(Activation(swish, name='Blynde_Activation1'))\n",
    "model.add(Dropout(.5, name='Blynde_Dropout1'))\n",
    "\n",
    "model.add(Dense(64, use_bias=True, name='Blynde_dense2'))\n",
    "model.add(BatchNormalization(name='Blynde_BatchNorm2'))\n",
    "model.add(Activation(swish, name='Blynde_Activation2'))\n",
    "model.add(Dropout(.5, name='Blynde_Dropout2'))\n",
    "\n",
    "model.add(Dense(1, activation='sigmoid'))\n",
    "\n",
    "model.compile(loss='binary_crossentropy',\n",
    "              optimizer='adam',\n",
    "              metrics=['binary_accuracy'])"
   ]
  },
  {
   "cell_type": "code",
   "execution_count": 8,
   "metadata": {},
   "outputs": [
    {
     "name": "stdout",
     "output_type": "stream",
     "text": [
      "Model: \"custom_mk4\"\n",
      "_________________________________________________________________\n",
      "Layer (type)                 Output Shape              Param #   \n",
      "=================================================================\n",
      "conv1 (Conv1D)               (None, None, 150)         58650     \n",
      "_________________________________________________________________\n",
      "batch_normalization (BatchNo (None, None, 150)         600       \n",
      "_________________________________________________________________\n",
      "max_pooling1d (MaxPooling1D) (None, None, 150)         0         \n",
      "_________________________________________________________________\n",
      "conv2 (Conv1D)               (None, None, 256)         576256    \n",
      "_________________________________________________________________\n",
      "batch_normalization_1 (Batch (None, None, 256)         1024      \n",
      "_________________________________________________________________\n",
      "max_pooling1d_1 (MaxPooling1 (None, None, 256)         0         \n",
      "_________________________________________________________________\n",
      "conv3 (Conv1D)               (None, None, 512)         1966592   \n",
      "_________________________________________________________________\n",
      "batch_normalization_2 (Batch (None, None, 512)         2048      \n",
      "_________________________________________________________________\n",
      "max_pooling1d_2 (MaxPooling1 (None, None, 512)         0         \n",
      "_________________________________________________________________\n",
      "dropout (Dropout)            (None, None, 512)         0         \n",
      "_________________________________________________________________\n",
      "conv4 (Conv1D)               (None, None, 512)         3932672   \n",
      "_________________________________________________________________\n",
      "global_average_pooling1d (Gl (None, 512)               0         \n",
      "_________________________________________________________________\n",
      "flatten (Flatten)            (None, 512)               0         \n",
      "_________________________________________________________________\n",
      "Blynde_dense1 (Dense)        (None, 64)                32832     \n",
      "_________________________________________________________________\n",
      "Blynde_BatchNorm1 (BatchNorm (None, 64)                256       \n",
      "_________________________________________________________________\n",
      "Blynde_Activation1 (Activati (None, 64)                0         \n",
      "_________________________________________________________________\n",
      "Blynde_Dropout1 (Dropout)    (None, 64)                0         \n",
      "_________________________________________________________________\n",
      "Blynde_dense2 (Dense)        (None, 64)                4160      \n",
      "_________________________________________________________________\n",
      "Blynde_BatchNorm2 (BatchNorm (None, 64)                256       \n",
      "_________________________________________________________________\n",
      "Blynde_Activation2 (Activati (None, 64)                0         \n",
      "_________________________________________________________________\n",
      "Blynde_Dropout2 (Dropout)    (None, 64)                0         \n",
      "_________________________________________________________________\n",
      "dense (Dense)                (None, 1)                 65        \n",
      "=================================================================\n",
      "Total params: 6,575,411\n",
      "Trainable params: 37,313\n",
      "Non-trainable params: 6,538,098\n",
      "_________________________________________________________________\n"
     ]
    }
   ],
   "source": [
    "model.summary()"
   ]
  },
  {
   "cell_type": "code",
   "execution_count": 9,
   "metadata": {},
   "outputs": [],
   "source": [
    "# training data\n",
    "data_train = player_data(player_dir = '../data/player/Blynde/train',\n",
    "                         nonplayer_dir = '../data/character/train',\n",
    "                         batch_size = 32)\n",
    "# testing data\n",
    "data_test = player_data(player_dir = '../data/player/Blynde/test',\n",
    "                        nonplayer_dir = '../data/character/test',\n",
    "                        batch_size = 32)"
   ]
  },
  {
   "cell_type": "code",
   "execution_count": 10,
   "metadata": {},
   "outputs": [
    {
     "name": "stdout",
     "output_type": "stream",
     "text": [
      "Epoch 1/10\n",
      "256/256 [==============================] - 11s 43ms/step - loss: 0.5417 - binary_accuracy: 0.7256\n",
      "Epoch 2/10\n",
      "256/256 [==============================] - 11s 42ms/step - loss: 0.4347 - binary_accuracy: 0.8041\n",
      "Epoch 3/10\n",
      "256/256 [==============================] - 11s 43ms/step - loss: 0.3951 - binary_accuracy: 0.8293\n",
      "Epoch 4/10\n",
      "256/256 [==============================] - 11s 43ms/step - loss: 0.3739 - binary_accuracy: 0.8387\n",
      "Epoch 5/10\n",
      "256/256 [==============================] - 11s 43ms/step - loss: 0.3622 - binary_accuracy: 0.8425\n",
      "Epoch 6/10\n",
      "256/256 [==============================] - 11s 43ms/step - loss: 0.3533 - binary_accuracy: 0.8461\n",
      "Epoch 7/10\n",
      "256/256 [==============================] - 11s 43ms/step - loss: 0.3439 - binary_accuracy: 0.8503\n",
      "Epoch 8/10\n",
      "256/256 [==============================] - 11s 43ms/step - loss: 0.3357 - binary_accuracy: 0.8514\n",
      "Epoch 9/10\n",
      "256/256 [==============================] - 11s 43ms/step - loss: 0.3223 - binary_accuracy: 0.8623\n",
      "Epoch 10/10\n",
      "256/256 [==============================] - 11s 43ms/step - loss: 0.3325 - binary_accuracy: 0.8595\n",
      "25/25 [==============================] - 1s 40ms/step - loss: 0.2906 - binary_accuracy: 0.8775\n",
      "\n",
      "Test score: 0.291\n",
      "Test accuracy: 88%\n"
     ]
    }
   ],
   "source": [
    "# Training Loop\n",
    "model.fit(data_train,\n",
    "          epochs=10,\n",
    "          steps_per_epoch=256,\n",
    "          verbose=1)\n",
    "\n",
    "score = model.evaluate(data_test, verbose=1, steps=25)\n",
    "print('\\nTest score:', round(score[0], 3))\n",
    "print(f'Test accuracy: {round(score[1]*100)}%')"
   ]
  },
  {
   "cell_type": "code",
   "execution_count": 13,
   "metadata": {},
   "outputs": [],
   "source": [
    "# training data\n",
    "data_train = player_data(player_dir = '../data/player/Blynde/train',\n",
    "                         nonplayer_dir = '../data/character/train',\n",
    "                         batch_size = 256)"
   ]
  },
  {
   "cell_type": "code",
   "execution_count": 14,
   "metadata": {},
   "outputs": [
    {
     "name": "stdout",
     "output_type": "stream",
     "text": [
      "Epoch 1/10\n",
      "32/32 [==============================] - 12s 370ms/step - loss: 0.3079 - binary_accuracy: 0.8721\n",
      "Epoch 2/10\n",
      "32/32 [==============================] - 12s 374ms/step - loss: 0.3009 - binary_accuracy: 0.8702\n",
      "Epoch 3/10\n",
      "32/32 [==============================] - 12s 364ms/step - loss: 0.2983 - binary_accuracy: 0.8783\n",
      "Epoch 4/10\n",
      "32/32 [==============================] - 12s 365ms/step - loss: 0.2988 - binary_accuracy: 0.8727\n",
      "Epoch 5/10\n",
      "32/32 [==============================] - 12s 364ms/step - loss: 0.2941 - binary_accuracy: 0.8754\n",
      "Epoch 6/10\n",
      "32/32 [==============================] - 12s 362ms/step - loss: 0.2925 - binary_accuracy: 0.8766\n",
      "Epoch 7/10\n",
      "32/32 [==============================] - 12s 363ms/step - loss: 0.3023 - binary_accuracy: 0.8765\n",
      "Epoch 8/10\n",
      "32/32 [==============================] - 12s 363ms/step - loss: 0.2879 - binary_accuracy: 0.8801\n",
      "Epoch 9/10\n",
      "32/32 [==============================] - 12s 367ms/step - loss: 0.2893 - binary_accuracy: 0.8777\n",
      "Epoch 10/10\n",
      "32/32 [==============================] - 12s 363ms/step - loss: 0.2994 - binary_accuracy: 0.8746\n",
      "25/25 [==============================] - 1s 40ms/step - loss: 0.2856 - binary_accuracy: 0.8737\n",
      "\n",
      "Test score: 0.286\n",
      "Test accuracy: 87%\n"
     ]
    }
   ],
   "source": [
    "# Training Loop\n",
    "model.fit(data_train,\n",
    "          epochs=10,\n",
    "          steps_per_epoch=32,\n",
    "          verbose=1)\n",
    "\n",
    "score = model.evaluate(data_test, verbose=1, steps=25)\n",
    "print('\\nTest score:', round(score[0], 3))\n",
    "print(f'Test accuracy: {round(score[1]*100)}%')"
   ]
  },
  {
   "cell_type": "code",
   "execution_count": null,
   "metadata": {},
   "outputs": [],
   "source": []
  },
  {
   "cell_type": "code",
   "execution_count": null,
   "metadata": {},
   "outputs": [],
   "source": []
  }
 ],
 "metadata": {
  "kernelspec": {
   "display_name": "Python 3",
   "language": "python",
   "name": "python3"
  },
  "language_info": {
   "codemirror_mode": {
    "name": "ipython",
    "version": 3
   },
   "file_extension": ".py",
   "mimetype": "text/x-python",
   "name": "python",
   "nbconvert_exporter": "python",
   "pygments_lexer": "ipython3",
   "version": "3.8.5"
  }
 },
 "nbformat": 4,
 "nbformat_minor": 4
}
