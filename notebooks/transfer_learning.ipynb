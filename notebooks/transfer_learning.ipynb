{
 "cells": [
  {
   "cell_type": "code",
   "execution_count": 1,
   "metadata": {},
   "outputs": [],
   "source": [
    "import sys, os, inspect\n",
    "currentdir = os.path.dirname(os.path.abspath(inspect.getfile(inspect.currentframe())))\n",
    "parentdir = os.path.dirname(currentdir)\n",
    "sys.path.insert(0, parentdir)"
   ]
  },
  {
   "cell_type": "code",
   "execution_count": 2,
   "metadata": {},
   "outputs": [],
   "source": [
    "# from src.generator import data_generator, clip_generator, label_generator\n",
    "from src.data import data_generator\n",
    "from src.util import characters, id_from_char, char_from_id\n",
    "from src.export import display_progress\n",
    "\n",
    "from pymongo import MongoClient\n",
    "from tensorflow import keras\n",
    "\n",
    "import numpy as np\n",
    "import pickle"
   ]
  },
  {
   "cell_type": "code",
   "execution_count": 3,
   "metadata": {},
   "outputs": [
    {
     "name": "stdout",
     "output_type": "stream",
     "text": [
      "CAPTAIN_FALCON\n",
      "DONKEY_KONG\n",
      "FOX\n",
      "GAME_AND_WATCH\n",
      "KIRBY\n",
      "BOWSER\n",
      "LINK\n",
      "LUIGI\n",
      "MARIO\n",
      "MARTH\n",
      "MEWTWO\n",
      "NESS\n",
      "PEACH\n",
      "PIKACHU\n",
      "ICE_CLIMBERS\n",
      "JIGGLYPUFF\n",
      "SAMUS\n",
      "YOSHI\n",
      "ZELDA\n",
      "SHEIK\n",
      "FALCO\n",
      "YOUNG_LINK\n",
      "DR_MARIO\n",
      "ROY\n",
      "PICHU\n",
      "GANONDORF\n"
     ]
    }
   ],
   "source": [
    "for character in characters:\n",
    "    print(character)"
   ]
  },
  {
   "cell_type": "markdown",
   "metadata": {},
   "source": [
    "# Pretrained Model\n",
    "\n",
    "Base models are trained in cnn.ipynb"
   ]
  },
  {
   "cell_type": "code",
   "execution_count": 4,
   "metadata": {},
   "outputs": [],
   "source": [
    "from tensorflow.keras.optimizers import Adam, Nadam\n",
    "adam = Adam(learning_rate=.0001)\n",
    "nadam = Nadam(learning_rate=.0001)"
   ]
  },
  {
   "cell_type": "code",
   "execution_count": 5,
   "metadata": {},
   "outputs": [
    {
     "name": "stderr",
     "output_type": "stream",
     "text": [
      "\u001b[33mWARNING\u001b[0m: Importing a function (__inference_custom_mk2_layer_call_and_return_conditional_losses_89303) with ops with custom gradients. Will likely fail if a gradient is requested.\n",
      "\u001b[33mWARNING\u001b[0m: Importing a function (__inference_custom_mk2_layer_call_and_return_conditional_losses_89303) with ops with custom gradients. Will likely fail if a gradient is requested.\n",
      "\u001b[33mWARNING\u001b[0m: Importing a function (__inference_custom_mk2_layer_call_and_return_conditional_losses_89303) with ops with custom gradients. Will likely fail if a gradient is requested.\n",
      "\u001b[33mWARNING\u001b[0m: Importing a function (__inference_custom_mk2_layer_call_and_return_conditional_losses_89303) with ops with custom gradients. Will likely fail if a gradient is requested.\n",
      "\u001b[33mWARNING\u001b[0m: Importing a function (__inference_custom_mk2_layer_call_and_return_conditional_losses_89303) with ops with custom gradients. Will likely fail if a gradient is requested.\n",
      "\u001b[33mWARNING\u001b[0m: Importing a function (__inference_custom_mk2_layer_call_and_return_conditional_losses_89303) with ops with custom gradients. Will likely fail if a gradient is requested.\n",
      "\u001b[33mWARNING\u001b[0m: Importing a function (__inference_custom_mk2_layer_call_and_return_conditional_losses_89303) with ops with custom gradients. Will likely fail if a gradient is requested.\n",
      "\u001b[33mWARNING\u001b[0m: Importing a function (__inference_conv4_layer_call_and_return_conditional_losses_89656) with ops with custom gradients. Will likely fail if a gradient is requested.\n",
      "\u001b[33mWARNING\u001b[0m: Importing a function (__inference_conv3.2_layer_call_and_return_conditional_losses_88655) with ops with custom gradients. Will likely fail if a gradient is requested.\n",
      "\u001b[33mWARNING\u001b[0m: Importing a function (__inference_dense2_layer_call_and_return_conditional_losses_89744) with ops with custom gradients. Will likely fail if a gradient is requested.\n",
      "\u001b[33mWARNING\u001b[0m: Importing a function (__inference__wrapped_model_88459) with ops with custom gradients. Will likely fail if a gradient is requested.\n",
      "\u001b[33mWARNING\u001b[0m: Importing a function (__inference__wrapped_model_88459) with ops with custom gradients. Will likely fail if a gradient is requested.\n",
      "\u001b[33mWARNING\u001b[0m: Importing a function (__inference__wrapped_model_88459) with ops with custom gradients. Will likely fail if a gradient is requested.\n",
      "\u001b[33mWARNING\u001b[0m: Importing a function (__inference__wrapped_model_88459) with ops with custom gradients. Will likely fail if a gradient is requested.\n",
      "\u001b[33mWARNING\u001b[0m: Importing a function (__inference__wrapped_model_88459) with ops with custom gradients. Will likely fail if a gradient is requested.\n",
      "\u001b[33mWARNING\u001b[0m: Importing a function (__inference__wrapped_model_88459) with ops with custom gradients. Will likely fail if a gradient is requested.\n",
      "\u001b[33mWARNING\u001b[0m: Importing a function (__inference__wrapped_model_88459) with ops with custom gradients. Will likely fail if a gradient is requested.\n",
      "\u001b[33mWARNING\u001b[0m: Importing a function (__inference_conv4_layer_call_and_return_conditional_losses_88693) with ops with custom gradients. Will likely fail if a gradient is requested.\n",
      "\u001b[33mWARNING\u001b[0m: Importing a function (__inference_conv2.1_layer_call_and_return_conditional_losses_89566) with ops with custom gradients. Will likely fail if a gradient is requested.\n",
      "\u001b[33mWARNING\u001b[0m: Importing a function (__inference_conv3.2_layer_call_and_return_conditional_losses_89626) with ops with custom gradients. Will likely fail if a gradient is requested.\n",
      "\u001b[33mWARNING\u001b[0m: Importing a function (__inference_conv1_layer_call_and_return_conditional_losses_89536) with ops with custom gradients. Will likely fail if a gradient is requested.\n",
      "\u001b[33mWARNING\u001b[0m: Importing a function (__inference_conv2.1_layer_call_and_return_conditional_losses_88580) with ops with custom gradients. Will likely fail if a gradient is requested.\n",
      "\u001b[33mWARNING\u001b[0m: Importing a function (__inference_conv3.1_layer_call_and_return_conditional_losses_89596) with ops with custom gradients. Will likely fail if a gradient is requested.\n",
      "\u001b[33mWARNING\u001b[0m: Importing a function (__inference_dense2_layer_call_and_return_conditional_losses_88802) with ops with custom gradients. Will likely fail if a gradient is requested.\n",
      "\u001b[33mWARNING\u001b[0m: Importing a function (__inference_conv3.1_layer_call_and_return_conditional_losses_88618) with ops with custom gradients. Will likely fail if a gradient is requested.\n",
      "\u001b[33mWARNING\u001b[0m: Importing a function (__inference_dense1_layer_call_and_return_conditional_losses_88740) with ops with custom gradients. Will likely fail if a gradient is requested.\n",
      "\u001b[33mWARNING\u001b[0m: Importing a function (__inference_dense1_layer_call_and_return_conditional_losses_89692) with ops with custom gradients. Will likely fail if a gradient is requested.\n",
      "\u001b[33mWARNING\u001b[0m: Importing a function (__inference_custom_mk2_layer_call_and_return_conditional_losses_89441) with ops with custom gradients. Will likely fail if a gradient is requested.\n",
      "\u001b[33mWARNING\u001b[0m: Importing a function (__inference_custom_mk2_layer_call_and_return_conditional_losses_89441) with ops with custom gradients. Will likely fail if a gradient is requested.\n",
      "\u001b[33mWARNING\u001b[0m: Importing a function (__inference_custom_mk2_layer_call_and_return_conditional_losses_89441) with ops with custom gradients. Will likely fail if a gradient is requested.\n",
      "\u001b[33mWARNING\u001b[0m: Importing a function (__inference_custom_mk2_layer_call_and_return_conditional_losses_89441) with ops with custom gradients. Will likely fail if a gradient is requested.\n",
      "\u001b[33mWARNING\u001b[0m: Importing a function (__inference_custom_mk2_layer_call_and_return_conditional_losses_89441) with ops with custom gradients. Will likely fail if a gradient is requested.\n",
      "\u001b[33mWARNING\u001b[0m: Importing a function (__inference_custom_mk2_layer_call_and_return_conditional_losses_89441) with ops with custom gradients. Will likely fail if a gradient is requested.\n",
      "\u001b[33mWARNING\u001b[0m: Importing a function (__inference_custom_mk2_layer_call_and_return_conditional_losses_89441) with ops with custom gradients. Will likely fail if a gradient is requested.\n",
      "\u001b[33mWARNING\u001b[0m: Importing a function (__inference_conv1_layer_call_and_return_conditional_losses_88542) with ops with custom gradients. Will likely fail if a gradient is requested.\n"
     ]
    },
    {
     "name": "stdout",
     "output_type": "stream",
     "text": [
      "Model: \"custom_mk2\"\n",
      "_________________________________________________________________\n",
      "Layer (type)                 Output Shape              Param #   \n",
      "=================================================================\n",
      "conv1 (Conv1D)               (None, None, 150)         58650     \n",
      "_________________________________________________________________\n",
      "max_pooling1d (MaxPooling1D) (None, None, 150)         0         \n",
      "_________________________________________________________________\n",
      "conv2.1 (Conv1D)             (None, None, 128)         288128    \n",
      "_________________________________________________________________\n",
      "max_pooling1d_1 (MaxPooling1 (None, None, 128)         0         \n",
      "_________________________________________________________________\n",
      "conv3.1 (Conv1D)             (None, None, 128)         245888    \n",
      "_________________________________________________________________\n",
      "conv3.2 (Conv1D)             (None, None, 128)         245888    \n",
      "_________________________________________________________________\n",
      "max_pooling1d_2 (MaxPooling1 (None, None, 128)         0         \n",
      "_________________________________________________________________\n",
      "conv4 (Conv1D)               (None, None, 256)         491776    \n",
      "_________________________________________________________________\n",
      "global_max_pooling1d (Global (None, 256)               0         \n",
      "_________________________________________________________________\n",
      "flatten (Flatten)            (None, 256)               0         \n",
      "_________________________________________________________________\n",
      "dense1 (Dense)               (None, 80)                20560     \n",
      "_________________________________________________________________\n",
      "dropout (Dropout)            (None, 80)                0         \n",
      "_________________________________________________________________\n",
      "dense2 (Dense)               (None, 80)                6480      \n",
      "_________________________________________________________________\n",
      "dropout_1 (Dropout)          (None, 80)                0         \n",
      "_________________________________________________________________\n",
      "final (Dense)                (None, 26)                2106      \n",
      "=================================================================\n",
      "Total params: 1,359,476\n",
      "Trainable params: 1,359,476\n",
      "Non-trainable params: 0\n",
      "_________________________________________________________________\n"
     ]
    }
   ],
   "source": [
    "# to load the saved model\n",
    "model = keras.models.load_model('../models/custom_mk2')\n",
    "model.summary()"
   ]
  },
  {
   "cell_type": "markdown",
   "metadata": {},
   "source": [
    "# Repurposing"
   ]
  },
  {
   "cell_type": "code",
   "execution_count": 6,
   "metadata": {},
   "outputs": [
    {
     "data": {
      "text/plain": [
       "15"
      ]
     },
     "execution_count": 6,
     "metadata": {},
     "output_type": "execute_result"
    }
   ],
   "source": [
    "len(model.layers)"
   ]
  },
  {
   "cell_type": "code",
   "execution_count": 8,
   "metadata": {},
   "outputs": [
    {
     "name": "stdout",
     "output_type": "stream",
     "text": [
      "Model: \"custom_mk2\"\n",
      "_________________________________________________________________\n",
      "Layer (type)                 Output Shape              Param #   \n",
      "=================================================================\n",
      "conv1 (Conv1D)               (None, None, 150)         58650     \n",
      "_________________________________________________________________\n",
      "max_pooling1d (MaxPooling1D) (None, None, 150)         0         \n",
      "_________________________________________________________________\n",
      "conv2.1 (Conv1D)             (None, None, 128)         288128    \n",
      "_________________________________________________________________\n",
      "max_pooling1d_1 (MaxPooling1 (None, None, 128)         0         \n",
      "_________________________________________________________________\n",
      "conv3.1 (Conv1D)             (None, None, 128)         245888    \n",
      "_________________________________________________________________\n",
      "conv3.2 (Conv1D)             (None, None, 128)         245888    \n",
      "_________________________________________________________________\n",
      "max_pooling1d_2 (MaxPooling1 (None, None, 128)         0         \n",
      "_________________________________________________________________\n",
      "conv4 (Conv1D)               (None, None, 256)         491776    \n",
      "_________________________________________________________________\n",
      "global_max_pooling1d (Global (None, 256)               0         \n",
      "_________________________________________________________________\n",
      "flatten (Flatten)            (None, 256)               0         \n",
      "=================================================================\n",
      "Total params: 1,330,330\n",
      "Trainable params: 1,330,330\n",
      "Non-trainable params: 0\n",
      "_________________________________________________________________\n"
     ]
    }
   ],
   "source": [
    "for _ in range(5):\n",
    "    model.pop()\n",
    "model.summary()"
   ]
  },
  {
   "cell_type": "code",
   "execution_count": null,
   "metadata": {},
   "outputs": [],
   "source": []
  }
 ],
 "metadata": {
  "kernelspec": {
   "display_name": "Python 3",
   "language": "python",
   "name": "python3"
  },
  "language_info": {
   "codemirror_mode": {
    "name": "ipython",
    "version": 3
   },
   "file_extension": ".py",
   "mimetype": "text/x-python",
   "name": "python",
   "nbconvert_exporter": "python",
   "pygments_lexer": "ipython3",
   "version": "3.8.5"
  }
 },
 "nbformat": 4,
 "nbformat_minor": 4
}
