{
 "cells": [
  {
   "cell_type": "code",
   "execution_count": 1,
   "metadata": {
    "scrolled": true
   },
   "outputs": [],
   "source": [
    "from src.extract import extract\n",
    "from src.export import export, export_dir, display_progress\n",
    "\n",
    "from slippi import Game\n",
    "\n",
    "from pymongo import MongoClient\n",
    "from bson.binary import Binary\n",
    "from scipy import sparse\n",
    "import numpy as np\n",
    "import pickle\n",
    "import os"
   ]
  },
  {
   "cell_type": "code",
   "execution_count": 2,
   "metadata": {},
   "outputs": [],
   "source": [
    "database_name = 'slippi'\n",
    "collection_name = 'Blynde'\n",
    "subdir = ''"
   ]
  },
  {
   "cell_type": "code",
   "execution_count": 3,
   "metadata": {},
   "outputs": [
    {
     "name": "stdout",
     "output_type": "stream",
     "text": [
      "Preparing to send contents of:\n",
      "\n",
      " - /media/zack/Storage/slippis/Blynde/\n",
      "\n",
      "to [slippi.Blynde]\n"
     ]
    }
   ],
   "source": [
    "dir_full_path = os.path.join('/media/zack/Storage/slippis/', collection_name)\n",
    "dir_full_path = os.path.join(dir_full_path, subdir)\n",
    "print(f'Preparing to send contents of:\\n\\n - {dir_full_path}\\n\\nto [{database_name}.{collection_name}]')"
   ]
  },
  {
   "cell_type": "code",
   "execution_count": 4,
   "metadata": {},
   "outputs": [],
   "source": [
    "# Connect to the hosted MongoDB instance\n",
    "client = MongoClient('localhost', 27017)\n",
    "db = client[database_name]\n",
    "collection = db[collection_name]"
   ]
  },
  {
   "cell_type": "code",
   "execution_count": 5,
   "metadata": {},
   "outputs": [
    {
     "name": "stdout",
     "output_type": "stream",
     "text": [
      "[####################] 1 of 1 - 100.0% \n",
      "Successfully uploaded 0 games.\n",
      "Failed to upload 0 games.\n",
      "\n",
      "    - 0 were too short.\n",
      "    - 0 failed to parse.\n",
      "\n"
     ]
    }
   ],
   "source": [
    "# export all .slp files in dir\n",
    "export_dir(dir_full_path, database_name, collection_name)"
   ]
  },
  {
   "cell_type": "code",
   "execution_count": null,
   "metadata": {},
   "outputs": [],
   "source": [
    "# number of documents in database\n",
    "# each game produces two documens,\n",
    "# one for each player\n",
    "collection.count_documents({})"
   ]
  },
  {
   "cell_type": "code",
   "execution_count": null,
   "metadata": {},
   "outputs": [],
   "source": []
  }
 ],
 "metadata": {
  "kernelspec": {
   "display_name": "Python 3",
   "language": "python",
   "name": "python3"
  },
  "language_info": {
   "codemirror_mode": {
    "name": "ipython",
    "version": 3
   },
   "file_extension": ".py",
   "mimetype": "text/x-python",
   "name": "python",
   "nbconvert_exporter": "python",
   "pygments_lexer": "ipython3",
   "version": "3.8.5"
  }
 },
 "nbformat": 4,
 "nbformat_minor": 4
}
