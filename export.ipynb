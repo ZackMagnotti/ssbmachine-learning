{
 "cells": [
  {
   "cell_type": "code",
   "execution_count": 1,
   "metadata": {
    "scrolled": true
   },
   "outputs": [],
   "source": [
    "from src.extract import extract\n",
    "from src.export import export, export_dir, display_progress\n",
    "\n",
    "from slippi import Game\n",
    "\n",
    "from pymongo import MongoClient\n",
    "from bson.binary import Binary\n",
    "from scipy import sparse\n",
    "import numpy as np\n",
    "import pickle\n",
    "import os"
   ]
  },
  {
   "cell_type": "code",
   "execution_count": 2,
   "metadata": {},
   "outputs": [],
   "source": [
    "database_name = 'slippi'\n",
    "collection_name = 'TCBL'\n",
    "subdir = ''"
   ]
  },
  {
   "cell_type": "code",
   "execution_count": 3,
   "metadata": {},
   "outputs": [
    {
     "name": "stdout",
     "output_type": "stream",
     "text": [
      "Preparing to send contents of:\n",
      "\n",
      " - /media/zack/vault/slippis/TCBL/\n",
      "\n",
      "to [slippi.TCBL]\n"
     ]
    }
   ],
   "source": [
    "dir_full_path = os.path.join('/media/zack/vault/slippis/', collection_name)\n",
    "dir_full_path = os.path.join(dir_full_path, subdir)\n",
    "print(f'Preparing to send contents of:\\n\\n - {dir_full_path}\\n\\nto [{database_name}.{collection_name}]')"
   ]
  },
  {
   "cell_type": "code",
   "execution_count": 4,
   "metadata": {},
   "outputs": [],
   "source": [
    "# Connect to the hosted MongoDB instance\n",
    "client = MongoClient('localhost', 27017)\n",
    "db = client[database_name]\n",
    "collection = db[collection_name]"
   ]
  },
  {
   "cell_type": "code",
   "execution_count": null,
   "metadata": {},
   "outputs": [
    {
     "name": "stdout",
     "output_type": "stream",
     "text": [
      "[....................] 10 of 375 - 2.67% "
     ]
    }
   ],
   "source": [
    "# export all .slp files in dir\n",
    "export_dir(dir_full_path, database_name, collection_name)"
   ]
  },
  {
   "cell_type": "code",
   "execution_count": null,
   "metadata": {},
   "outputs": [],
   "source": [
    "# number of documents in database\n",
    "# each game produces two documens,\n",
    "# one for each player\n",
    "collection.count_documents({})"
   ]
  },
  {
   "cell_type": "code",
   "execution_count": null,
   "metadata": {},
   "outputs": [],
   "source": []
  }
 ],
 "metadata": {
  "kernelspec": {
   "display_name": "Python 3",
   "language": "python",
   "name": "python3"
  },
  "language_info": {
   "codemirror_mode": {
    "name": "ipython",
    "version": 3
   },
   "file_extension": ".py",
   "mimetype": "text/x-python",
   "name": "python",
   "nbconvert_exporter": "python",
   "pygments_lexer": "ipython3",
   "version": "3.8.5"
  }
 },
 "nbformat": 4,
 "nbformat_minor": 4
}
