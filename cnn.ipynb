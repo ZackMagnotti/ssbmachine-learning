{
 "cells": [
  {
   "cell_type": "code",
   "execution_count": 1,
   "metadata": {},
   "outputs": [],
   "source": [
    "from src.generator import data_generator, clip_generator, label_generator\n",
    "from src.util import characters, id_from_char, char_from_id\n",
    "\n",
    "from pymongo import MongoClient\n",
    "from tensorflow import keras\n",
    "\n",
    "import numpy as np\n",
    "import pickle"
   ]
  },
  {
   "cell_type": "code",
   "execution_count": 2,
   "metadata": {},
   "outputs": [
    {
     "name": "stdout",
     "output_type": "stream",
     "text": [
      "CAPTAIN_FALCON\n",
      "DONKEY_KONG\n",
      "FOX\n",
      "GAME_AND_WATCH\n",
      "KIRBY\n",
      "BOWSER\n",
      "LINK\n",
      "LUIGI\n",
      "MARIO\n",
      "MARTH\n",
      "MEWTWO\n",
      "NESS\n",
      "PEACH\n",
      "PIKACHU\n",
      "ICE_CLIMBERS\n",
      "JIGGLYPUFF\n",
      "SAMUS\n",
      "YOSHI\n",
      "ZELDA\n",
      "SHEIK\n",
      "FALCO\n",
      "YOUNG_LINK\n",
      "DR_MARIO\n",
      "ROY\n",
      "PICHU\n",
      "GANONDORF\n"
     ]
    }
   ],
   "source": [
    "for character in characters:\n",
    "    print(character)"
   ]
  },
  {
   "cell_type": "markdown",
   "metadata": {},
   "source": [
    "# The Model\n",
    "\n",
    "Source code for model creation is in src/models.py"
   ]
  },
  {
   "cell_type": "code",
   "execution_count": 3,
   "metadata": {},
   "outputs": [],
   "source": [
    "from tensorflow.keras.optimizers import Adam, Nadam\n",
    "adam = Adam(learning_rate=0.00001)\n",
    "nadam = Nadam(learning_rate=0.0001)"
   ]
  },
  {
   "cell_type": "code",
   "execution_count": 4,
   "metadata": {},
   "outputs": [
    {
     "name": "stderr",
     "output_type": "stream",
     "text": [
      "\u001b[33mWARNING\u001b[0m: Importing a function (__inference_conv3.2_layer_call_and_return_conditional_losses_85721) with ops with custom gradients. Will likely fail if a gradient is requested.\n",
      "\u001b[33mWARNING\u001b[0m: Importing a function (__inference_dense2_layer_call_and_return_conditional_losses_86810) with ops with custom gradients. Will likely fail if a gradient is requested.\n",
      "\u001b[33mWARNING\u001b[0m: Importing a function (__inference_dense2_layer_call_and_return_conditional_losses_85868) with ops with custom gradients. Will likely fail if a gradient is requested.\n",
      "\u001b[33mWARNING\u001b[0m: Importing a function (__inference__wrapped_model_85525) with ops with custom gradients. Will likely fail if a gradient is requested.\n",
      "\u001b[33mWARNING\u001b[0m: Importing a function (__inference__wrapped_model_85525) with ops with custom gradients. Will likely fail if a gradient is requested.\n",
      "\u001b[33mWARNING\u001b[0m: Importing a function (__inference__wrapped_model_85525) with ops with custom gradients. Will likely fail if a gradient is requested.\n",
      "\u001b[33mWARNING\u001b[0m: Importing a function (__inference__wrapped_model_85525) with ops with custom gradients. Will likely fail if a gradient is requested.\n",
      "\u001b[33mWARNING\u001b[0m: Importing a function (__inference__wrapped_model_85525) with ops with custom gradients. Will likely fail if a gradient is requested.\n",
      "\u001b[33mWARNING\u001b[0m: Importing a function (__inference__wrapped_model_85525) with ops with custom gradients. Will likely fail if a gradient is requested.\n",
      "\u001b[33mWARNING\u001b[0m: Importing a function (__inference__wrapped_model_85525) with ops with custom gradients. Will likely fail if a gradient is requested.\n",
      "\u001b[33mWARNING\u001b[0m: Importing a function (__inference_conv2.1_layer_call_and_return_conditional_losses_86632) with ops with custom gradients. Will likely fail if a gradient is requested.\n",
      "\u001b[33mWARNING\u001b[0m: Importing a function (__inference_custom_mk2_layer_call_and_return_conditional_losses_86369) with ops with custom gradients. Will likely fail if a gradient is requested.\n",
      "\u001b[33mWARNING\u001b[0m: Importing a function (__inference_custom_mk2_layer_call_and_return_conditional_losses_86369) with ops with custom gradients. Will likely fail if a gradient is requested.\n",
      "\u001b[33mWARNING\u001b[0m: Importing a function (__inference_custom_mk2_layer_call_and_return_conditional_losses_86369) with ops with custom gradients. Will likely fail if a gradient is requested.\n",
      "\u001b[33mWARNING\u001b[0m: Importing a function (__inference_custom_mk2_layer_call_and_return_conditional_losses_86369) with ops with custom gradients. Will likely fail if a gradient is requested.\n",
      "\u001b[33mWARNING\u001b[0m: Importing a function (__inference_custom_mk2_layer_call_and_return_conditional_losses_86369) with ops with custom gradients. Will likely fail if a gradient is requested.\n",
      "\u001b[33mWARNING\u001b[0m: Importing a function (__inference_custom_mk2_layer_call_and_return_conditional_losses_86369) with ops with custom gradients. Will likely fail if a gradient is requested.\n",
      "\u001b[33mWARNING\u001b[0m: Importing a function (__inference_custom_mk2_layer_call_and_return_conditional_losses_86369) with ops with custom gradients. Will likely fail if a gradient is requested.\n",
      "\u001b[33mWARNING\u001b[0m: Importing a function (__inference_conv3.2_layer_call_and_return_conditional_losses_86692) with ops with custom gradients. Will likely fail if a gradient is requested.\n",
      "\u001b[33mWARNING\u001b[0m: Importing a function (__inference_conv4_layer_call_and_return_conditional_losses_85759) with ops with custom gradients. Will likely fail if a gradient is requested.\n",
      "\u001b[33mWARNING\u001b[0m: Importing a function (__inference_conv1_layer_call_and_return_conditional_losses_86602) with ops with custom gradients. Will likely fail if a gradient is requested.\n",
      "\u001b[33mWARNING\u001b[0m: Importing a function (__inference_dense1_layer_call_and_return_conditional_losses_85806) with ops with custom gradients. Will likely fail if a gradient is requested.\n",
      "\u001b[33mWARNING\u001b[0m: Importing a function (__inference_conv1_layer_call_and_return_conditional_losses_85608) with ops with custom gradients. Will likely fail if a gradient is requested.\n",
      "\u001b[33mWARNING\u001b[0m: Importing a function (__inference_conv3.1_layer_call_and_return_conditional_losses_86662) with ops with custom gradients. Will likely fail if a gradient is requested.\n",
      "\u001b[33mWARNING\u001b[0m: Importing a function (__inference_conv4_layer_call_and_return_conditional_losses_86722) with ops with custom gradients. Will likely fail if a gradient is requested.\n",
      "\u001b[33mWARNING\u001b[0m: Importing a function (__inference_conv3.1_layer_call_and_return_conditional_losses_85684) with ops with custom gradients. Will likely fail if a gradient is requested.\n",
      "\u001b[33mWARNING\u001b[0m: Importing a function (__inference_conv2.1_layer_call_and_return_conditional_losses_85646) with ops with custom gradients. Will likely fail if a gradient is requested.\n",
      "\u001b[33mWARNING\u001b[0m: Importing a function (__inference_dense1_layer_call_and_return_conditional_losses_86758) with ops with custom gradients. Will likely fail if a gradient is requested.\n",
      "\u001b[33mWARNING\u001b[0m: Importing a function (__inference_custom_mk2_layer_call_and_return_conditional_losses_86507) with ops with custom gradients. Will likely fail if a gradient is requested.\n",
      "\u001b[33mWARNING\u001b[0m: Importing a function (__inference_custom_mk2_layer_call_and_return_conditional_losses_86507) with ops with custom gradients. Will likely fail if a gradient is requested.\n",
      "\u001b[33mWARNING\u001b[0m: Importing a function (__inference_custom_mk2_layer_call_and_return_conditional_losses_86507) with ops with custom gradients. Will likely fail if a gradient is requested.\n",
      "\u001b[33mWARNING\u001b[0m: Importing a function (__inference_custom_mk2_layer_call_and_return_conditional_losses_86507) with ops with custom gradients. Will likely fail if a gradient is requested.\n",
      "\u001b[33mWARNING\u001b[0m: Importing a function (__inference_custom_mk2_layer_call_and_return_conditional_losses_86507) with ops with custom gradients. Will likely fail if a gradient is requested.\n",
      "\u001b[33mWARNING\u001b[0m: Importing a function (__inference_custom_mk2_layer_call_and_return_conditional_losses_86507) with ops with custom gradients. Will likely fail if a gradient is requested.\n",
      "\u001b[33mWARNING\u001b[0m: Importing a function (__inference_custom_mk2_layer_call_and_return_conditional_losses_86507) with ops with custom gradients. Will likely fail if a gradient is requested.\n"
     ]
    }
   ],
   "source": [
    "# # to make a new model\n",
    "from src.models import custom_mk2 as Model\n",
    "# model = Model()\n",
    "\n",
    "# to load the saved model\n",
    "model = keras.models.load_model('models/custom_mk2')\n",
    "\n",
    "from src.models import focal_loss, top_8_accuracy\n",
    "model.compile(loss=focal_loss,\n",
    "              optimizer=adam,\n",
    "              metrics=['accuracy', top_8_accuracy])"
   ]
  },
  {
   "cell_type": "code",
   "execution_count": 5,
   "metadata": {},
   "outputs": [
    {
     "name": "stdout",
     "output_type": "stream",
     "text": [
      "Model: \"custom_mk2\"\n",
      "_________________________________________________________________\n",
      "Layer (type)                 Output Shape              Param #   \n",
      "=================================================================\n",
      "conv1 (Conv1D)               (None, None, 150)         58650     \n",
      "_________________________________________________________________\n",
      "max_pooling1d (MaxPooling1D) (None, None, 150)         0         \n",
      "_________________________________________________________________\n",
      "conv2.1 (Conv1D)             (None, None, 128)         288128    \n",
      "_________________________________________________________________\n",
      "max_pooling1d_1 (MaxPooling1 (None, None, 128)         0         \n",
      "_________________________________________________________________\n",
      "conv3.1 (Conv1D)             (None, None, 128)         245888    \n",
      "_________________________________________________________________\n",
      "conv3.2 (Conv1D)             (None, None, 128)         245888    \n",
      "_________________________________________________________________\n",
      "max_pooling1d_2 (MaxPooling1 (None, None, 128)         0         \n",
      "_________________________________________________________________\n",
      "conv4 (Conv1D)               (None, None, 256)         491776    \n",
      "_________________________________________________________________\n",
      "global_max_pooling1d (Global (None, 256)               0         \n",
      "_________________________________________________________________\n",
      "flatten (Flatten)            (None, 256)               0         \n",
      "_________________________________________________________________\n",
      "dense1 (Dense)               (None, 80)                20560     \n",
      "_________________________________________________________________\n",
      "dropout (Dropout)            (None, 80)                0         \n",
      "_________________________________________________________________\n",
      "dense2 (Dense)               (None, 80)                6480      \n",
      "_________________________________________________________________\n",
      "dropout_1 (Dropout)          (None, 80)                0         \n",
      "_________________________________________________________________\n",
      "final (Dense)                (None, 26)                2106      \n",
      "=================================================================\n",
      "Total params: 1,359,476\n",
      "Trainable params: 1,359,476\n",
      "Non-trainable params: 0\n",
      "_________________________________________________________________\n"
     ]
    }
   ],
   "source": [
    "model.summary()"
   ]
  },
  {
   "cell_type": "markdown",
   "metadata": {},
   "source": [
    "# Testing"
   ]
  },
  {
   "cell_type": "code",
   "execution_count": 11,
   "metadata": {},
   "outputs": [
    {
     "data": {
      "text/plain": [
       "916647"
      ]
     },
     "execution_count": 11,
     "metadata": {},
     "output_type": "execute_result"
    }
   ],
   "source": [
    "database_name = 'slippi'\n",
    "collection_name = 'melee_clips_30s'\n",
    "\n",
    "# Connect to the hosted MongoDB instance\n",
    "client = MongoClient('localhost', 27017)\n",
    "db = client[database_name]\n",
    "collection = db[collection_name]\n",
    "collection.estimated_document_count()"
   ]
  },
  {
   "cell_type": "code",
   "execution_count": 12,
   "metadata": {},
   "outputs": [],
   "source": [
    "batch_size = 100\n",
    "skip = None    # no skip because first 100k clips are test data\n",
    "step = 13       # to ensure that consecutive clips aren't from the same player and game\n",
    "repeat = True  # keep this as True, allows generator to loop through database infinitley\n",
    "limit = 100000 # only look at test data (first 100k clips)\n",
    "\n",
    "num_batches = 100"
   ]
  },
  {
   "cell_type": "code",
   "execution_count": 13,
   "metadata": {},
   "outputs": [],
   "source": [
    "data_test = data_generator(clip_collection=collection,\n",
    "                           batch_size = batch_size,\n",
    "                           skip=skip,\n",
    "                           step=step,\n",
    "                           repeat=repeat,\n",
    "                           limit=limit)\n",
    "\n",
    "X_test = clip_generator(clip_collection=collection,\n",
    "                        batch_size = batch_size,\n",
    "                        skip=skip,\n",
    "                        step=step,\n",
    "                        repeat=repeat,\n",
    "                        limit=limit)\n",
    "\n",
    "Y_test = label_generator(clip_collection=collection,\n",
    "                         batch_size = batch_size,\n",
    "                         skip=skip,\n",
    "                         step=step,\n",
    "                         repeat=repeat,\n",
    "                         limit=limit, \n",
    "                         onehot=True)\n",
    "\n",
    "y_test = label_generator(clip_collection=collection,\n",
    "                         batch_size = batch_size,\n",
    "                         skip=skip,\n",
    "                         step=step,\n",
    "                         repeat=repeat,\n",
    "                         limit=limit,\n",
    "                         onehot=False)"
   ]
  },
  {
   "cell_type": "code",
   "execution_count": 14,
   "metadata": {},
   "outputs": [
    {
     "name": "stdout",
     "output_type": "stream",
     "text": [
      "100/100 [==============================] - 86s 855ms/step - loss: 0.0413 - accuracy: 0.9324 - top 8 accuracy: 0.9788\n",
      "\n",
      "Test score: 0.041\n",
      "Test accuracy: 93%\n",
      "Test test top 8 categorical accuracy: 98%\n"
     ]
    }
   ],
   "source": [
    "score = model.evaluate(data_test, steps=num_batches, verbose=1)\n",
    "\n",
    "print('\\nTest score:', round(score[0], 3))\n",
    "print(f'Test accuracy: {round(score[1]*100)}%')\n",
    "print(f'Test test top 8 categorical accuracy: {round(score[2]*100)}%') "
   ]
  },
  {
   "cell_type": "markdown",
   "metadata": {},
   "source": [
    "# Confusion Matrix"
   ]
  },
  {
   "cell_type": "code",
   "execution_count": 15,
   "metadata": {},
   "outputs": [],
   "source": [
    "import pandas as pd\n",
    "import seaborn as sn\n",
    "import matplotlib.pyplot as plt"
   ]
  },
  {
   "cell_type": "code",
   "execution_count": 16,
   "metadata": {},
   "outputs": [],
   "source": [
    "def get_conf_matrix(labels_as_id, predictions_as_id):\n",
    "    conf_matrix = np.zeros((27,27))\n",
    "    for i_real, i_pred in zip(labels_as_id, predictions_as_id):\n",
    "        conf_matrix[i_real, i_pred] += 1\n",
    "    return conf_matrix"
   ]
  },
  {
   "cell_type": "code",
   "execution_count": 17,
   "metadata": {},
   "outputs": [
    {
     "name": "stdout",
     "output_type": "stream",
     "text": [
      "100/100 [==============================] - 86s 861ms/step\n"
     ]
    }
   ],
   "source": [
    "recalls = {k:0 for k in range(1,27)}\n",
    "precisions = {k:0 for k in range(1,27)}\n",
    "\n",
    "pred = np.argmax(model.predict(X_test, steps=num_batches, verbose=1), axis = 1)\n",
    "\n",
    "if repeat:\n",
    "    labels = np.concatenate([next(y_test) for _ in range(num_batches)])\n",
    "else:\n",
    "    labels = np.concatenate([label for label in y_test])\n",
    "\n",
    "conf_matrix = get_conf_matrix(labels, pred)\n",
    "conf_df = pd.DataFrame(conf_matrix[1:,1:], index=characters, columns=characters)"
   ]
  },
  {
   "cell_type": "code",
   "execution_count": 18,
   "metadata": {},
   "outputs": [
    {
     "data": {
      "image/png": "[encoded data removed]",
      "text/plain": [
       "<Figure size 936x720 with 2 Axes>"
      ]
     },
     "metadata": {
      "needs_background": "light"
     },
     "output_type": "display_data"
    }
   ],
   "source": [
    "# sn.heatmap(conf_df, annot=False, mask=conf_df <= 0, cmap='viridis')\n",
    "fig, ax = plt.subplots(figsize=(13,10))\n",
    "sn.heatmap(np.log(1 + conf_df), annot=False, ax=ax, square=False)\n",
    "fig.savefig('images/confusion_matrix.png')"
   ]
  },
  {
   "cell_type": "code",
   "execution_count": null,
   "metadata": {},
   "outputs": [],
   "source": []
  },
  {
   "cell_type": "code",
   "execution_count": null,
   "metadata": {},
   "outputs": [],
   "source": []
  },
  {
   "cell_type": "markdown",
   "metadata": {},
   "source": [
    "# Training"
   ]
  },
  {
   "cell_type": "code",
   "execution_count": 6,
   "metadata": {},
   "outputs": [],
   "source": [
    "database_name = 'slippi'\n",
    "collection_name = 'melee_clips_30s'\n",
    "\n",
    "# Connect to the hosted MongoDB instance\n",
    "client = MongoClient('localhost', 27017)\n",
    "db = client[database_name]\n",
    "collection = db[collection_name]"
   ]
  },
  {
   "cell_type": "code",
   "execution_count": 7,
   "metadata": {},
   "outputs": [],
   "source": [
    "# skip first 100k clips and save them as test data\n",
    "data = data_generator(collection, batch_size=100, skip=100000, step=29, repeat=True)"
   ]
  },
  {
   "cell_type": "code",
   "execution_count": 8,
   "metadata": {},
   "outputs": [
    {
     "name": "stdout",
     "output_type": "stream",
     "text": [
      "Epoch 1/10\n",
      "500/500 [==============================] - 1424s 3s/step - loss: 0.3259 - accuracy: 0.5133 - top 8 accuracy: 0.9038\n",
      "Epoch 2/10\n",
      "500/500 [==============================] - 1421s 3s/step - loss: 0.1746 - accuracy: 0.7583 - top 8 accuracy: 0.9426\n",
      "Epoch 3/10\n",
      "500/500 [==============================] - 1419s 3s/step - loss: 0.1332 - accuracy: 0.8159 - top 8 accuracy: 0.9557\n",
      "Epoch 4/10\n",
      "500/500 [==============================] - 1419s 3s/step - loss: 0.1133 - accuracy: 0.8399 - top 8 accuracy: 0.9615\n",
      "Epoch 5/10\n",
      "500/500 [==============================] - 1419s 3s/step - loss: 0.0999 - accuracy: 0.8592 - top 8 accuracy: 0.9651\n",
      "Epoch 6/10\n",
      "500/500 [==============================] - 1420s 3s/step - loss: 0.0905 - accuracy: 0.8709 - top 8 accuracy: 0.9669\n",
      "Epoch 7/10\n",
      "500/500 [==============================] - 1427s 3s/step - loss: 0.0835 - accuracy: 0.8806 - top 8 accuracy: 0.9690\n",
      "Epoch 8/10\n",
      "500/500 [==============================] - 1421s 3s/step - loss: 0.0801 - accuracy: 0.8832 - top 8 accuracy: 0.9690\n",
      "Epoch 9/10\n",
      "500/500 [==============================] - 1422s 3s/step - loss: 0.0775 - accuracy: 0.8874 - top 8 accuracy: 0.9698\n",
      "Epoch 10/10\n",
      "500/500 [==============================] - 1423s 3s/step - loss: 0.0727 - accuracy: 0.8948 - top 8 accuracy: 0.9723\n",
      "\n",
      "Test score: 0.067\n",
      "Test accuracy: 89%\n",
      "Test test top 8 accuracy: 97%\n"
     ]
    }
   ],
   "source": [
    "# custom_mk2\n",
    "model.fit(data, epochs=10, steps_per_epoch=500, verbose=1)\n",
    "\n",
    "score = model.evaluate(data, steps=50, verbose=0)\n",
    "print('\\nTest score:', round(score[0], 3))\n",
    "print(f'Test accuracy: {round(score[1]*100)}%')\n",
    "print(f'Test test top 8 accuracy: {round(score[2]*100)}%')"
   ]
  },
  {
   "cell_type": "code",
   "execution_count": 9,
   "metadata": {},
   "outputs": [
    {
     "name": "stderr",
     "output_type": "stream",
     "text": [
      "\u001b[33mWARNING\u001b[0m: From /home/zack/anaconda3/envs/slippi/lib/python3.8/site-packages/tensorflow/python/training/tracking/tracking.py:111: Model.state_updates (from tensorflow.python.keras.engine.training) is deprecated and will be removed in a future version.\n",
      "Instructions for updating:\n",
      "This property should not be used in TensorFlow 2.0, as updates are applied automatically.\n",
      "\u001b[33mWARNING\u001b[0m: From /home/zack/anaconda3/envs/slippi/lib/python3.8/site-packages/tensorflow/python/training/tracking/tracking.py:111: Layer.updates (from tensorflow.python.keras.engine.base_layer) is deprecated and will be removed in a future version.\n",
      "Instructions for updating:\n",
      "This property should not be used in TensorFlow 2.0, as updates are applied automatically.\n"
     ]
    }
   ],
   "source": [
    "model.save('models/custom_mk2')"
   ]
  },
  {
   "cell_type": "code",
   "execution_count": 10,
   "metadata": {},
   "outputs": [],
   "source": [
    "# skip first 100k clips and save them as test data\n",
    "data = data_generator(collection, batch_size=100, skip=100000, step=11, repeat=True)"
   ]
  },
  {
   "cell_type": "code",
   "execution_count": 11,
   "metadata": {},
   "outputs": [
    {
     "name": "stdout",
     "output_type": "stream",
     "text": [
      "Epoch 1/10\n",
      "500/500 [==============================] - 1427s 3s/step - loss: 0.0717 - accuracy: 0.8951 - top 8 accuracy: 0.9721\n",
      "Epoch 2/10\n",
      "500/500 [==============================] - 1424s 3s/step - loss: 0.0676 - accuracy: 0.8987 - top 8 accuracy: 0.9719\n",
      "Epoch 3/10\n",
      "500/500 [==============================] - 1436s 3s/step - loss: 0.0658 - accuracy: 0.9023 - top 8 accuracy: 0.9731\n",
      "Epoch 4/10\n",
      "500/500 [==============================] - 1430s 3s/step - loss: 0.0659 - accuracy: 0.9027 - top 8 accuracy: 0.9728\n",
      "Epoch 5/10\n",
      "500/500 [==============================] - 1444s 3s/step - loss: 0.0633 - accuracy: 0.9043 - top 8 accuracy: 0.9735\n",
      "Epoch 6/10\n",
      "500/500 [==============================] - 1429s 3s/step - loss: 0.0617 - accuracy: 0.9084 - top 8 accuracy: 0.9742\n",
      "Epoch 7/10\n",
      "500/500 [==============================] - 1428s 3s/step - loss: 0.0649 - accuracy: 0.9042 - top 8 accuracy: 0.9731\n",
      "Epoch 8/10\n",
      "500/500 [==============================] - 1436s 3s/step - loss: 0.0614 - accuracy: 0.9080 - top 8 accuracy: 0.9743\n",
      "Epoch 9/10\n",
      "500/500 [==============================] - 1432s 3s/step - loss: 0.0611 - accuracy: 0.9085 - top 8 accuracy: 0.9742\n",
      "Epoch 10/10\n",
      "500/500 [==============================] - 1439s 3s/step - loss: 0.0605 - accuracy: 0.9088 - top 8 accuracy: 0.9751\n",
      "\n",
      "Test score: 0.056\n",
      "Test accuracy: 92%\n",
      "Test test top 8 accuracy: 98%\n"
     ]
    }
   ],
   "source": [
    "# custom_mk2\n",
    "model.fit(data, epochs=10, steps_per_epoch=500, verbose=1)\n",
    "\n",
    "score = model.evaluate(data, steps=50, verbose=0)\n",
    "print('\\nTest score:', round(score[0], 3))\n",
    "print(f'Test accuracy: {round(score[1]*100)}%')\n",
    "print(f'Test test top 8 accuracy: {round(score[2]*100)}%')"
   ]
  },
  {
   "cell_type": "code",
   "execution_count": 12,
   "metadata": {},
   "outputs": [],
   "source": [
    "model.save('models/custom_mk2')"
   ]
  },
  {
   "cell_type": "code",
   "execution_count": 8,
   "metadata": {},
   "outputs": [
    {
     "name": "stdout",
     "output_type": "stream",
     "text": [
      "Epoch 1/10\n",
      "500/500 [==============================] - 1448s 3s/step - loss: 0.0536 - accuracy: 0.9183 - top 8 accuracy: 0.9757\n",
      "Epoch 2/10\n",
      "500/500 [==============================] - 1452s 3s/step - loss: 0.0505 - accuracy: 0.9206 - top 8 accuracy: 0.9750\n",
      "Epoch 3/10\n",
      "500/500 [==============================] - 1444s 3s/step - loss: 0.0487 - accuracy: 0.9243 - top 8 accuracy: 0.9765\n",
      "Epoch 4/10\n",
      "500/500 [==============================] - 1436s 3s/step - loss: 0.0485 - accuracy: 0.9239 - top 8 accuracy: 0.9758\n",
      "Epoch 5/10\n",
      "500/500 [==============================] - 1431s 3s/step - loss: 0.0485 - accuracy: 0.9245 - top 8 accuracy: 0.9767\n",
      "Epoch 6/10\n",
      "500/500 [==============================] - 1434s 3s/step - loss: 0.0468 - accuracy: 0.9253 - top 8 accuracy: 0.9756\n",
      "Epoch 7/10\n",
      "500/500 [==============================] - 1435s 3s/step - loss: 0.0447 - accuracy: 0.9279 - top 8 accuracy: 0.9774\n",
      "Epoch 8/10\n",
      "500/500 [==============================] - 1434s 3s/step - loss: 0.0469 - accuracy: 0.9241 - top 8 accuracy: 0.9760\n",
      "Epoch 9/10\n",
      "500/500 [==============================] - 1428s 3s/step - loss: 0.0450 - accuracy: 0.9271 - top 8 accuracy: 0.9771\n",
      "Epoch 10/10\n",
      "500/500 [==============================] - 1435s 3s/step - loss: 0.0440 - accuracy: 0.9290 - top 8 accuracy: 0.9781\n",
      "\n",
      "Test score: 0.043\n",
      "Test accuracy: 93%\n",
      "Test test top 8 accuracy: 98%\n"
     ]
    }
   ],
   "source": [
    "# custom_mk2\n",
    "model.fit(data, epochs=10, steps_per_epoch=500, verbose=1)\n",
    "\n",
    "score = model.evaluate(data, steps=50, verbose=0)\n",
    "print('\\nTest score:', round(score[0], 3))\n",
    "print(f'Test accuracy: {round(score[1]*100)}%')\n",
    "print(f'Test test top 8 accuracy: {round(score[2]*100)}%')"
   ]
  },
  {
   "cell_type": "code",
   "execution_count": 20,
   "metadata": {},
   "outputs": [],
   "source": [
    "model.save('models/custom_mk2')"
   ]
  },
  {
   "cell_type": "code",
   "execution_count": 19,
   "metadata": {},
   "outputs": [
    {
     "name": "stdout",
     "output_type": "stream",
     "text": [
      "Epoch 1/5\n",
      "500/500 [==============================] - 1426s 3s/step - loss: 0.0450 - accuracy: 0.9280 - top 8 accuracy: 0.9771\n",
      "Epoch 2/5\n",
      "500/500 [==============================] - 1428s 3s/step - loss: 0.0449 - accuracy: 0.9255 - top 8 accuracy: 0.9766\n",
      "Epoch 3/5\n",
      "500/500 [==============================] - 1428s 3s/step - loss: 0.0439 - accuracy: 0.9293 - top 8 accuracy: 0.9778\n",
      "Epoch 4/5\n",
      "500/500 [==============================] - 1424s 3s/step - loss: 0.0436 - accuracy: 0.9298 - top 8 accuracy: 0.9774\n",
      "Epoch 5/5\n",
      "500/500 [==============================] - 1434s 3s/step - loss: 0.0436 - accuracy: 0.9292 - top 8 accuracy: 0.9766\n",
      "\n",
      "Test score: 0.042\n",
      "Test accuracy: 93%\n",
      "Test test top 8 accuracy: 98%\n"
     ]
    }
   ],
   "source": [
    "# custom_mk2\n",
    "model.fit(data, epochs=5, steps_per_epoch=500, verbose=1)\n",
    "\n",
    "score = model.evaluate(data, steps=50, verbose=0)\n",
    "print('\\nTest score:', round(score[0], 3))\n",
    "print(f'Test accuracy: {round(score[1]*100)}%')\n",
    "print(f'Test test top 8 accuracy: {round(score[2]*100)}%')"
   ]
  },
  {
   "cell_type": "code",
   "execution_count": null,
   "metadata": {},
   "outputs": [],
   "source": []
  }
 ],
 "metadata": {
  "kernelspec": {
   "display_name": "Python 3",
   "language": "python",
   "name": "python3"
  },
  "language_info": {
   "codemirror_mode": {
    "name": "ipython",
    "version": 3
   },
   "file_extension": ".py",
   "mimetype": "text/x-python",
   "name": "python",
   "nbconvert_exporter": "python",
   "pygments_lexer": "ipython3",
   "version": "3.8.5"
  }
 },
 "nbformat": 4,
 "nbformat_minor": 4
}
