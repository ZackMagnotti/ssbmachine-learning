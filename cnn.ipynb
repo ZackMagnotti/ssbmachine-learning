{
 "cells": [
  {
   "cell_type": "code",
   "execution_count": 1,
   "metadata": {},
   "outputs": [],
   "source": [
    "from src.get_from_mongo import get_data\n",
    "from sklearn.model_selection import train_test_split\n",
    "from pymongo import MongoClient\n",
    "import numpy as np\n",
    "import tensorflow as tf\n",
    "import pickle"
   ]
  },
  {
   "cell_type": "code",
   "execution_count": 2,
   "metadata": {},
   "outputs": [],
   "source": [
    "id_from_char = {\n",
    "    'CAPTAIN_FALCON' : 1 ,\n",
    "    'DONKEY_KONG'    : 2 ,\n",
    "    'FOX'            : 3 ,\n",
    "    'GAME_AND_WATCH' : 4 ,\n",
    "    'KIRBY'          : 5 ,\n",
    "    'BOWSER'         : 6 ,\n",
    "    'LINK'           : 7 ,\n",
    "    'LUIGI'          : 8 ,\n",
    "    'MARIO'          : 9 ,\n",
    "    'MARTH'          : 10 ,\n",
    "    'MEWTWO'         : 11 ,\n",
    "    'NESS'           : 12 ,\n",
    "    'PEACH'          : 13 ,\n",
    "    'PIKACHU'        : 14 ,\n",
    "    'ICE_CLIMBERS'   : 15 ,\n",
    "    'JIGGLYPUFF'     : 16 ,\n",
    "    'SAMUS'          : 17 ,\n",
    "    'YOSHI'          : 18 ,\n",
    "    'ZELDA'          : 19 ,\n",
    "    'SHEIK'          : 20 ,\n",
    "    'FALCO'          : 21 ,\n",
    "    'YOUNG_LINK'     : 22 ,\n",
    "    'DR_MARIO'       : 23 ,\n",
    "    'ROY'            : 24 ,\n",
    "    'PICHU'          : 25 ,\n",
    "    'GANONDORF'      : 26 ,\n",
    "}\n",
    "\n",
    "char_from_id = {v:k for k, v in id_from_char.items()}"
   ]
  },
  {
   "cell_type": "code",
   "execution_count": 3,
   "metadata": {},
   "outputs": [],
   "source": [
    "database_name = 'slippi'\n",
    "collection_name = 'melee_clips_30s'\n",
    "\n",
    "# Connect to the hosted MongoDB instance\n",
    "client = MongoClient('localhost', 27017)\n",
    "db = client[database_name]\n",
    "collection = db[collection_name]"
   ]
  },
  {
   "cell_type": "code",
   "execution_count": 207,
   "metadata": {},
   "outputs": [],
   "source": [
    "def data_generator(clip_collection=collection, # collection containing clips\n",
    "                   batch_size = 100,\n",
    "                   skip=None,\n",
    "                   step=1,\n",
    "                   repeat=False,\n",
    "                   mode=None,\n",
    "                   limit=None,\n",
    "                   onehot=True):\n",
    "        \n",
    "        \n",
    "        cur = clip_collection.find()\n",
    "        \n",
    "        if skip:\n",
    "            cur.skip(skip)\n",
    "        \n",
    "        if limit:\n",
    "            cur.limit(limit)\n",
    "            \n",
    "        while cur.alive:\n",
    "            \n",
    "            xi = []\n",
    "            yi = []\n",
    "            \n",
    "            for _ in range(batch_size):\n",
    "                for _ in range(step):\n",
    "                    try:\n",
    "                        clip = next(cur)\n",
    "                        \n",
    "                    except StopIteration:\n",
    "                        if repeat:\n",
    "                            cur = clip_collection.find()\n",
    "                            if skip:  cur.skip(skip)\n",
    "                            if limit: cur.limit(step*limit)\n",
    "                            clip = next(cur)\n",
    "                        else:\n",
    "                            raise\n",
    "                \n",
    "                if mode != 'Y':\n",
    "                    xi.append(pickle.loads(clip['istream']).toarray())\n",
    "                yi.append(id_from_char[clip['character']])\n",
    "\n",
    "            xi = np.stack(xi, axis=0)\n",
    "            \n",
    "            if onehot:\n",
    "                yi = tf.one_hot(yi, 26)\n",
    "            \n",
    "            if mode == 'X' or mode == 'x':\n",
    "                yield xi\n",
    "                \n",
    "            elif mode == 'Y' or mode == 'y':\n",
    "                yield yi\n",
    "                \n",
    "            elif mode:\n",
    "                raise ValueError(\"mode must be 'X' or 'Y' or None\")\n",
    "\n",
    "            else:\n",
    "                yield xi, yi"
   ]
  },
  {
   "cell_type": "code",
   "execution_count": 6,
   "metadata": {},
   "outputs": [],
   "source": [
    "from tensorflow import keras\n",
    "\n",
    "from tensorflow.keras.models import Sequential\n",
    "from tensorflow.keras.layers import Dense, Dropout, Flatten, BatchNormalization\n",
    "from tensorflow.keras.layers import Conv1D, MaxPooling1D, GlobalAveragePooling1D, SpatialDropout1D\n",
    "from tensorflow.keras.activations import swish\n",
    "\n",
    "import tensorflow_addons as tfa\n",
    "\n",
    "top_8_accuracy = keras.metrics.TopKCategoricalAccuracy(k=8, name='top 8 accuracy')\n",
    "\n",
    "focal_loss = tfa.losses.SigmoidFocalCrossEntropy()"
   ]
  },
  {
   "cell_type": "code",
   "execution_count": 7,
   "metadata": {},
   "outputs": [],
   "source": [
    "model = Sequential()\n",
    "\n",
    "# first conv layer\n",
    "# sees .5s\n",
    "model.add(Conv1D(150, #num of features extracted from istream\n",
    "                 30, #number of frames filter can see at once\n",
    "                 activation=swish))\n",
    "\n",
    "model.add(SpatialDropout1D(.2))\n",
    "model.add(MaxPooling1D(pool_size=2))\n",
    "\n",
    "# sees 1s\n",
    "model.add(Conv1D(80,\n",
    "                 30,\n",
    "                 activation=swish))\n",
    "\n",
    "model.add(SpatialDropout1D(.2))\n",
    "model.add(MaxPooling1D(pool_size=2))\n",
    "\n",
    "# sees 2s\n",
    "model.add(Conv1D(80,\n",
    "                 30,\n",
    "                 activation=swish))\n",
    "\n",
    "# sees whole 30s, takes max pool\n",
    "model.add(GlobalAveragePooling1D())\n",
    "model.add(Flatten())\n",
    "\n",
    "model.add(Dense(80, activation=swish))\n",
    "\n",
    "model.add(Dropout(.2))\n",
    "\n",
    "model.add(Dense(80, activation=swish))\n",
    "\n",
    "model.add(Dropout(.2))\n",
    "\n",
    "# final output layer\n",
    "model.add(Dense(26, activation='softmax'))\n",
    "                \n",
    "model.compile(loss=focal_loss,\n",
    "              optimizer='adam',\n",
    "              metrics=['accuracy', top_8_accuracy])"
   ]
  },
  {
   "cell_type": "markdown",
   "metadata": {},
   "source": [
    "# Training"
   ]
  },
  {
   "cell_type": "code",
   "execution_count": 8,
   "metadata": {},
   "outputs": [],
   "source": [
    "data = data_generator(batch_size=100, skip=100000, step=101, repeat=True) # keep first 100000 clips as test data"
   ]
  },
  {
   "cell_type": "code",
   "execution_count": 9,
   "metadata": {},
   "outputs": [
    {
     "name": "stdout",
     "output_type": "stream",
     "text": [
      "Epoch 1/5\n",
      "500/500 [==============================] - 1420s 3s/step - loss: 0.3245 - accuracy: 0.5088 - top 8 accuracy: 0.9084\n",
      "Epoch 2/5\n",
      "500/500 [==============================] - 1414s 3s/step - loss: 0.2023 - accuracy: 0.7124 - top 8 accuracy: 0.9394\n",
      "Epoch 3/5\n",
      "500/500 [==============================] - 1409s 3s/step - loss: 0.1562 - accuracy: 0.7767 - top 8 accuracy: 0.9520\n",
      "Epoch 4/5\n",
      "500/500 [==============================] - 1426s 3s/step - loss: 0.1323 - accuracy: 0.8108 - top 8 accuracy: 0.9597\n",
      "Epoch 5/5\n",
      "500/500 [==============================] - 1420s 3s/step - loss: 0.1198 - accuracy: 0.8286 - top 8 accuracy: 0.9631\n",
      "\n",
      "Test score: 0.091\n",
      "Test accuracy: 87%\n",
      "Test test top 8 accuracy: 97%\n"
     ]
    }
   ],
   "source": [
    "# during fit process watch train and test error simultaneously\n",
    "model.fit(data, epochs=5, steps_per_epoch=500, verbose=1)\n",
    "\n",
    "score = model.evaluate(data, steps=50, verbose=0)\n",
    "print('\\nTest score:', round(score[0], 3))\n",
    "print(f'Test accuracy: {round(score[1]*100)}%')\n",
    "print(f'Test test top 8 accuracy: {round(score[2]*100)}%')  # this is the one we care about"
   ]
  },
  {
   "cell_type": "code",
   "execution_count": 79,
   "metadata": {},
   "outputs": [],
   "source": [
    "data = data_generator(batch_size=100, skip=100001, step=101, repeat=True) # keep first 100000 clips as test data"
   ]
  },
  {
   "cell_type": "code",
   "execution_count": 80,
   "metadata": {},
   "outputs": [
    {
     "name": "stdout",
     "output_type": "stream",
     "text": [
      "Epoch 1/5\n",
      "500/500 [==============================] - 1415s 3s/step - loss: 0.1074 - accuracy: 0.8440 - top 8 accuracy: 0.9662\n",
      "Epoch 2/5\n",
      "500/500 [==============================] - 1411s 3s/step - loss: 0.0990 - accuracy: 0.8552 - top 8 accuracy: 0.9683\n",
      "Epoch 3/5\n",
      "500/500 [==============================] - 1410s 3s/step - loss: 0.0940 - accuracy: 0.8616 - top 8 accuracy: 0.9676\n",
      "Epoch 4/5\n",
      "500/500 [==============================] - 1410s 3s/step - loss: 0.0862 - accuracy: 0.8713 - top 8 accuracy: 0.9701\n",
      "Epoch 5/5\n",
      "500/500 [==============================] - 1411s 3s/step - loss: 0.0840 - accuracy: 0.8749 - top 8 accuracy: 0.9709\n",
      "\n",
      "Test score: 0.066\n",
      "Test accuracy: 90%\n",
      "Test test top 8 accuracy: 97%\n"
     ]
    }
   ],
   "source": [
    "# during fit process watch train and test error simultaneously\n",
    "model.fit(data, epochs=5, steps_per_epoch=500, verbose=1)\n",
    "\n",
    "score = model.evaluate(data, steps=50, verbose=0)\n",
    "print('\\nTest score:', round(score[0], 3))\n",
    "print(f'Test accuracy: {round(score[1]*100)}%')\n",
    "print(f'Test test top 8 accuracy: {round(score[2]*100)}%')  # this is the one we care about"
   ]
  },
  {
   "cell_type": "code",
   "execution_count": 287,
   "metadata": {},
   "outputs": [],
   "source": [
    "data = data_generator(batch_size=100, skip=100002, step=101, repeat=True) # keep first 100000 clips as test data"
   ]
  },
  {
   "cell_type": "code",
   "execution_count": 146,
   "metadata": {},
   "outputs": [
    {
     "name": "stdout",
     "output_type": "stream",
     "text": [
      "Epoch 1/5\n",
      "500/500 [==============================] - 1412s 3s/step - loss: 0.0798 - accuracy: 0.8806 - top 8 accuracy: 0.9715\n",
      "Epoch 2/5\n",
      "500/500 [==============================] - 1412s 3s/step - loss: 0.0762 - accuracy: 0.8858 - top 8 accuracy: 0.9729\n",
      "Epoch 3/5\n",
      "500/500 [==============================] - 1408s 3s/step - loss: 0.0738 - accuracy: 0.8887 - top 8 accuracy: 0.9734\n",
      "Epoch 4/5\n",
      "500/500 [==============================] - 1411s 3s/step - loss: 0.0726 - accuracy: 0.8907 - top 8 accuracy: 0.9723\n",
      "Epoch 5/5\n",
      "500/500 [==============================] - 1411s 3s/step - loss: 0.0699 - accuracy: 0.8941 - top 8 accuracy: 0.9745\n",
      "\n",
      "Test score: 0.052\n",
      "Test accuracy: 92%\n",
      "Test test top 8 accuracy: 98%\n"
     ]
    }
   ],
   "source": [
    "# during fit process watch train and test error simultaneously\n",
    "model.fit(data, epochs=5, steps_per_epoch=500, verbose=1)\n",
    "\n",
    "score = model.evaluate(data, steps=50, verbose=0)\n",
    "print('\\nTest score:', round(score[0], 3))\n",
    "print(f'Test accuracy: {round(score[1]*100)}%')\n",
    "print(f'Test test top 8 accuracy: {round(score[2]*100)}%')  # this is the one we care about"
   ]
  },
  {
   "cell_type": "code",
   "execution_count": 148,
   "metadata": {},
   "outputs": [
    {
     "name": "stdout",
     "output_type": "stream",
     "text": [
      "500/500 [==============================] - 1407s 3s/step - loss: 0.0684 - accuracy: 0.8962 - top 8 accuracy: 0.9734\n",
      "\n",
      "Test score: 0.045\n",
      "Test accuracy: 92%\n",
      "Test test top 8 accuracy: 98%\n"
     ]
    }
   ],
   "source": [
    "# during fit process watch train and test error simultaneously\n",
    "model.fit(data, epochs=1, steps_per_epoch=500, verbose=1)\n",
    "\n",
    "score = model.evaluate(data, steps=50, verbose=0)\n",
    "print('\\nTest score:', round(score[0], 3))\n",
    "print(f'Test accuracy: {round(score[1]*100)}%')\n",
    "print(f'Test test top 8 accuracy: {round(score[2]*100)}%')  # this is the one we care about"
   ]
  },
  {
   "cell_type": "code",
   "execution_count": 149,
   "metadata": {},
   "outputs": [
    {
     "name": "stdout",
     "output_type": "stream",
     "text": [
      "500/500 [==============================] - 1407s 3s/step - loss: 0.0673 - accuracy: 0.8961 - top 8 accuracy: 0.9750\n",
      "\n",
      "Test score: 0.047\n",
      "Test accuracy: 92%\n",
      "Test test top 8 accuracy: 98%\n"
     ]
    }
   ],
   "source": [
    "# during fit process watch train and test error simultaneously\n",
    "model.fit(data, epochs=1, steps_per_epoch=500, verbose=1)\n",
    "\n",
    "score = model.evaluate(data, steps=50, verbose=0)\n",
    "print('\\nTest score:', round(score[0], 3))\n",
    "print(f'Test accuracy: {round(score[1]*100)}%')\n",
    "print(f'Test test top 8 accuracy: {round(score[2]*100)}%')  # this is the one we care about"
   ]
  },
  {
   "cell_type": "code",
   "execution_count": null,
   "metadata": {},
   "outputs": [],
   "source": [
    "data = data_generator(batch_size=100, skip=100002, step=11, repeat=True) # keep first 100000 clips as test data"
   ]
  },
  {
   "cell_type": "code",
   "execution_count": 288,
   "metadata": {},
   "outputs": [
    {
     "name": "stdout",
     "output_type": "stream",
     "text": [
      "Epoch 1/5\n",
      "500/500 [==============================] - 1220s 2s/step - loss: 0.0654 - accuracy: 0.8997 - top 8 accuracy: 0.9748\n",
      "Epoch 2/5\n",
      "500/500 [==============================] - 1223s 2s/step - loss: 0.0620 - accuracy: 0.9032 - top 8 accuracy: 0.9762\n",
      "Epoch 3/5\n",
      "500/500 [==============================] - 1219s 2s/step - loss: 0.0629 - accuracy: 0.9018 - top 8 accuracy: 0.9752\n",
      "Epoch 4/5\n",
      "500/500 [==============================] - 1212s 2s/step - loss: 0.0602 - accuracy: 0.9043 - top 8 accuracy: 0.9755\n",
      "Epoch 5/5\n",
      "500/500 [==============================] - 1221s 2s/step - loss: 0.0611 - accuracy: 0.9068 - top 8 accuracy: 0.9756\n",
      "\n",
      "Test score: 0.048\n",
      "Test accuracy: 92%\n",
      "Test test top 8 accuracy: 98%\n"
     ]
    }
   ],
   "source": [
    "# during fit process watch train and test error simultaneously\n",
    "model.fit(data, epochs=5, steps_per_epoch=500, verbose=1)\n",
    "\n",
    "score = model.evaluate(data, steps=50, verbose=0)\n",
    "print('\\nTest score:', round(score[0], 3))\n",
    "print(f'Test accuracy: {round(score[1]*100)}%')\n",
    "print(f'Test test top 8 accuracy: {round(score[2]*100)}%')  # this is the one we care about"
   ]
  },
  {
   "cell_type": "markdown",
   "metadata": {},
   "source": [
    "# Testing"
   ]
  },
  {
   "cell_type": "code",
   "execution_count": 290,
   "metadata": {},
   "outputs": [],
   "source": [
    "def get_conf_matrix(labels_as_id, predictions_as_id):\n",
    "    conf_matrix = np.zeros((27,27))\n",
    "    for i_real, i_pred in zip(labels_as_id, predictions_as_id):\n",
    "        conf_matrix[i_real, i_pred] += 1\n",
    "    return conf_matrix"
   ]
  },
  {
   "cell_type": "code",
   "execution_count": 291,
   "metadata": {},
   "outputs": [],
   "source": [
    "# X_test, Y_test = next(data_generator(batch_size=5000, step = 5))"
   ]
  },
  {
   "cell_type": "code",
   "execution_count": 292,
   "metadata": {},
   "outputs": [],
   "source": [
    "data_test = data_generator(clip_collection=collection,\n",
    "                           batch_size = 100,\n",
    "                           skip=None,\n",
    "                           step=7,\n",
    "                           repeat=True,\n",
    "                           limit=100000)\n",
    "\n",
    "X_test = data_generator(clip_collection=collection,\n",
    "                        batch_size = 100,\n",
    "                        skip=None,\n",
    "                        step=7,\n",
    "                        repeat=True,\n",
    "                        mode='x',\n",
    "                        limit=100000)\n",
    "\n",
    "Y_test = data_generator(clip_collection=collection,\n",
    "                        batch_size = 100,\n",
    "                        skip=None,\n",
    "                        step=7,\n",
    "                        repeat=True,\n",
    "                        mode='y',\n",
    "                        limit=100000)\n",
    "\n",
    "y_test = data_generator(clip_collection=collection,\n",
    "                        batch_size = 100,\n",
    "                        skip=None,\n",
    "                        step=7,\n",
    "                        repeat=True,\n",
    "                        mode='y',\n",
    "                        limit=100000,\n",
    "                        onehot=False)\n",
    "\n",
    "steps = 100"
   ]
  },
  {
   "cell_type": "code",
   "execution_count": 293,
   "metadata": {},
   "outputs": [],
   "source": [
    "# pred = np.argmax(model.predict(X_test, steps=steps), axis = 1)\n",
    "# labels = np.concatenate([next(y_test) for _ in range(steps)])"
   ]
  },
  {
   "cell_type": "code",
   "execution_count": 294,
   "metadata": {},
   "outputs": [
    {
     "name": "stdout",
     "output_type": "stream",
     "text": [
      "100/100 [==============================] - 70s 697ms/step - loss: 0.0446 - accuracy: 0.9254 - top 8 accuracy: 0.9797\n"
     ]
    }
   ],
   "source": [
    "score = model.evaluate(data_test, steps=steps, verbose=1)"
   ]
  },
  {
   "cell_type": "code",
   "execution_count": 295,
   "metadata": {},
   "outputs": [
    {
     "name": "stdout",
     "output_type": "stream",
     "text": [
      "\n",
      "Test score: 0.045\n",
      "Test accuracy: 93%\n",
      "Test test top 8 categorical accuracy: 98%\n"
     ]
    }
   ],
   "source": [
    "print('\\nTest score:', round(score[0], 3))\n",
    "print(f'Test accuracy: {round(score[1]*100)}%')\n",
    "print(f'Test test top 8 categorical accuracy: {round(score[2]*100)}%') "
   ]
  },
  {
   "cell_type": "code",
   "execution_count": 296,
   "metadata": {},
   "outputs": [
    {
     "name": "stdout",
     "output_type": "stream",
     "text": [
      "100/100 [==============================] - 70s 697ms/step\n"
     ]
    }
   ],
   "source": [
    "recalls = {k:0 for k in range(1,27)}\n",
    "precisions = {k:0 for k in range(1,27)}\n",
    "\n",
    "pred = np.argmax(model.predict(X_test, steps=steps, verbose=1), axis = 1)\n",
    "labels = np.concatenate([next(y_test) for _ in range(steps)])\n",
    "\n",
    "conf_matrix = get_conf_matrix(labels, pred)"
   ]
  },
  {
   "cell_type": "code",
   "execution_count": 297,
   "metadata": {},
   "outputs": [],
   "source": [
    "char_id = 0"
   ]
  },
  {
   "cell_type": "code",
   "execution_count": 323,
   "metadata": {},
   "outputs": [
    {
     "name": "stdout",
     "output_type": "stream",
     "text": [
      "GANONDORF\n",
      "Recall: 0.0%\n",
      " ------------------\n",
      "CAPTAIN_FALCON : 100.0\n",
      "FOX : 7.0\n",
      "LINK : 6.0\n",
      "YOSHI : 4.0\n",
      "GAME_AND_WATCH : 3.0\n",
      "JIGGLYPUFF : 3.0\n",
      "PIKACHU : 3.0\n",
      "SHEIK : 2.0\n",
      "PEACH : 1.0\n",
      "MARTH : 1.0\n",
      "FALCO : 1.0\n",
      "DONKEY_KONG : 0.0\n",
      "KIRBY : 0.0\n",
      "BOWSER : 0.0\n",
      "LUIGI : 0.0\n",
      "MARIO : 0.0\n",
      "GANONDORF : 0.0\n",
      "MEWTWO : 0.0\n",
      "NESS : 0.0\n",
      "PICHU : 0.0\n",
      "ICE_CLIMBERS : 0.0\n",
      "SAMUS : 0.0\n",
      "ZELDA : 0.0\n",
      "YOUNG_LINK : 0.0\n",
      "DR_MARIO : 0.0\n",
      "ROY : 0.0\n"
     ]
    }
   ],
   "source": [
    "char_id += 1\n",
    "row = conf_matrix[char_id, :]\n",
    "sorted_row_indices = np.argsort(row)[::-1]\n",
    "correct = conf_matrix[char_id, char_id]\n",
    "total = np.sum(row)\n",
    "recall = correct/total if total else 0\n",
    "recalls[char_id] = recall\n",
    "print(f'{char_from_id[char_id]}')\n",
    "print(f'Recall: {round(100*recall, 1)}%\\n ------------------')\n",
    "for i in sorted_row_indices:\n",
    "    if i > 0:\n",
    "        print(f'{char_from_id[i]} : {row[i]}')"
   ]
  },
  {
   "cell_type": "code",
   "execution_count": 324,
   "metadata": {},
   "outputs": [
    {
     "name": "stdout",
     "output_type": "stream",
     "text": [
      "FOX:\t97.9%\n",
      "SHEIK:\t97.5%\n",
      "MARTH:\t97.3%\n",
      "FALCO:\t97.3%\n",
      "PEACH:\t95.9%\n",
      "CAPTAIN_FALCON:\t95.1%\n",
      "PIKACHU:\t93.8%\n",
      "JIGGLYPUFF:\t93.1%\n",
      "SAMUS:\t91.3%\n",
      "YOSHI:\t86.3%\n",
      "ICE_CLIMBERS:\t84.5%\n",
      "LUIGI:\t81.9%\n",
      "LINK:\t71.7%\n",
      "DONKEY_KONG:\t68.2%\n",
      "DR_MARIO:\t60.0%\n",
      "GAME_AND_WATCH:\t51.6%\n",
      "YOUNG_LINK:\t47.4%\n",
      "KIRBY:\t30.0%\n",
      "NESS:\t22.7%\n",
      "ZELDA:\t20.9%\n",
      "ROY:\t19.2%\n",
      "MEWTWO:\t14.3%\n",
      "MARIO:\t5.0%\n",
      "BOWSER:\t0.0%\n",
      "PICHU:\t0.0%\n",
      "GANONDORF:\t0.0%\n"
     ]
    }
   ],
   "source": [
    "for i, acc in {k: v for k, v in sorted(recalls.items(), key=lambda item: -item[1])}.items():\n",
    "    print(f'{char_from_id[i]}:\\t{round(100*acc, 1)}%')"
   ]
  },
  {
   "cell_type": "code",
   "execution_count": 325,
   "metadata": {},
   "outputs": [],
   "source": [
    "char_id = 0"
   ]
  },
  {
   "cell_type": "code",
   "execution_count": 351,
   "metadata": {},
   "outputs": [
    {
     "name": "stdout",
     "output_type": "stream",
     "text": [
      "GANONDORF\n",
      "Precision: 0%\n",
      " ------------------\n",
      "GANONDORF : 0.0\n",
      "NESS : 0.0\n",
      "CAPTAIN_FALCON : 0.0\n",
      "DONKEY_KONG : 0.0\n",
      "FOX : 0.0\n",
      "GAME_AND_WATCH : 0.0\n",
      "KIRBY : 0.0\n",
      "BOWSER : 0.0\n",
      "LINK : 0.0\n",
      "LUIGI : 0.0\n",
      "MARIO : 0.0\n",
      "MARTH : 0.0\n",
      "MEWTWO : 0.0\n",
      "PEACH : 0.0\n",
      "PICHU : 0.0\n",
      "PIKACHU : 0.0\n",
      "ICE_CLIMBERS : 0.0\n",
      "JIGGLYPUFF : 0.0\n",
      "SAMUS : 0.0\n",
      "YOSHI : 0.0\n",
      "ZELDA : 0.0\n",
      "SHEIK : 0.0\n",
      "FALCO : 0.0\n",
      "YOUNG_LINK : 0.0\n",
      "DR_MARIO : 0.0\n",
      "ROY : 0.0\n"
     ]
    }
   ],
   "source": [
    "char_id += 1\n",
    "col = conf_matrix[:, char_id]\n",
    "sorted_col_indices = np.argsort(col)[::-1]\n",
    "correct = conf_matrix[char_id, char_id]\n",
    "total = np.sum(col)\n",
    "precision = correct/total if total else 0\n",
    "precisions[char_id] = precision\n",
    "print(f'{char_from_id[char_id]}')\n",
    "print(f'Precision: {round(100*precision, 1)}%\\n ------------------')\n",
    "for i in sorted_col_indices:\n",
    "    if i > 0:\n",
    "        print(f'{char_from_id[i]} : {col[i]}')"
   ]
  },
  {
   "cell_type": "code",
   "execution_count": 352,
   "metadata": {},
   "outputs": [
    {
     "name": "stdout",
     "output_type": "stream",
     "text": [
      "MARIO:\t100.0%\n",
      "MEWTWO:\t100.0%\n",
      "PEACH:\t99.1%\n",
      "FALCO:\t98.1%\n",
      "SAMUS:\t96.1%\n",
      "FOX:\t94.1%\n",
      "MARTH:\t93.6%\n",
      "ICE_CLIMBERS:\t92.2%\n",
      "DONKEY_KONG:\t91.8%\n",
      "LUIGI:\t90.5%\n",
      "SHEIK:\t90.0%\n",
      "JIGGLYPUFF:\t89.9%\n",
      "YOSHI:\t88.0%\n",
      "KIRBY:\t85.7%\n",
      "CAPTAIN_FALCON:\t85.4%\n",
      "ROY:\t83.3%\n",
      "PIKACHU:\t81.9%\n",
      "GAME_AND_WATCH:\t80.0%\n",
      "LINK:\t77.6%\n",
      "YOUNG_LINK:\t75.0%\n",
      "ZELDA:\t73.7%\n",
      "NESS:\t71.4%\n",
      "DR_MARIO:\t54.5%\n",
      "BOWSER:\t0.0%\n",
      "PICHU:\t0%\n",
      "GANONDORF:\t0%\n"
     ]
    }
   ],
   "source": [
    "for i, acc in {k: v for k, v in sorted(precisions.items(), key=lambda item: -item[1])}.items():\n",
    "    print(f'{char_from_id[i]}:\\t{round(100*acc, 1)}%')"
   ]
  },
  {
   "cell_type": "code",
   "execution_count": 286,
   "metadata": {},
   "outputs": [
    {
     "name": "stdout",
     "output_type": "stream",
     "text": [
      "Model: \"sequential\"\n",
      "_________________________________________________________________\n",
      "Layer (type)                 Output Shape              Param #   \n",
      "=================================================================\n",
      "conv1d (Conv1D)              (None, None, 150)         58650     \n",
      "_________________________________________________________________\n",
      "spatial_dropout1d (SpatialDr (None, None, 150)         0         \n",
      "_________________________________________________________________\n",
      "max_pooling1d (MaxPooling1D) (None, None, 150)         0         \n",
      "_________________________________________________________________\n",
      "conv1d_1 (Conv1D)            (None, None, 80)          360080    \n",
      "_________________________________________________________________\n",
      "spatial_dropout1d_1 (Spatial (None, None, 80)          0         \n",
      "_________________________________________________________________\n",
      "max_pooling1d_1 (MaxPooling1 (None, None, 80)          0         \n",
      "_________________________________________________________________\n",
      "conv1d_2 (Conv1D)            (None, None, 80)          192080    \n",
      "_________________________________________________________________\n",
      "global_average_pooling1d (Gl (None, 80)                0         \n",
      "_________________________________________________________________\n",
      "flatten (Flatten)            (None, 80)                0         \n",
      "_________________________________________________________________\n",
      "dense (Dense)                (None, 80)                6480      \n",
      "_________________________________________________________________\n",
      "dropout (Dropout)            (None, 80)                0         \n",
      "_________________________________________________________________\n",
      "dense_1 (Dense)              (None, 80)                6480      \n",
      "_________________________________________________________________\n",
      "dropout_1 (Dropout)          (None, 80)                0         \n",
      "_________________________________________________________________\n",
      "dense_2 (Dense)              (None, 26)                2106      \n",
      "=================================================================\n",
      "Total params: 625,876\n",
      "Trainable params: 625,876\n",
      "Non-trainable params: 0\n",
      "_________________________________________________________________\n"
     ]
    }
   ],
   "source": [
    "model.summary()"
   ]
  },
  {
   "cell_type": "code",
   "execution_count": 276,
   "metadata": {},
   "outputs": [],
   "source": [
    "import pandas as pd\n",
    "import seaborn as sn\n",
    "import matplotlib.pyplot as plt"
   ]
  },
  {
   "cell_type": "code",
   "execution_count": 353,
   "metadata": {},
   "outputs": [],
   "source": [
    "conf_df = pd.DataFrame(conf_matrix[1:,1:], index=id_from_char.keys(), columns=id_from_char.keys())"
   ]
  },
  {
   "cell_type": "code",
   "execution_count": 354,
   "metadata": {},
   "outputs": [
    {
     "data": {
      "text/plain": [
       "<AxesSubplot:>"
      ]
     },
     "execution_count": 354,
     "metadata": {},
     "output_type": "execute_result"
    },
    {
     "data": {
      "image/png": "[encoded data removed]",
      "text/plain": [
       "<Figure size 936x720 with 2 Axes>"
      ]
     },
     "metadata": {
      "needs_background": "light"
     },
     "output_type": "display_data"
    }
   ],
   "source": [
    "# sn.heatmap(conf_df, annot=False, mask=conf_df <= 0, cmap='viridis')\n",
    "fig, ax = plt.subplots(figsize=(13,10))\n",
    "sn.heatmap(np.log( 1 + conf_df), annot=False, ax=ax, square=False)"
   ]
  },
  {
   "cell_type": "code",
   "execution_count": 355,
   "metadata": {},
   "outputs": [],
   "source": [
    "model.save('models/cnn_model')"
   ]
  },
  {
   "cell_type": "code",
   "execution_count": null,
   "metadata": {},
   "outputs": [],
   "source": []
  },
  {
   "cell_type": "code",
   "execution_count": null,
   "metadata": {},
   "outputs": [],
   "source": []
  }
 ],
 "metadata": {
  "kernelspec": {
   "display_name": "Python 3",
   "language": "python",
   "name": "python3"
  },
  "language_info": {
   "codemirror_mode": {
    "name": "ipython",
    "version": 3
   },
   "file_extension": ".py",
   "mimetype": "text/x-python",
   "name": "python",
   "nbconvert_exporter": "python",
   "pygments_lexer": "ipython3",
   "version": "3.8.5"
  }
 },
 "nbformat": 4,
 "nbformat_minor": 4
}
