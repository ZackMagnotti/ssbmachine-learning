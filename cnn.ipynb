{
 "cells": [
  {
   "cell_type": "code",
   "execution_count": 1,
   "metadata": {},
   "outputs": [],
   "source": [
    "from src.get_from_mongo import get_data\n",
    "from sklearn.model_selection import train_test_split\n",
    "from pymongo import MongoClient\n",
    "import numpy as np\n",
    "import tensorflow as tf\n",
    "import pickle"
   ]
  },
  {
   "cell_type": "code",
   "execution_count": 2,
   "metadata": {},
   "outputs": [],
   "source": [
    "id_from_char = {\n",
    "    'CAPTAIN_FALCON' : 1 ,\n",
    "    'DONKEY_KONG'    : 2 ,\n",
    "    'FOX'            : 3 ,\n",
    "    'GAME_AND_WATCH' : 4 ,\n",
    "    'KIRBY'          : 5 ,\n",
    "    'BOWSER'         : 6 ,\n",
    "    'LINK'           : 7 ,\n",
    "    'LUIGI'          : 8 ,\n",
    "    'MARIO'          : 9 ,\n",
    "    'MARTH'          : 10 ,\n",
    "    'MEWTWO'         : 11 ,\n",
    "    'NESS'           : 12 ,\n",
    "    'PEACH'          : 13 ,\n",
    "    'PIKACHU'        : 14 ,\n",
    "    'ICE_CLIMBERS'   : 15 ,\n",
    "    'JIGGLYPUFF'     : 16 ,\n",
    "    'SAMUS'          : 17 ,\n",
    "    'YOSHI'          : 18 ,\n",
    "    'ZELDA'          : 19 ,\n",
    "    'SHEIK'          : 20 ,\n",
    "    'FALCO'          : 21 ,\n",
    "    'YOUNG_LINK'     : 22 ,\n",
    "    'DR_MARIO'       : 23 ,\n",
    "    'ROY'            : 24 ,\n",
    "    'PICHU'          : 25 ,\n",
    "    'GANONDORF'      : 26 ,\n",
    "}\n",
    "\n",
    "char_from_id = {v:k for k, v in id_from_char.items()}"
   ]
  },
  {
   "cell_type": "code",
   "execution_count": 3,
   "metadata": {},
   "outputs": [],
   "source": [
    "database_name = 'slippi'\n",
    "collection_name = 'melee_clips_30s'\n",
    "\n",
    "# Connect to the hosted MongoDB instance\n",
    "client = MongoClient('localhost', 27017)\n",
    "db = client[database_name]\n",
    "collection = db[collection_name]"
   ]
  },
  {
   "cell_type": "code",
   "execution_count": 4,
   "metadata": {},
   "outputs": [],
   "source": [
    "def data_generator(clip_collection=collection, # collection containing clips\n",
    "                   batch_size = 100,\n",
    "                   skip=None,\n",
    "                   step=1,\n",
    "                   repeat=False,\n",
    "                   repeat_offset=1):\n",
    "\n",
    "        cur = clip_collection.find()\n",
    "        \n",
    "        if skip:\n",
    "            cur.skip(skip)\n",
    "            \n",
    "        while cur.alive:\n",
    "            \n",
    "            xi = []\n",
    "            yi = []\n",
    "            \n",
    "            for _ in range(batch_size):\n",
    "                for _ in range(step):\n",
    "                    try:\n",
    "                        clip = next(cur)\n",
    "                        \n",
    "                    except StopIteration:\n",
    "                        if repeat is not None:\n",
    "                            skip += repeat_offset\n",
    "                            cur = clip_collection.find()\n",
    "                            cur.skip(skip)\n",
    "                            clip = next(cur)\n",
    "                        else:\n",
    "                            raise\n",
    "                            \n",
    "                xi.append(pickle.loads(clip['istream']).toarray())\n",
    "                yi.append(id_from_char[clip['character']])\n",
    "\n",
    "            Xi = np.stack(xi, axis=0)\n",
    "            Yi = tf.one_hot(yi, 26)\n",
    "\n",
    "            yield Xi, Yi"
   ]
  },
  {
   "cell_type": "code",
   "execution_count": 5,
   "metadata": {},
   "outputs": [
    {
     "data": {
      "text/plain": [
       "'\\n    TODO: finish this\\n'"
      ]
     },
     "execution_count": 5,
     "metadata": {},
     "output_type": "execute_result"
    }
   ],
   "source": [
    "'''\n",
    "    TODO: finish this\n",
    "'''\n",
    "\n",
    "# def class_weights (clip_collection=collection, # collection containing clips\n",
    "#                    skip=None,\n",
    "#                    step=11,\n",
    "#                    repeat=0,\n",
    "#                    repeat_offset=1):\n",
    "\n",
    "#         cur = clip_collection.find()\n",
    "        \n",
    "#         if skip:\n",
    "#             cur.skip(skip)\n",
    "            \n",
    "#         for \n",
    "            \n",
    "#         while cur.alive:\n",
    "            \n",
    "#             class_labels = []\n",
    "                \n",
    "#             for _ in range(step):\n",
    "#                 try:\n",
    "#                     clip = next(cur)\n",
    "                    \n",
    "#                 except StopIteration:\n",
    "#                     if repeat is not None:\n",
    "#                         skip += repeat_offset\n",
    "#                         cur = clip_collection.find()\n",
    "#                         cur.skip(skip)\n",
    "#                         clip = next(cur)\n",
    "#                     else:\n",
    "#                         raise\n",
    "                            \n",
    "#                 xi.append(pickle.loads(clip['istream']).toarray())\n",
    "#                 yi.append(id_from_char[clip['character']])\n",
    "\n",
    "#             Xi = np.stack(xi, axis=0)\n",
    "#             Yi = tf.one_hot(yi, 26)\n",
    "\n",
    "#             yield Xi, Yi"
   ]
  },
  {
   "cell_type": "code",
   "execution_count": 6,
   "metadata": {},
   "outputs": [],
   "source": [
    "from tensorflow import keras\n",
    "\n",
    "from tensorflow.keras.models import Sequential\n",
    "from tensorflow.keras.layers import Dense, Dropout, Flatten, BatchNormalization\n",
    "from tensorflow.keras.layers import Conv1D, MaxPooling1D, AveragePooling1D, SpatialDropout1D\n",
    "from tensorflow.keras.activations import swish\n",
    "\n",
    "import tensorflow_addons as tfa\n",
    "\n",
    "top_8_accuracy = keras.metrics.TopKCategoricalAccuracy(k=8, name='top 8 accuracy')\n",
    "\n",
    "focal_loss = tfa.losses.SigmoidFocalCrossEntropy()"
   ]
  },
  {
   "cell_type": "code",
   "execution_count": 7,
   "metadata": {},
   "outputs": [],
   "source": [
    "model = Sequential()\n",
    "\n",
    "# first conv layer\n",
    "# sees .5s\n",
    "model.add(Conv1D(150, #num of features extracted from istream\n",
    "                 15, #number of frames filter can see at once\n",
    "                 activation=swish))\n",
    "\n",
    "model.add(SpatialDropout1D(.5))\n",
    "model.add(MaxPooling1D(pool_size=2))\n",
    "\n",
    "# sees 1s\n",
    "model.add(Conv1D(100,\n",
    "                 15,\n",
    "                 activation=swish))\n",
    "\n",
    "model.add(SpatialDropout1D(.5))\n",
    "model.add(MaxPooling1D(pool_size=2))\n",
    "\n",
    "# sees 2s\n",
    "model.add(Conv1D(100,\n",
    "                 15,\n",
    "                 activation=swish))\n",
    "\n",
    "model.add(SpatialDropout1D(.5))\n",
    "model.add(MaxPooling1D(pool_size=3))\n",
    "\n",
    "# sees 6s\n",
    "model.add(Conv1D(80,\n",
    "                 15,\n",
    "                 activation=swish))\n",
    "\n",
    "model.add(SpatialDropout1D(.5))\n",
    "\n",
    "# sees whole 30s, takes avg pool\n",
    "model.add(BatchNormalization())\n",
    "model.add(MaxPooling1D(pool_size=15*5))\n",
    "model.add(Flatten())\n",
    "\n",
    "model.add(Dense(80, activation=swish))\n",
    "\n",
    "model.add(Dropout(.5))\n",
    "\n",
    "model.add(Dense(80, activation=swish))\n",
    "\n",
    "model.add(Dropout(.5))\n",
    "\n",
    "model.add(Dense(40, activation=swish))\n",
    "\n",
    "model.add(Dropout(.5))\n",
    "\n",
    "# final output layer\n",
    "model.add(Dense(26, activation='softmax'))\n",
    "                \n",
    "model.compile(loss=focal_loss,\n",
    "              optimizer='nadam',\n",
    "              metrics=['accuracy', top_8_accuracy])"
   ]
  },
  {
   "cell_type": "markdown",
   "metadata": {},
   "source": [
    "# Training"
   ]
  },
  {
   "cell_type": "code",
   "execution_count": 8,
   "metadata": {},
   "outputs": [],
   "source": [
    "data = data_generator(batch_size=50, skip=100003, step=199, repeat=True) # keep first 100000 clips as test data"
   ]
  },
  {
   "cell_type": "code",
   "execution_count": null,
   "metadata": {},
   "outputs": [
    {
     "name": "stdout",
     "output_type": "stream",
     "text": [
      "Epoch 1/5\n",
      "500/500 [==============================] - 1425s 3s/step - loss: 2.2888 - accuracy: 0.2536 - top 8 accuracy: 0.8536\n",
      "Epoch 2/5\n",
      "500/500 [==============================] - 1418s 3s/step - loss: 1.8615 - accuracy: 0.3656 - top 8 accuracy: 0.8916\n",
      "Epoch 3/5\n",
      "500/500 [==============================] - 1421s 3s/step - loss: 1.7132 - accuracy: 0.4096 - top 8 accuracy: 0.8966\n",
      "Epoch 4/5\n",
      "500/500 [==============================] - 1400s 3s/step - loss: 1.6013 - accuracy: 0.4476 - top 8 accuracy: 0.9053\n",
      "Epoch 5/5\n",
      "380/500 [=====================>........] - ETA: 5:50 - loss: 1.5310 - accuracy: 0.4828 - top 8 accuracy: 0.9073"
     ]
    }
   ],
   "source": [
    "# during fit process watch train and test error simultaneously\n",
    "model.fit(data, epochs=5, steps_per_epoch=500, verbose=1)\n",
    "\n",
    "score = model.evaluate(data, steps=50, verbose=0)\n",
    "print('\\nTest score:', round(score[0], 3))\n",
    "print(f'Test accuracy: {round(score[1]*100)}%')\n",
    "print(f'Test test top 8 accuracy: {round(score[2]*100)}%')  # this is the one we care about"
   ]
  },
  {
   "cell_type": "markdown",
   "metadata": {},
   "source": [
    "# Testing"
   ]
  },
  {
   "cell_type": "code",
   "execution_count": null,
   "metadata": {},
   "outputs": [],
   "source": [
    "def get_conf_matrix(labels_as_id, predictions_as_id):\n",
    "    conf_matrix = np.zeros((27,27))\n",
    "    for i_real, i_pred in zip(labels_as_id, predictions_as_id):\n",
    "        conf_matrix[i_real, i_pred] += 1\n",
    "    return conf_matrix"
   ]
  },
  {
   "cell_type": "code",
   "execution_count": null,
   "metadata": {},
   "outputs": [],
   "source": [
    "X_test, Y_test = next(data_generator(batch_size=5000, step = 5))"
   ]
  },
  {
   "cell_type": "code",
   "execution_count": null,
   "metadata": {},
   "outputs": [],
   "source": [
    "pred = np.argmax(model.predict(X_test), axis = 1)\n",
    "y_test = np.argmax(Y_test, axis = 1)"
   ]
  },
  {
   "cell_type": "code",
   "execution_count": null,
   "metadata": {},
   "outputs": [],
   "source": [
    "score = model.evaluate(X_test, Y_test, verbose=0)"
   ]
  },
  {
   "cell_type": "code",
   "execution_count": null,
   "metadata": {},
   "outputs": [],
   "source": [
    "print('\\nTest score:', round(score[0], 3))\n",
    "print(f'Test accuracy: {round(score[1]*100)}%')\n",
    "print(f'Test test top 8 categorical accuracy: {round(score[2]*100)}%') "
   ]
  },
  {
   "cell_type": "code",
   "execution_count": null,
   "metadata": {},
   "outputs": [],
   "source": [
    "recalls = {k:0 for k in range(1,27)}\n",
    "precisions = {k:0 for k in range(1,27)}\n",
    "conf_matrix = get_conf_matrix(y_test, pred)\n",
    "char_id = 0"
   ]
  },
  {
   "cell_type": "code",
   "execution_count": null,
   "metadata": {},
   "outputs": [],
   "source": [
    "char_id += 1\n",
    "row = conf_matrix[char_id, :]\n",
    "sorted_row_indices = np.argsort(row)[::-1]\n",
    "correct = conf_matrix[char_id, char_id]\n",
    "total = np.sum(row)\n",
    "recall = correct/total if total else 0\n",
    "recalls[char_id] = recall\n",
    "print(f'{char_from_id[char_id]}')\n",
    "print(f'Recall: {round(100*recall, 1)}%\\n ------------------')\n",
    "for i in sorted_row_indices:\n",
    "    if i > 0:\n",
    "        print(f'{char_from_id[i]} : {row[i]}')"
   ]
  },
  {
   "cell_type": "code",
   "execution_count": null,
   "metadata": {},
   "outputs": [],
   "source": [
    "for i, acc in {k: v for k, v in sorted(recalls.items(), key=lambda item: -item[1])}.items():\n",
    "    print(f'{char_from_id[i]}:\\t{round(100*acc, 1)}%')"
   ]
  },
  {
   "cell_type": "code",
   "execution_count": null,
   "metadata": {},
   "outputs": [],
   "source": [
    "char_id = 0"
   ]
  },
  {
   "cell_type": "code",
   "execution_count": null,
   "metadata": {},
   "outputs": [],
   "source": [
    "char_id += 1\n",
    "col = conf_matrix[:, char_id]\n",
    "sorted_col_indices = np.argsort(col)[::-1]\n",
    "correct = conf_matrix[char_id, char_id]\n",
    "total = np.sum(col)\n",
    "precision = correct/total if total else 0\n",
    "precisions[char_id] = precision\n",
    "print(f'{char_from_id[char_id]}')\n",
    "print(f'Precision: {round(100*precision, 1)}%\\n ------------------')\n",
    "for i in sorted_col_indices:\n",
    "    if i > 0:\n",
    "        print(f'{char_from_id[i]} : {col[i]}')"
   ]
  },
  {
   "cell_type": "code",
   "execution_count": null,
   "metadata": {},
   "outputs": [],
   "source": [
    "for i, acc in {k: v for k, v in sorted(precisions.items(), key=lambda item: -item[1])}.items():\n",
    "    print(f'{char_from_id[i]}:\\t{round(100*acc, 1)}%')"
   ]
  },
  {
   "cell_type": "code",
   "execution_count": null,
   "metadata": {},
   "outputs": [],
   "source": [
    "model.summary()"
   ]
  },
  {
   "cell_type": "markdown",
   "metadata": {},
   "source": []
  }
 ],
 "metadata": {
  "kernelspec": {
   "display_name": "Python 3",
   "language": "python",
   "name": "python3"
  },
  "language_info": {
   "codemirror_mode": {
    "name": "ipython",
    "version": 3
   },
   "file_extension": ".py",
   "mimetype": "text/x-python",
   "name": "python",
   "nbconvert_exporter": "python",
   "pygments_lexer": "ipython3",
   "version": "3.8.5"
  }
 },
 "nbformat": 4,
 "nbformat_minor": 4
}
