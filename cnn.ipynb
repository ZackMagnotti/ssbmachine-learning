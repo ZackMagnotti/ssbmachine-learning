{
 "cells": [
  {
   "cell_type": "code",
   "execution_count": 1,
   "metadata": {},
   "outputs": [],
   "source": [
    "from src.generator import data_generator, clip_generator, label_generator\n",
    "from src.util import characters, id_from_char, char_from_id\n",
    "from src.models import create_model\n",
    "\n",
    "from pymongo import MongoClient\n",
    "from tensorflow import keras\n",
    "\n",
    "import numpy as np\n",
    "import pickle"
   ]
  },
  {
   "cell_type": "code",
   "execution_count": 2,
   "metadata": {},
   "outputs": [
    {
     "name": "stdout",
     "output_type": "stream",
     "text": [
      "CAPTAIN_FALCON\n",
      "DONKEY_KONG\n",
      "FOX\n",
      "GAME_AND_WATCH\n",
      "KIRBY\n",
      "BOWSER\n",
      "LINK\n",
      "LUIGI\n",
      "MARIO\n",
      "MARTH\n",
      "MEWTWO\n",
      "NESS\n",
      "PEACH\n",
      "PIKACHU\n",
      "ICE_CLIMBERS\n",
      "JIGGLYPUFF\n",
      "SAMUS\n",
      "YOSHI\n",
      "ZELDA\n",
      "SHEIK\n",
      "FALCO\n",
      "YOUNG_LINK\n",
      "DR_MARIO\n",
      "ROY\n",
      "PICHU\n",
      "GANONDORF\n"
     ]
    }
   ],
   "source": [
    "for character in characters:\n",
    "    print(character)"
   ]
  },
  {
   "cell_type": "markdown",
   "metadata": {},
   "source": [
    "# The Model\n",
    "\n",
    "Source code for model creation is in src/models.py"
   ]
  },
  {
   "cell_type": "code",
   "execution_count": null,
   "metadata": {},
   "outputs": [],
   "source": [
    "# # to make a new model\n",
    "# model = create_model()"
   ]
  },
  {
   "cell_type": "code",
   "execution_count": 4,
   "metadata": {},
   "outputs": [],
   "source": [
    "# # to load the saved model\n",
    "# model = keras.models.load_model('models/cnn_model')\n",
    "# model.summary()"
   ]
  },
  {
   "cell_type": "markdown",
   "metadata": {},
   "source": [
    "# Testing"
   ]
  },
  {
   "cell_type": "code",
   "execution_count": 5,
   "metadata": {},
   "outputs": [],
   "source": [
    "database_name = 'slippi'\n",
    "collection_name = 'melee_clips_30s'\n",
    "\n",
    "# Connect to the hosted MongoDB instance\n",
    "client = MongoClient('localhost', 27017)\n",
    "db = client[database_name]\n",
    "collection = db[collection_name]"
   ]
  },
  {
   "cell_type": "code",
   "execution_count": 6,
   "metadata": {},
   "outputs": [],
   "source": [
    "batch_size = 100\n",
    "skip = None    # no skip because first 100k clips are test data\n",
    "step = 7       # to ensure that consecutive clips aren't from the same player and game\n",
    "repeat = True  # keep this as True, allows generator to loop through database infinitley\n",
    "limit = 100000 # only look at test data (first 100k clips)\n",
    "\n",
    "num_batches = 50"
   ]
  },
  {
   "cell_type": "code",
   "execution_count": 7,
   "metadata": {},
   "outputs": [],
   "source": [
    "data_test = data_generator(clip_collection=collection,\n",
    "                           batch_size = batch_size,\n",
    "                           skip=skip,\n",
    "                           step=step,\n",
    "                           repeat=repeat,\n",
    "                           limit=limit)\n",
    "\n",
    "X_test = clip_generator(clip_collection=collection,\n",
    "                        batch_size = batch_size,\n",
    "                        skip=skip,\n",
    "                        step=step,\n",
    "                        repeat=repeat,\n",
    "                        limit=limit)\n",
    "\n",
    "Y_test = label_generator(clip_collection=collection,\n",
    "                         batch_size = batch_size,\n",
    "                         skip=skip,\n",
    "                         step=step,\n",
    "                         repeat=repeat,\n",
    "                         limit=limit, \n",
    "                         onehot=True)\n",
    "\n",
    "y_test = label_generator(clip_collection=collection,\n",
    "                         batch_size = batch_size,\n",
    "                         skip=skip,\n",
    "                         step=step,\n",
    "                         repeat=repeat,\n",
    "                         limit=limit,\n",
    "                         onehot=False)"
   ]
  },
  {
   "cell_type": "code",
   "execution_count": 8,
   "metadata": {},
   "outputs": [
    {
     "name": "stdout",
     "output_type": "stream",
     "text": [
      "50/50 [==============================] - 34s 678ms/step - loss: 0.0418 - accuracy: 0.9346 - top 8 accuracy: 0.9808\n",
      "\n",
      "Test score: 0.042\n",
      "Test accuracy: 93%\n",
      "Test test top 8 categorical accuracy: 98%\n"
     ]
    }
   ],
   "source": [
    "score = model.evaluate(data_test, steps=num_batches, verbose=1)\n",
    "\n",
    "print('\\nTest score:', round(score[0], 3))\n",
    "print(f'Test accuracy: {round(score[1]*100)}%')\n",
    "print(f'Test test top 8 categorical accuracy: {round(score[2]*100)}%') "
   ]
  },
  {
   "cell_type": "markdown",
   "metadata": {},
   "source": [
    "# Confusion Matrix"
   ]
  },
  {
   "cell_type": "code",
   "execution_count": 9,
   "metadata": {},
   "outputs": [],
   "source": [
    "import pandas as pd\n",
    "import seaborn as sn\n",
    "import matplotlib.pyplot as plt"
   ]
  },
  {
   "cell_type": "code",
   "execution_count": 10,
   "metadata": {},
   "outputs": [],
   "source": [
    "def get_conf_matrix(labels_as_id, predictions_as_id):\n",
    "    conf_matrix = np.zeros((27,27))\n",
    "    for i_real, i_pred in zip(labels_as_id, predictions_as_id):\n",
    "        conf_matrix[i_real, i_pred] += 1\n",
    "    return conf_matrix"
   ]
  },
  {
   "cell_type": "code",
   "execution_count": 11,
   "metadata": {},
   "outputs": [
    {
     "name": "stdout",
     "output_type": "stream",
     "text": [
      "50/50 [==============================] - 34s 685ms/step\n"
     ]
    }
   ],
   "source": [
    "recalls = {k:0 for k in range(1,27)}\n",
    "precisions = {k:0 for k in range(1,27)}\n",
    "\n",
    "pred = np.argmax(model.predict(X_test, steps=num_batches, verbose=1), axis = 1)\n",
    "labels = np.concatenate([next(y_test) for _ in range(num_batches)])\n",
    "\n",
    "conf_matrix = get_conf_matrix(labels, pred)\n",
    "conf_df = pd.DataFrame(conf_matrix[1:,1:], index=characters, columns=characters)"
   ]
  },
  {
   "cell_type": "code",
   "execution_count": 12,
   "metadata": {},
   "outputs": [
    {
     "data": {
      "text/plain": [
       "<AxesSubplot:>"
      ]
     },
     "execution_count": 12,
     "metadata": {},
     "output_type": "execute_result"
    },
    {
     "data": {
      "image/png": "[encoded data removed]",
      "text/plain": [
       "<Figure size 936x720 with 2 Axes>"
      ]
     },
     "metadata": {
      "needs_background": "light"
     },
     "output_type": "display_data"
    }
   ],
   "source": [
    "# sn.heatmap(conf_df, annot=False, mask=conf_df <= 0, cmap='viridis')\n",
    "fig, ax = plt.subplots(figsize=(13,10))\n",
    "sn.heatmap(np.log(1 + conf_df), annot=False, ax=ax, square=False)"
   ]
  },
  {
   "cell_type": "markdown",
   "metadata": {},
   "source": [
    "# Training"
   ]
  },
  {
   "cell_type": "code",
   "execution_count": null,
   "metadata": {},
   "outputs": [],
   "source": [
    "database_name = 'slippi'\n",
    "collection_name = 'melee_clips_30s'\n",
    "\n",
    "# Connect to the hosted MongoDB instance\n",
    "client = MongoClient('localhost', 27017)\n",
    "db = client[database_name]\n",
    "collection = db[collection_name]"
   ]
  },
  {
   "cell_type": "code",
   "execution_count": null,
   "metadata": {},
   "outputs": [],
   "source": [
    "# skip first 100k clips and save them as test data\n",
    "data = data_generator(collection, batch_size=100, skip=100000, step=11, repeat=True)"
   ]
  },
  {
   "cell_type": "code",
   "execution_count": null,
   "metadata": {},
   "outputs": [],
   "source": [
    "model.fit(data, epochs=10, steps_per_epoch=500, verbose=1)\n",
    "\n",
    "score = model.evaluate(data, steps=50, verbose=0)\n",
    "print('\\nTest score:', round(score[0], 3))\n",
    "print(f'Test accuracy: {round(score[1]*100)}%')\n",
    "print(f'Test test top 8 accuracy: {round(score[2]*100)}%')"
   ]
  },
  {
   "cell_type": "code",
   "execution_count": null,
   "metadata": {},
   "outputs": [],
   "source": [
    "# model.save('models/cnn_model')"
   ]
  },
  {
   "cell_type": "code",
   "execution_count": null,
   "metadata": {},
   "outputs": [],
   "source": []
  }
 ],
 "metadata": {
  "kernelspec": {
   "display_name": "Python 3",
   "language": "python",
   "name": "python3"
  },
  "language_info": {
   "codemirror_mode": {
    "name": "ipython",
    "version": 3
   },
   "file_extension": ".py",
   "mimetype": "text/x-python",
   "name": "python",
   "nbconvert_exporter": "python",
   "pygments_lexer": "ipython3",
   "version": "3.8.5"
  }
 },
 "nbformat": 4,
 "nbformat_minor": 4
}
