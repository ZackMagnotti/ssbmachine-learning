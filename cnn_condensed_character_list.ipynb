{
 "cells": [
  {
   "cell_type": "code",
   "execution_count": 1,
   "metadata": {},
   "outputs": [],
   "source": [
    "from src.get_from_mongo import get_data\n",
    "from sklearn.model_selection import train_test_split\n",
    "from pymongo import MongoClient\n",
    "import numpy as np\n",
    "import tensorflow as tf\n",
    "import pickle"
   ]
  },
  {
   "cell_type": "code",
   "execution_count": 2,
   "metadata": {},
   "outputs": [],
   "source": [
    "id_from_char = {\n",
    "    'CAPTAIN_FALCON' : 1,\n",
    "    'FOX'            : 2,\n",
    "    'MARTH'          : 3,\n",
    "    'PEACH'          : 4,\n",
    "    'PIKACHU'        : 5,\n",
    "    'ICE_CLIMBERS'   : 6,\n",
    "    'JIGGLYPUFF'     : 7,\n",
    "    'SAMUS'          : 8,\n",
    "    'SHEIK'          : 9,\n",
    "    'FALCO'          : 10,\n",
    "    'DR_MARIO'       : 11,\n",
    "    'GANONDORF'      : 12,\n",
    "}\n",
    "\n",
    "char_from_id = {v:k for k, v in id_from_char.items()}"
   ]
  },
  {
   "cell_type": "code",
   "execution_count": 3,
   "metadata": {},
   "outputs": [],
   "source": [
    "database_name = 'slippi'\n",
    "collection_name = 'melee_public_slp_dataset'\n",
    "\n",
    "# Connect to the hosted MongoDB instance\n",
    "client = MongoClient('localhost', 27017)\n",
    "db = client[database_name]\n",
    "collection = db[collection_name]"
   ]
  },
  {
   "cell_type": "code",
   "execution_count": 4,
   "metadata": {},
   "outputs": [
    {
     "name": "stdout",
     "output_type": "stream",
     "text": [
      "Documents retrieved: 6000\n"
     ]
    }
   ],
   "source": [
    "query = {\"$or\":[\n",
    "    {\"character\":'CAPTAIN_FALCON'}, \n",
    "    {\"character\":'FOX'}, \n",
    "    {\"character\":'MARTH'}, \n",
    "    {\"character\":'PEACH'}, \n",
    "    {\"character\":'PIKACHU'}, \n",
    "    {\"character\":'ICE_CLIMBERS'}, \n",
    "    {\"character\":'JIGGLYPUFF'}, \n",
    "    {\"character\":'SAMUS'}, \n",
    "    {\"character\":'SHEIK'}, \n",
    "    {\"character\":'FALCO'}, \n",
    "    {\"character\":'DR_MARIO'}, \n",
    "    {\"character\":'GANONDORF'}, \n",
    "]}\n",
    "bytestreams, characters = get_data(database_name, \n",
    "                                   collection_name, \n",
    "                                   query=query,\n",
    "                                   get=6000)\n",
    "print(f'Documents retrieved: {len(characters)}')"
   ]
  },
  {
   "cell_type": "code",
   "execution_count": 5,
   "metadata": {},
   "outputs": [],
   "source": [
    "x = []\n",
    "y = []\n",
    "for bytestream, character in zip(bytestreams, characters):\n",
    "    istream = pickle.loads(bytestream).toarray()\n",
    "    T = 30     # clip length in seconds\n",
    "    F = T * 60 # clip length in frames\n",
    "    f = 0      # clip starting frame\n",
    "    while f+F < istream.shape[0]:\n",
    "        y.append(id_from_char[character])\n",
    "        x.append(istream[f:f+F])\n",
    "        f += F\n",
    "\n",
    "X = np.stack(x, axis=0)\n",
    "Y = tf.one_hot(y, 13)"
   ]
  },
  {
   "cell_type": "code",
   "execution_count": 6,
   "metadata": {},
   "outputs": [],
   "source": [
    "X_train, X_test, y_train, y_test = train_test_split(X, y, test_size=.3)\n",
    "Y_train = tf.one_hot(y_train, 13)\n",
    "Y_test  = tf.one_hot(y_test, 13)"
   ]
  },
  {
   "cell_type": "code",
   "execution_count": null,
   "metadata": {},
   "outputs": [],
   "source": []
  },
  {
   "cell_type": "code",
   "execution_count": null,
   "metadata": {},
   "outputs": [],
   "source": []
  },
  {
   "cell_type": "code",
   "execution_count": 7,
   "metadata": {},
   "outputs": [],
   "source": [
    "from tensorflow import keras\n",
    "\n",
    "from tensorflow.keras.models import Sequential\n",
    "from tensorflow.keras.layers import Dense, Dropout, Flatten, InputLayer\n",
    "from tensorflow.keras.layers import Conv1D, MaxPooling1D"
   ]
  },
  {
   "cell_type": "code",
   "execution_count": 8,
   "metadata": {},
   "outputs": [],
   "source": [
    "model = Sequential()\n",
    "\n",
    "model.add(InputLayer(input_shape=X.shape[1:]))\n",
    "\n",
    "model.add(Dropout(.2))\n",
    "\n",
    "# first conv layer\n",
    "model.add(Conv1D(100, #num of features extracted from istream\n",
    "                 60, #number of frames filter can see at once\n",
    "                 activation='relu'))\n",
    "\n",
    "model.add(Dropout(.2))\n",
    "\n",
    "model.add(MaxPooling1D(pool_size=5))\n",
    "\n",
    "model.add(Conv1D(80,\n",
    "                 30,\n",
    "                 activation='relu'))\n",
    "\n",
    "model.add(MaxPooling1D(pool_size=5))\n",
    "\n",
    "model.add(Conv1D(60,\n",
    "                 15,\n",
    "                 activation='relu'))\n",
    "\n",
    "model.add(MaxPooling1D(pool_size=5))\n",
    "\n",
    "model.add(Flatten())\n",
    "\n",
    "model.add(Dense(40, activation='relu'))\n",
    "\n",
    "model.add(Dropout(.2))\n",
    "\n",
    "# final output layer\n",
    "model.add(Dense(13, activation='softmax'))\n",
    "                \n",
    "model.compile(loss='categorical_crossentropy',\n",
    "              optimizer='adam',\n",
    "              metrics=['accuracy'])"
   ]
  },
  {
   "cell_type": "code",
   "execution_count": 9,
   "metadata": {},
   "outputs": [
    {
     "name": "stdout",
     "output_type": "stream",
     "text": [
      "Model: \"sequential\"\n",
      "_________________________________________________________________\n",
      "Layer (type)                 Output Shape              Param #   \n",
      "=================================================================\n",
      "dropout (Dropout)            (None, 1800, 13)          0         \n",
      "_________________________________________________________________\n",
      "conv1d (Conv1D)              (None, 1741, 100)         78100     \n",
      "_________________________________________________________________\n",
      "dropout_1 (Dropout)          (None, 1741, 100)         0         \n",
      "_________________________________________________________________\n",
      "max_pooling1d (MaxPooling1D) (None, 348, 100)          0         \n",
      "_________________________________________________________________\n",
      "conv1d_1 (Conv1D)            (None, 319, 80)           240080    \n",
      "_________________________________________________________________\n",
      "max_pooling1d_1 (MaxPooling1 (None, 63, 80)            0         \n",
      "_________________________________________________________________\n",
      "conv1d_2 (Conv1D)            (None, 49, 60)            72060     \n",
      "_________________________________________________________________\n",
      "max_pooling1d_2 (MaxPooling1 (None, 9, 60)             0         \n",
      "_________________________________________________________________\n",
      "flatten (Flatten)            (None, 540)               0         \n",
      "_________________________________________________________________\n",
      "dense (Dense)                (None, 40)                21640     \n",
      "_________________________________________________________________\n",
      "dropout_2 (Dropout)          (None, 40)                0         \n",
      "_________________________________________________________________\n",
      "dense_1 (Dense)              (None, 13)                533       \n",
      "=================================================================\n",
      "Total params: 412,413\n",
      "Trainable params: 412,413\n",
      "Non-trainable params: 0\n",
      "_________________________________________________________________\n"
     ]
    }
   ],
   "source": [
    "model.summary()"
   ]
  },
  {
   "cell_type": "code",
   "execution_count": 10,
   "metadata": {},
   "outputs": [
    {
     "name": "stdout",
     "output_type": "stream",
     "text": [
      "Epoch 1/5\n",
      "207/207 [==============================] - 236s 1s/step - loss: 1.6964 - accuracy: 0.4081 - val_loss: 1.1874 - val_accuracy: 0.6294\n",
      "Epoch 2/5\n",
      "207/207 [==============================] - 237s 1s/step - loss: 0.9977 - accuracy: 0.6848 - val_loss: 0.8060 - val_accuracy: 0.7429\n",
      "Epoch 3/5\n",
      "207/207 [==============================] - 237s 1s/step - loss: 0.7480 - accuracy: 0.7684 - val_loss: 0.6842 - val_accuracy: 0.7958\n",
      "Epoch 4/5\n",
      "207/207 [==============================] - 236s 1s/step - loss: 0.6331 - accuracy: 0.8067 - val_loss: 0.5962 - val_accuracy: 0.8197\n",
      "Epoch 5/5\n",
      "207/207 [==============================] - 236s 1s/step - loss: 0.5428 - accuracy: 0.8311 - val_loss: 0.5101 - val_accuracy: 0.8442\n",
      "\n",
      "Test score: 0.51\n",
      "Test accuracy: 84%\n"
     ]
    }
   ],
   "source": [
    "# during fit process watch train and test error simultaneously\n",
    "model.fit(X_train, Y_train, batch_size=100, epochs=5,\n",
    "          verbose=1, validation_data=(X_test, Y_test))\n",
    "\n",
    "score = model.evaluate(X_test, Y_test, verbose=0)\n",
    "print('\\nTest score:', round(score[0], 3))\n",
    "print(f'Test accuracy: {round(score[1]*100)}%')  # this is the one we care about"
   ]
  },
  {
   "cell_type": "code",
   "execution_count": 15,
   "metadata": {},
   "outputs": [],
   "source": [
    "def get_conf_matrix(labels_as_id, predictions_as_id):\n",
    "    conf_matrix = np.zeros((13,13))\n",
    "    for i_real, i_pred in zip(labels_as_id, predictions_as_id):\n",
    "        conf_matrix[i_real, i_pred] += 1\n",
    "    return conf_matrix"
   ]
  },
  {
   "cell_type": "code",
   "execution_count": 12,
   "metadata": {},
   "outputs": [],
   "source": [
    "pred = np.argmax(model.predict(X_test), axis = 1)"
   ]
  },
  {
   "cell_type": "code",
   "execution_count": 16,
   "metadata": {},
   "outputs": [],
   "source": [
    "conf_matrix = get_conf_matrix(y_test, pred)\n",
    "char_id = 0"
   ]
  },
  {
   "cell_type": "code",
   "execution_count": 28,
   "metadata": {},
   "outputs": [
    {
     "name": "stdout",
     "output_type": "stream",
     "text": [
      "GANONDORF : prediction frequencies\n",
      "-----------------\n",
      "CAPTAIN_FALCON : 82.0\n",
      "MARTH : 18.0\n",
      "SHEIK : 5.0\n",
      "SAMUS : 3.0\n",
      "FOX : 3.0\n",
      "FALCO : 2.0\n",
      "GANONDORF : 0.0\n",
      "DR_MARIO : 0.0\n",
      "JIGGLYPUFF : 0.0\n",
      "ICE_CLIMBERS : 0.0\n",
      "PIKACHU : 0.0\n",
      "PEACH : 0.0\n"
     ]
    }
   ],
   "source": [
    "char_id += 1\n",
    "row = conf_matrix[char_id, :]\n",
    "sorted_row_indices = np.argsort(row)[::-1]\n",
    "print(f'{char_from_id[char_id]} : prediction frequencies\\n-----------------')\n",
    "for i in sorted_row_indices:\n",
    "    if i > 0:\n",
    "        print(f'{char_from_id[i]} : {row[i]}')"
   ]
  },
  {
   "cell_type": "code",
   "execution_count": 29,
   "metadata": {},
   "outputs": [],
   "source": [
    "def test(i, ii):\n",
    "    character = characters[i]\n",
    "    istream = pickle.loads(bytestreams[i])\n",
    "\n",
    "    y_test = []\n",
    "    x_test = []\n",
    "    f=0\n",
    "\n",
    "    while f+F < istream.shape[0]:\n",
    "        y_test.append(id_from_char[character])\n",
    "        x_test.append(istream[f:f+F])\n",
    "        f += F\n",
    "        \n",
    "    try:\n",
    "        d = x_test[ii].toarray()\n",
    "    except IndexError:\n",
    "        test(i, ii-1)\n",
    "        return\n",
    "    \n",
    "    pred = char_from_id[np.argmax(model.predict(d.reshape(1,d.shape[0],d.shape[1])))]\n",
    "\n",
    "\n",
    "    print(f'''\n",
    "    Actual Character:\n",
    "    ---------------\n",
    "    {char_from_id[y_test[ii]]}\n",
    "    ''')\n",
    "\n",
    "    print(f'''\n",
    "    Detected Character:\n",
    "    ---------------\n",
    "    {pred}\n",
    "    ''')"
   ]
  },
  {
   "cell_type": "code",
   "execution_count": null,
   "metadata": {},
   "outputs": [],
   "source": [
    "# i = 602 # use this to check different entries\n",
    "i = 630 # use this to check different entries\n",
    "ii = 3 # use this to look at different clips from that entry"
   ]
  },
  {
   "cell_type": "code",
   "execution_count": null,
   "metadata": {},
   "outputs": [],
   "source": [
    "print(characters[i], '\\n', f'i={i}')"
   ]
  },
  {
   "cell_type": "code",
   "execution_count": null,
   "metadata": {},
   "outputs": [],
   "source": [
    "test(i, ii)\n",
    "i+=1"
   ]
  },
  {
   "cell_type": "code",
   "execution_count": null,
   "metadata": {},
   "outputs": [],
   "source": [
    "i-=1"
   ]
  },
  {
   "cell_type": "code",
   "execution_count": null,
   "metadata": {},
   "outputs": [],
   "source": []
  }
 ],
 "metadata": {
  "kernelspec": {
   "display_name": "Python 3",
   "language": "python",
   "name": "python3"
  },
  "language_info": {
   "codemirror_mode": {
    "name": "ipython",
    "version": 3
   },
   "file_extension": ".py",
   "mimetype": "text/x-python",
   "name": "python",
   "nbconvert_exporter": "python",
   "pygments_lexer": "ipython3",
   "version": "3.8.5"
  }
 },
 "nbformat": 4,
 "nbformat_minor": 4
}
